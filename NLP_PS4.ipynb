{
 "cells": [
  {
   "cell_type": "code",
   "execution_count": 1,
   "metadata": {},
   "outputs": [
    {
     "name": "stderr",
     "output_type": "stream",
     "text": [
      "Using TensorFlow backend.\n"
     ]
    }
   ],
   "source": [
    "import os\n",
    "import operator\n",
    "import random\n",
    "import numpy as np\n",
    "import pandas as pd\n",
    "import csv\n",
    "import re\n",
    "\n",
    "from itertools import chain, islice\n",
    "from functools import partial\n",
    "\n",
    "import nltk\n",
    "from nltk.tokenize import word_tokenize\n",
    "\n",
    "import sklearn\n",
    "from sklearn.model_selection import train_test_split\n",
    "from sklearn.feature_extraction.text import TfidfVectorizer\n",
    "from sklearn.metrics import classification_report, accuracy_score, precision_recall_curve, precision_recall_fscore_support\n",
    "from sklearn.utils.fixes import signature\n",
    "\n",
    "import keras\n",
    "from keras.models import Model\n",
    "from keras.preprocessing.text import Tokenizer\n",
    "from keras.preprocessing.sequence import pad_sequences\n",
    "from keras.models import Sequential\n",
    "from keras.layers import InputLayer, Embedding, Flatten, Dense, Activation, Dropout, BatchNormalization, Input, Bidirectional, LSTM, GRU, TimeDistributed, concatenate\n",
    "from keras.callbacks import EarlyStopping\n",
    "from keras import backend as K\n",
    "\n",
    "import tensorflow as tf\n",
    "\n",
    "import matplotlib.pyplot as plt\n",
    "from pprint import pprint\n",
    "\n",
    "import gc\n",
    "from numpy import array"
   ]
  },
  {
   "cell_type": "code",
   "execution_count": 2,
   "metadata": {},
   "outputs": [],
   "source": [
    "def set_seed(seed):\n",
    "    random.seed(seed)\n",
    "    np.random.seed(seed)\n",
    "    tf.set_random_seed(seed)\n",
    "    \n",
    "set_seed(1992)"
   ]
  },
  {
   "cell_type": "markdown",
   "metadata": {},
   "source": [
    "<h2>Preprocessing</h2>\n",
    "\n",
    "We operate on a subset of two datasets:\n",
    "<ol>\n",
    "    <li>\n",
    "        <h4>LingSpam Dataset (Bare)</h4>\n",
    "        <p>\n",
    "            This is the dataset that we used in the 2nd assignment.\n",
    "            It consists of a few large emails, appriximately 1000 messages with an average of 3500 words.\n",
    "    </li>\n",
    "    <li>\n",
    "        <h4>Kaggles Spam/Ham Dataset</h4>\n",
    "        <p>\n",
    "            This dataset is bigger, consisting of approximately 5500 messages.\n",
    "            Each messagehowever is quiet short and a lot of jargon is used in them.\n",
    "        </p>\n",
    "    </li>\n",
    "</ol>"
   ]
  },
  {
   "cell_type": "code",
   "execution_count": 3,
   "metadata": {},
   "outputs": [],
   "source": [
    "lingspam_data_path = \"/media/spiros/Data/lingspam_public/bare/\"\n",
    "kaggle_data_path   = \"Kaggle/kaggle_spam_data.csv\""
   ]
  },
  {
   "cell_type": "code",
   "execution_count": 4,
   "metadata": {},
   "outputs": [],
   "source": [
    "def load_lingspam_data(path):\n",
    "\n",
    "    ham, spam = [], []\n",
    "\n",
    "    for dirpath, _, filenames in os.walk(path):\n",
    "        for filename in filenames:\n",
    "            with open(os.path.join(dirpath, filename), encoding=\"utf8\") as file:\n",
    "                message = file.read()\n",
    "            if filename.startswith(\"spm\"):\n",
    "                spam.append(message)\n",
    "            else:\n",
    "                ham.append(message)\n",
    "\n",
    "    return ham, spam"
   ]
  },
  {
   "cell_type": "code",
   "execution_count": 5,
   "metadata": {},
   "outputs": [],
   "source": [
    "def load_kaggle_data(path):\n",
    "    \n",
    "    ham, spam = [], []\n",
    "    \n",
    "    pattern = re.compile(\"\\\"?(?P<Category>spam|ham),(?:\\\"\\\")?(?P<Text>.*?)(?:\\\"\\\"\\\")?;+\")\n",
    "    \n",
    "    with open(path, 'r', encoding=\"utf8\") as file:\n",
    "        for line in file.readlines():\n",
    "            match = pattern.match(line)\n",
    "            if match:\n",
    "                text = \" \".join(word_tokenize(match[\"Text\"]))\n",
    "                if match[\"Category\"].startswith(\"s\"):\n",
    "                    spam.append(text)\n",
    "                else:\n",
    "                    ham.append(text)\n",
    "            \n",
    "    return ham, spam"
   ]
  },
  {
   "cell_type": "code",
   "execution_count": 6,
   "metadata": {},
   "outputs": [
    {
     "name": "stdout",
     "output_type": "stream",
     "text": [
      "Ham: 2412, Spam: 481\n"
     ]
    }
   ],
   "source": [
    "dataset = \"lingspam\" # Specify the dataset to be loaded: kaggle, lingspam, or both\n",
    "\n",
    "ham, spam = \\\n",
    "    load_kaggle_data(kaggle_data_path) if dataset.startswith(\"k\") else (\n",
    "        load_lingspam_data(lingspam_data_path) if dataset.startswith(\"l\") else\n",
    "        tuple(map(operator.concat, load_kaggle_data(kaggle_data_path), load_lingspam_data(lingspam_data_path)))\n",
    "    )\n",
    " \n",
    "print(\"Ham: {}, Spam: {}\".format(len(ham), len(spam)))"
   ]
  },
  {
   "cell_type": "code",
   "execution_count": 7,
   "metadata": {},
   "outputs": [],
   "source": [
    "def data_split(x, y, sizes=(0.1, 0.1)):\n",
    "    \n",
    "    data_size = len(x)\n",
    "    splits = []\n",
    "    \n",
    "    for size in sizes:\n",
    "        x, test_x, y, test_y = train_test_split(x, y, test_size=int(data_size*size), shuffle=True)\n",
    "        splits.append((test_x, test_y))\n",
    "    splits.append((x, y))\n",
    "    \n",
    "    return splits"
   ]
  },
  {
   "cell_type": "code",
   "execution_count": 8,
   "metadata": {},
   "outputs": [
    {
     "name": "stdout",
     "output_type": "stream",
     "text": [
      "Split Sizes: [2084, 231, 578]\n"
     ]
    }
   ],
   "source": [
    "x = ham + spam\n",
    "y = [0] * len(ham) + [1] * len(spam)\n",
    "\n",
    "(test_x, test_y), (valid_x, valid_y), (train_x, train_y) = data_split(x, y, sizes=(0.2, 0.08))\n",
    "\n",
    "print(\"Split Sizes: {}\".format(list(map(len, (train_x, valid_x, test_x)))))"
   ]
  },
  {
   "cell_type": "markdown",
   "metadata": {},
   "source": [
    "<h3>Tokenizer Initialization</h3>\n",
    "<p>We consider two tokenizers. <i>Tokenizer_TRAIN_GLB</i> is fitted in all tokens onservable in the training set. <i>Tokenizer_UNK</i> is fitted in a subset of the training sequences in order to simulate the unobservability of a number of tokens in the validation data.</p>"
   ]
  },
  {
   "cell_type": "code",
   "execution_count": 9,
   "metadata": {},
   "outputs": [
    {
     "name": "stdout",
     "output_type": "stream",
     "text": [
      "Tokens discovered by Tokenizer_GLB: 51439\n"
     ]
    }
   ],
   "source": [
    "tokenizer_GLB = Tokenizer(num_words=None, lower=True, oov_token=\"*UNK*\")\n",
    "tokenizer_GLB.fit_on_texts(train_x)\n",
    "\n",
    "print(\"Tokens discovered by Tokenizer_GLB: {}\".format(len(tokenizer_GLB.word_index)))"
   ]
  },
  {
   "cell_type": "code",
   "execution_count": 10,
   "metadata": {},
   "outputs": [
    {
     "name": "stdout",
     "output_type": "stream",
     "text": [
      "Tokens discovered by Tokenizer_UNK: 48507\n"
     ]
    }
   ],
   "source": [
    "tokenizer_UNK = Tokenizer(num_words=None, lower=True, oov_token=\"*UNK*\")\n",
    "tokenizer_UNK.fit_on_texts(random.sample(train_x, len(train_x) - len(valid_x))) # We want the number of unknown words in the train set to be approximately the same as in the validation set.\n",
    "\n",
    "print(\"Tokens discovered by Tokenizer_UNK: {}\".format(len(tokenizer_UNK.word_index)))"
   ]
  },
  {
   "cell_type": "markdown",
   "metadata": {},
   "source": [
    "<h3>Tokenization</h3>\n",
    "<p>We transform each set in sequences of tokens according the chosen tokenizer.</p>"
   ]
  },
  {
   "cell_type": "code",
   "execution_count": 11,
   "metadata": {},
   "outputs": [],
   "source": [
    "tokenizer = tokenizer_UNK"
   ]
  },
  {
   "cell_type": "code",
   "execution_count": 12,
   "metadata": {},
   "outputs": [],
   "source": [
    "train_sequences = pad_sequences(tokenizer.texts_to_sequences(train_x), maxlen=150, padding=\"post\", truncating=\"post\") # We are contrained by the hardware limitations.\n",
    "input_length = len(train_sequences[0])"
   ]
  },
  {
   "cell_type": "code",
   "execution_count": 13,
   "metadata": {},
   "outputs": [],
   "source": [
    "valid_sequences = pad_sequences(tokenizer.texts_to_sequences(valid_x), maxlen=input_length, padding=\"post\", truncating=\"post\")\n",
    "test_sequences  = pad_sequences(tokenizer.texts_to_sequences(test_x), maxlen=input_length, padding=\"post\", truncating=\"post\")"
   ]
  },
  {
   "cell_type": "markdown",
   "metadata": {},
   "source": [
    "<h2>Utilities</h2>"
   ]
  },
  {
   "cell_type": "code",
   "execution_count": 14,
   "metadata": {},
   "outputs": [],
   "source": [
    "def clean_model(model):\n",
    "    \n",
    "    K.clear_session()\n",
    "    del model\n",
    "    gc.collect() "
   ]
  },
  {
   "cell_type": "code",
   "execution_count": 15,
   "metadata": {},
   "outputs": [],
   "source": [
    "def plot_history(history):\n",
    "    \n",
    "    plt.plot(\n",
    "        history.history[\"acc\"],\n",
    "        label=\"Train\"\n",
    "    )\n",
    "    plt.plot(\n",
    "        history.history[\"val_acc\"],\n",
    "        label=\"Validation\"\n",
    "    )\n",
    "    \n",
    "    plt.title(\"Model Accuracy\")\n",
    "    plt.ylabel(\"Accuray\")\n",
    "    plt.xlabel(\"Epoch\")\n",
    "    plt.legend([\"Train\", \"Validation\"], loc=\"best\")\n",
    "    \n",
    "    plt.show() "
   ]
  },
  {
   "cell_type": "code",
   "execution_count": 16,
   "metadata": {},
   "outputs": [],
   "source": [
    "def evaluate_model(model, sequences, y):\n",
    "    y_pred = (model.predict(sequences).flatten() >= 0.5).astype(float)\n",
    "    \n",
    "    \n",
    "    print(classification_report(y, y_pred))\n",
    "    \n",
    "    print(\"Accuracy: \"+str(accuracy_score(y,  y_pred.round()))) \n",
    "    \n",
    "    precision_curve, recall_curve, _ = precision_recall_curve(y,  y_pred.round())\n",
    "    step_kwargs = ({'step': 'post'}\n",
    "               if 'step' in signature(plt.fill_between).parameters\n",
    "               else {})\n",
    "    plt.step(recall_curve, precision_curve, color='b', alpha=0.2,\n",
    "             where='post')\n",
    "    plt.fill_between(recall_curve, precision_curve, alpha=0.2, color='b', **step_kwargs)\n",
    "\n",
    "    plt.xlabel('Recall')\n",
    "    plt.ylabel('Precision')\n",
    "    plt.ylim([0.0, 1.05])\n",
    "    plt.xlim([0.0, 1.0])\n",
    "    plt.title('Precision-Recall curve')"
   ]
  },
  {
   "cell_type": "code",
   "execution_count": 17,
   "metadata": {},
   "outputs": [],
   "source": [
    "glove_embeddings_path = \"/media/spiros/Data/glove.6B/glove.6B.100d.txt\"\n",
    "embeddings_df = pd.read_csv(glove_embeddings_path, sep=\" \", index_col=0, header=None, quoting=csv.QUOTE_NONE, na_values=None, keep_default_na=False)"
   ]
  },
  {
   "cell_type": "code",
   "execution_count": 18,
   "metadata": {},
   "outputs": [
    {
     "name": "stdout",
     "output_type": "stream",
     "text": [
      "Non-Zero Embeddings: 32806\n"
     ]
    }
   ],
   "source": [
    "token_iter = map(\n",
    "    operator.itemgetter(0),\n",
    "    sorted(\n",
    "        filter(lambda item: item[1] <= tokenizer.num_words, tokenizer.word_index.items()) if tokenizer.num_words\n",
    "            else tokenizer.word_index.items(),\n",
    "        key=operator.itemgetter(1)\n",
    "    )\n",
    ")\n",
    "\n",
    "embedding_weights = embeddings_df.reindex(chain((None,), token_iter), fill_value=0.0).values # The zero-indexed vector is used only for masking by the layer.\n",
    "\n",
    "print(\"Non-Zero Embeddings: {}\".format(np.count_nonzero(embedding_weights, axis=0)[0]))"
   ]
  },
  {
   "cell_type": "markdown",
   "metadata": {},
   "source": [
    "<h2>Bidirectional LSTMs on Pretrained (Glove) Embeddings</h2>"
   ]
  },
  {
   "cell_type": "code",
   "execution_count": 19,
   "metadata": {},
   "outputs": [
    {
     "name": "stdout",
     "output_type": "stream",
     "text": [
      "_________________________________________________________________\n",
      "Layer (type)                 Output Shape              Param #   \n",
      "=================================================================\n",
      "input_1 (InputLayer)         (None, 150)               0         \n",
      "_________________________________________________________________\n",
      "embedding_1 (Embedding)      (None, 150, 100)          4850800   \n",
      "_________________________________________________________________\n",
      "dropout_1 (Dropout)          (None, 150, 100)          0         \n",
      "_________________________________________________________________\n",
      "bidirectional_1 (Bidirection (None, 150, 200)          160800    \n",
      "_________________________________________________________________\n",
      "bidirectional_2 (Bidirection (None, 200)               240800    \n",
      "_________________________________________________________________\n",
      "dense_1 (Dense)              (None, 1)                 201       \n",
      "=================================================================\n",
      "Total params: 5,252,601\n",
      "Trainable params: 401,801\n",
      "Non-trainable params: 4,850,800\n",
      "_________________________________________________________________\n"
     ]
    }
   ],
   "source": [
    "inputs =  Input(shape=(150, ), dtype='int32')\n",
    "embeddings = Embedding(\n",
    "    input_dim=embedding_weights.shape[0],\n",
    "    output_dim=embedding_weights.shape[1],\n",
    "    input_length=input_length,\n",
    "    embeddings_initializer=\"zeros\",\n",
    "    weights=[embedding_weights],\n",
    "    trainable=False\n",
    ")(inputs)\n",
    "dropped_embeddings = Dropout(0.0)(embeddings)\n",
    "lstms_1 = Bidirectional(LSTM(100, return_sequences=True))(dropped_embeddings)\n",
    "lstms_2 = Bidirectional(LSTM(100))(lstms_1)\n",
    "outputs = Dense(1, activation='sigmoid')(lstms_2)\n",
    "\n",
    "# Wrap model\n",
    "model = Model(inputs=inputs, outputs=outputs)\n",
    "model.summary()\n"
   ]
  },
  {
   "cell_type": "code",
   "execution_count": 55,
   "metadata": {},
   "outputs": [],
   "source": [
    "model.compile(optimizer=\"adam\", loss=\"binary_crossentropy\", metrics=[\"accuracy\"])"
   ]
  },
  {
   "cell_type": "code",
   "execution_count": 56,
   "metadata": {},
   "outputs": [
    {
     "name": "stdout",
     "output_type": "stream",
     "text": [
      "Train on 2084 samples, validate on 231 samples\n",
      "Epoch 1/20\n",
      "2084/2084 [==============================] - 18s 9ms/step - loss: 0.2668 - acc: 0.8973 - val_loss: 0.0471 - val_acc: 0.9913\n",
      "Epoch 2/20\n",
      "2084/2084 [==============================] - 16s 7ms/step - loss: 0.0589 - acc: 0.9789 - val_loss: 0.0529 - val_acc: 0.9827\n",
      "Epoch 3/20\n",
      "2084/2084 [==============================] - 15s 7ms/step - loss: 0.0394 - acc: 0.9856 - val_loss: 0.0294 - val_acc: 0.9870\n",
      "Epoch 4/20\n",
      "2084/2084 [==============================] - 16s 8ms/step - loss: 0.0355 - acc: 0.9880 - val_loss: 0.0202 - val_acc: 0.9957\n",
      "Epoch 5/20\n",
      "2084/2084 [==============================] - 16s 8ms/step - loss: 0.0250 - acc: 0.9928 - val_loss: 0.0523 - val_acc: 0.9827\n",
      "Epoch 6/20\n",
      "2084/2084 [==============================] - 16s 7ms/step - loss: 0.0264 - acc: 0.9904 - val_loss: 0.0264 - val_acc: 0.9870\n",
      "Epoch 7/20\n",
      "2084/2084 [==============================] - 15s 7ms/step - loss: 0.0134 - acc: 0.9942 - val_loss: 0.0158 - val_acc: 0.9913\n",
      "Epoch 8/20\n",
      "2084/2084 [==============================] - 15s 7ms/step - loss: 0.0171 - acc: 0.9947 - val_loss: 0.0372 - val_acc: 0.9870\n",
      "Epoch 9/20\n",
      "2084/2084 [==============================] - 15s 7ms/step - loss: 0.0333 - acc: 0.9870 - val_loss: 0.0240 - val_acc: 0.9913\n",
      "Epoch 10/20\n",
      "2084/2084 [==============================] - 15s 7ms/step - loss: 0.0320 - acc: 0.9904 - val_loss: 0.0121 - val_acc: 0.9957\n",
      "Epoch 11/20\n",
      "2084/2084 [==============================] - 16s 7ms/step - loss: 0.0143 - acc: 0.9962 - val_loss: 0.0737 - val_acc: 0.9784\n",
      "Epoch 12/20\n",
      "2084/2084 [==============================] - 16s 8ms/step - loss: 0.0114 - acc: 0.9971 - val_loss: 0.0118 - val_acc: 0.9957\n",
      "Epoch 13/20\n",
      "2084/2084 [==============================] - 16s 8ms/step - loss: 0.0084 - acc: 0.9986 - val_loss: 0.0130 - val_acc: 0.9957\n",
      "Epoch 14/20\n",
      "2084/2084 [==============================] - 16s 8ms/step - loss: 0.0054 - acc: 0.9990 - val_loss: 0.0102 - val_acc: 0.9957\n",
      "Epoch 15/20\n",
      "2084/2084 [==============================] - 16s 8ms/step - loss: 0.0023 - acc: 0.9990 - val_loss: 0.0042 - val_acc: 1.0000\n",
      "Epoch 16/20\n",
      "2084/2084 [==============================] - 16s 8ms/step - loss: 3.9629e-04 - acc: 1.0000 - val_loss: 0.0015 - val_acc: 1.0000\n",
      "Epoch 17/20\n",
      "2084/2084 [==============================] - 16s 7ms/step - loss: 3.9270e-04 - acc: 1.0000 - val_loss: 0.0012 - val_acc: 1.0000\n",
      "Epoch 18/20\n",
      "2084/2084 [==============================] - 16s 8ms/step - loss: 1.6481e-04 - acc: 1.0000 - val_loss: 6.3072e-04 - val_acc: 1.0000\n",
      "Epoch 19/20\n",
      "2084/2084 [==============================] - 16s 7ms/step - loss: 1.1330e-04 - acc: 1.0000 - val_loss: 0.0010 - val_acc: 1.0000\n",
      "Epoch 20/20\n",
      "2084/2084 [==============================] - 16s 8ms/step - loss: 9.4474e-05 - acc: 1.0000 - val_loss: 4.4946e-04 - val_acc: 1.0000\n"
     ]
    }
   ],
   "source": [
    "history = model.fit(\n",
    "    train_sequences, train_y,\n",
    "    validation_data=(valid_sequences, valid_y),\n",
    "    batch_size=64,\n",
    "    epochs=20,\n",
    "    callbacks=[EarlyStopping(patience=3, restore_best_weights=True, verbose=1)],\n",
    "    verbose=1\n",
    ")"
   ]
  },
  {
   "cell_type": "code",
   "execution_count": 57,
   "metadata": {},
   "outputs": [
    {
     "data": {
      "image/png": "[encoded data removed]",
      "text/plain": [
       "<Figure size 432x288 with 1 Axes>"
      ]
     },
     "metadata": {
      "needs_background": "light"
     },
     "output_type": "display_data"
    }
   ],
   "source": [
    "plot_history(history)"
   ]
  },
  {
   "cell_type": "code",
   "execution_count": 69,
   "metadata": {},
   "outputs": [
    {
     "name": "stdout",
     "output_type": "stream",
     "text": [
      "              precision    recall  f1-score   support\n",
      "\n",
      "           0       1.00      1.00      1.00      1740\n",
      "           1       1.00      1.00      1.00       344\n",
      "\n",
      "   micro avg       1.00      1.00      1.00      2084\n",
      "   macro avg       1.00      1.00      1.00      2084\n",
      "weighted avg       1.00      1.00      1.00      2084\n",
      "\n",
      "Accuracy: 1.0\n"
     ]
    },
    {
     "data": {
      "image/png": "[encoded data removed]",
      "text/plain": [
       "<Figure size 432x288 with 1 Axes>"
      ]
     },
     "metadata": {
      "needs_background": "light"
     },
     "output_type": "display_data"
    }
   ],
   "source": [
    "evaluate_model(model, train_sequences, train_y)"
   ]
  },
  {
   "cell_type": "code",
   "execution_count": 70,
   "metadata": {},
   "outputs": [
    {
     "name": "stdout",
     "output_type": "stream",
     "text": [
      "              precision    recall  f1-score   support\n",
      "\n",
      "           0       1.00      1.00      1.00       192\n",
      "           1       1.00      1.00      1.00        39\n",
      "\n",
      "   micro avg       1.00      1.00      1.00       231\n",
      "   macro avg       1.00      1.00      1.00       231\n",
      "weighted avg       1.00      1.00      1.00       231\n",
      "\n",
      "Accuracy: 1.0\n"
     ]
    },
    {
     "data": {
      "image/png": "[encoded data removed]",
      "text/plain": [
       "<Figure size 432x288 with 1 Axes>"
      ]
     },
     "metadata": {
      "needs_background": "light"
     },
     "output_type": "display_data"
    }
   ],
   "source": [
    "evaluate_model(model, valid_sequences, valid_y)"
   ]
  },
  {
   "cell_type": "code",
   "execution_count": 68,
   "metadata": {},
   "outputs": [
    {
     "name": "stdout",
     "output_type": "stream",
     "text": [
      "              precision    recall  f1-score   support\n",
      "\n",
      "           0       0.99      0.99      0.99       480\n",
      "           1       0.97      0.96      0.96        98\n",
      "\n",
      "   micro avg       0.99      0.99      0.99       578\n",
      "   macro avg       0.98      0.98      0.98       578\n",
      "weighted avg       0.99      0.99      0.99       578\n",
      "\n",
      "Accuracy: 0.9878892733564014\n"
     ]
    },
    {
     "data": {
      "image/png": "[encoded data removed]",
      "text/plain": [
       "<Figure size 432x288 with 1 Axes>"
      ]
     },
     "metadata": {
      "needs_background": "light"
     },
     "output_type": "display_data"
    }
   ],
   "source": [
    "evaluate_model(model, test_sequences, test_y)"
   ]
  },
  {
   "cell_type": "code",
   "execution_count": 22,
   "metadata": {},
   "outputs": [],
   "source": [
    "clean_model(model)"
   ]
  },
  {
   "cell_type": "markdown",
   "metadata": {},
   "source": [
    "# Bidirectional LSTMs with self attention on Pretrained (Glove) Embeddings"
   ]
  },
  {
   "cell_type": "markdown",
   "metadata": {},
   "source": [
    "## Self attention layer"
   ]
  },
  {
   "cell_type": "code",
   "execution_count": 19,
   "metadata": {},
   "outputs": [],
   "source": [
    "from keras import initializers, regularizers, constraints\n",
    "from keras.layers.core import Layer\n",
    "\n",
    "\n",
    "def dot_product(x, kernel):\n",
    "    \"\"\"\n",
    "    Wrapper for dot product operation, in order to be compatible with both\n",
    "    Theano and Tensorflow\n",
    "    Args:\n",
    "        x (): input\n",
    "        kernel (): weights\n",
    "    Returns:\n",
    "    \"\"\"\n",
    "    if K.backend() == 'tensorflow':\n",
    "        return K.squeeze(K.dot(x, K.expand_dims(kernel)), axis=-1)\n",
    "    else:\n",
    "        return K.dot(x, kernel)\n",
    "\n",
    "\n",
    "class SimpleAttention(Layer):\n",
    "    def __init__(self,\n",
    "                 kernel_regularizer=None, bias_regularizer=None,\n",
    "                 W_constraint=None, b_constraint=None,\n",
    "                 bias=True,\n",
    "                 return_attention=False,\n",
    "                 **kwargs):\n",
    "        \n",
    "        self.supports_masking = True\n",
    "        self.init = initializers.get('glorot_uniform')\n",
    "\n",
    "        self.W_regularizer = regularizers.get(kernel_regularizer)\n",
    "        self.b_regularizer = regularizers.get(bias_regularizer)\n",
    "\n",
    "        self.W_constraint = constraints.get(W_constraint)\n",
    "        self.b_constraint = constraints.get(b_constraint)\n",
    "\n",
    "        self.bias = bias\n",
    "        self.return_attention = return_attention\n",
    "        super(SimpleAttention, self).__init__(**kwargs)\n",
    "\n",
    "    def build(self, input_shape):\n",
    "        assert len(input_shape) == 3\n",
    "\n",
    "        self.W = self.add_weight((input_shape[-1],),\n",
    "                                 initializer=self.init,\n",
    "                                 name='{}_W'.format(self.name),\n",
    "                                 regularizer=self.W_regularizer,\n",
    "                                 constraint=self.W_constraint)\n",
    "        if self.bias:\n",
    "            self.b = self.add_weight((1,),\n",
    "                                     initializer='zero',\n",
    "                                     name='{}_b'.format(self.name),\n",
    "                                     regularizer=self.b_regularizer,\n",
    "                                     constraint=self.b_constraint)\n",
    "        else:\n",
    "            self.b = None\n",
    "\n",
    "        self.built = True\n",
    "\n",
    "    def compute_mask(self, inputs, mask=None):\n",
    "        # do not pass the mask to the next layers\n",
    "        if self.return_attention:\n",
    "            return [None, None]\n",
    "        return None\n",
    "\n",
    "    def call(self, x, mask=None):\n",
    "        \n",
    "        # eij = Wx + b\n",
    "        eij = dot_product(x, self.W)\n",
    "\n",
    "        if self.bias:\n",
    "            eij += self.b\n",
    "\n",
    "        # Apply mask\n",
    "        if mask is not None:\n",
    "            eij *= K.cast(mask, K.floatx())\n",
    "\n",
    "        # a = softmax(eij)\n",
    "        a = K.expand_dims(K.softmax(eij, axis=-1))\n",
    "        weighted_input = x * a\n",
    "        result = K.sum(weighted_input, axis=1)\n",
    "\n",
    "        if self.return_attention:\n",
    "            return [result, a]\n",
    "        return result\n",
    "\n",
    "    def compute_output_shape(self, input_shape):\n",
    "        if self.return_attention:\n",
    "            return [(input_shape[0], input_shape[-1]),\n",
    "                    (input_shape[0], input_shape[1])]\n",
    "        else:\n",
    "            return input_shape[0], input_shape[-1]\n",
    "\n",
    "\n",
    "class DeepAttention(Layer):\n",
    "    def __init__(self,\n",
    "                 kernel_regularizer=None, u_regularizer=None, bias_regularizer=None,\n",
    "                 W_constraint=None, u_constraint=None, b_constraint=None,\n",
    "                 bias=True,\n",
    "                 return_attention=False,\n",
    "                 **kwargs):\n",
    "\n",
    "        self.supports_masking = True\n",
    "        self.init = initializers.get('glorot_uniform')\n",
    "\n",
    "        self.W_regularizer = regularizers.get(kernel_regularizer)\n",
    "        self.u_regularizer = regularizers.get(u_regularizer)\n",
    "        self.b_regularizer = regularizers.get(bias_regularizer)\n",
    "\n",
    "        self.W_constraint = constraints.get(W_constraint)\n",
    "        self.u_constraint = constraints.get(u_constraint)\n",
    "        self.b_constraint = constraints.get(b_constraint)\n",
    "\n",
    "        self.bias = bias\n",
    "        self.return_attention = return_attention\n",
    "        super(DeepAttention, self).__init__(**kwargs)\n",
    "\n",
    "    def build(self, input_shape):\n",
    "        assert len(input_shape) == 3\n",
    "\n",
    "        self.W = self.add_weight((input_shape[-1], input_shape[-1],),\n",
    "                                 initializer=self.init,\n",
    "                                 name='{}_W'.format(self.name),\n",
    "                                 regularizer=self.W_regularizer,\n",
    "                                 constraint=self.W_constraint)\n",
    "        if self.bias:\n",
    "            self.b = self.add_weight((input_shape[-1],),\n",
    "                                     initializer='zero',\n",
    "                                     name='{}_b'.format(self.name),\n",
    "                                     regularizer=self.b_regularizer,\n",
    "                                     constraint=self.b_constraint)\n",
    "        else:\n",
    "            self.b = None\n",
    "\n",
    "        self.u = self.add_weight((input_shape[-1],),\n",
    "                                 initializer=self.init,\n",
    "                                 name='{}_u'.format(self.name),\n",
    "                                 regularizer=self.u_regularizer,\n",
    "                                 constraint=self.u_constraint)\n",
    "\n",
    "        super(DeepAttention, self).build(input_shape)\n",
    "\n",
    "    def compute_mask(self, inputs, mask=None):\n",
    "        # do not pass the mask to the next layers\n",
    "        if self.return_attention:\n",
    "            return [None, None]\n",
    "        return None\n",
    "\n",
    "    def call(self, x, mask=None):\n",
    "        # uit = tanh(Wx + b)\n",
    "        uit = dot_product(x, self.W)\n",
    "\n",
    "        if self.bias:\n",
    "            uit += self.b\n",
    "\n",
    "        uit = K.tanh(uit)\n",
    "\n",
    "        # ait = softmax(Ueij)\n",
    "        eij = dot_product(uit, self.u)\n",
    "\n",
    "        # Apply mask\n",
    "        if mask is not None:\n",
    "            eij *= K.cast(mask, K.floatx())\n",
    "\n",
    "        a = K.expand_dims(K.softmax(eij, axis=-1))\n",
    "        \n",
    "        weighted_input = x * a\n",
    "        result = K.sum(weighted_input, axis=1)\n",
    "\n",
    "        if self.return_attention:\n",
    "            return [result, a]\n",
    "        return result\n",
    "\n",
    "    def compute_output_shape(self, input_shape):\n",
    "        if self.return_attention:\n",
    "            return [(input_shape[0], input_shape[-1]),\n",
    "                    (input_shape[0], input_shape[1])]\n",
    "        else:\n",
    "            return input_shape[0], input_shape[-1]"
   ]
  },
  {
   "cell_type": "code",
   "execution_count": 74,
   "metadata": {},
   "outputs": [
    {
     "name": "stdout",
     "output_type": "stream",
     "text": [
      "_________________________________________________________________\n",
      "Layer (type)                 Output Shape              Param #   \n",
      "=================================================================\n",
      "input_1 (InputLayer)         (None, 150)               0         \n",
      "_________________________________________________________________\n",
      "embedding_1 (Embedding)      (None, 150, 100)          4850800   \n",
      "_________________________________________________________________\n",
      "dropout_1 (Dropout)          (None, 150, 100)          0         \n",
      "_________________________________________________________________\n",
      "bidirectional_1 (Bidirection (None, 150, 200)          160800    \n",
      "_________________________________________________________________\n",
      "bidirectional_2 (Bidirection (None, 150, 200)          240800    \n",
      "_________________________________________________________________\n",
      "deep_attention_1 (DeepAttent (None, 200)               40400     \n",
      "_________________________________________________________________\n",
      "dense_1 (Dense)              (None, 1)                 201       \n",
      "=================================================================\n",
      "Total params: 5,293,001\n",
      "Trainable params: 442,201\n",
      "Non-trainable params: 4,850,800\n",
      "_________________________________________________________________\n"
     ]
    }
   ],
   "source": [
    "inputs =  Input(shape=(150, ), dtype='int32')\n",
    "embeddings = Embedding(\n",
    "    input_dim=embedding_weights.shape[0],\n",
    "    output_dim=embedding_weights.shape[1],\n",
    "    input_length=input_length,\n",
    "    embeddings_initializer=\"zeros\",\n",
    "    weights=[embedding_weights],\n",
    "    trainable=False\n",
    ")(inputs)\n",
    "dropped_embeddings = Dropout(0.0)(embeddings)\n",
    "lstms_1 = Bidirectional(LSTM(100, return_sequences=True))(dropped_embeddings)\n",
    "lstms_2 = Bidirectional(LSTM(100, return_sequences=True))(lstms_1)\n",
    "attention =  DeepAttention()(lstms_2)\n",
    "outputs = Dense(1, activation='sigmoid')(attention)\n",
    "\n",
    "# Wrap model\n",
    "model = Model(inputs=inputs, outputs=outputs)\n",
    "model.summary()\n"
   ]
  },
  {
   "cell_type": "code",
   "execution_count": 75,
   "metadata": {},
   "outputs": [],
   "source": [
    "model.compile(optimizer=\"adam\", loss=\"binary_crossentropy\", metrics=[\"accuracy\"])"
   ]
  },
  {
   "cell_type": "code",
   "execution_count": 76,
   "metadata": {},
   "outputs": [
    {
     "name": "stdout",
     "output_type": "stream",
     "text": [
      "Train on 2084 samples, validate on 231 samples\n",
      "Epoch 1/20\n",
      "2084/2084 [==============================] - 17s 8ms/step - loss: 0.2775 - acc: 0.8916 - val_loss: 0.1192 - val_acc: 0.9307\n",
      "Epoch 2/20\n",
      "2084/2084 [==============================] - 15s 7ms/step - loss: 0.1194 - acc: 0.9559 - val_loss: 0.0645 - val_acc: 0.9784\n",
      "Epoch 3/20\n",
      "2084/2084 [==============================] - 15s 7ms/step - loss: 0.0637 - acc: 0.9779 - val_loss: 0.0559 - val_acc: 0.9870\n",
      "Epoch 4/20\n",
      "2084/2084 [==============================] - 15s 7ms/step - loss: 0.0353 - acc: 0.9885 - val_loss: 0.0308 - val_acc: 0.9870\n",
      "Epoch 5/20\n",
      "2084/2084 [==============================] - 15s 7ms/step - loss: 0.0276 - acc: 0.9899 - val_loss: 0.0214 - val_acc: 0.9957\n",
      "Epoch 6/20\n",
      "2084/2084 [==============================] - 15s 7ms/step - loss: 0.0195 - acc: 0.9928 - val_loss: 0.0261 - val_acc: 0.9913\n",
      "Epoch 7/20\n",
      "2084/2084 [==============================] - 15s 7ms/step - loss: 0.0177 - acc: 0.9947 - val_loss: 0.0575 - val_acc: 0.9740\n",
      "Epoch 8/20\n",
      "2084/2084 [==============================] - 15s 7ms/step - loss: 0.0149 - acc: 0.9957 - val_loss: 0.0267 - val_acc: 0.9957\n",
      "Restoring model weights from the end of the best epoch\n",
      "Epoch 00008: early stopping\n"
     ]
    }
   ],
   "source": [
    "history = model.fit(\n",
    "    train_sequences, train_y,\n",
    "    validation_data=(valid_sequences, valid_y),\n",
    "    batch_size=64,\n",
    "    epochs=20,\n",
    "    callbacks=[EarlyStopping(patience=3, restore_best_weights=True, verbose=1)],\n",
    "    verbose=1\n",
    ")"
   ]
  },
  {
   "cell_type": "code",
   "execution_count": 77,
   "metadata": {},
   "outputs": [
    {
     "data": {
      "image/png": "[encoded data removed]",
      "text/plain": [
       "<Figure size 432x288 with 1 Axes>"
      ]
     },
     "metadata": {
      "needs_background": "light"
     },
     "output_type": "display_data"
    }
   ],
   "source": [
    "plot_history(history)"
   ]
  },
  {
   "cell_type": "code",
   "execution_count": 78,
   "metadata": {},
   "outputs": [
    {
     "name": "stdout",
     "output_type": "stream",
     "text": [
      "              precision    recall  f1-score   support\n",
      "\n",
      "           0       1.00      1.00      1.00      1740\n",
      "           1       0.99      0.99      0.99       344\n",
      "\n",
      "   micro avg       1.00      1.00      1.00      2084\n",
      "   macro avg       0.99      0.99      0.99      2084\n",
      "weighted avg       1.00      1.00      1.00      2084\n",
      "\n",
      "Accuracy: 0.9961612284069098\n"
     ]
    },
    {
     "data": {
      "image/png": "[encoded data removed]",
      "text/plain": [
       "<Figure size 432x288 with 1 Axes>"
      ]
     },
     "metadata": {
      "needs_background": "light"
     },
     "output_type": "display_data"
    }
   ],
   "source": [
    "evaluate_model(model, train_sequences, train_y)"
   ]
  },
  {
   "cell_type": "code",
   "execution_count": 79,
   "metadata": {},
   "outputs": [
    {
     "name": "stdout",
     "output_type": "stream",
     "text": [
      "              precision    recall  f1-score   support\n",
      "\n",
      "           0       1.00      0.99      1.00       192\n",
      "           1       0.97      1.00      0.99        39\n",
      "\n",
      "   micro avg       1.00      1.00      1.00       231\n",
      "   macro avg       0.99      1.00      0.99       231\n",
      "weighted avg       1.00      1.00      1.00       231\n",
      "\n",
      "Accuracy: 0.9956709956709957\n"
     ]
    },
    {
     "data": {
      "image/png": "[encoded data removed]",
      "text/plain": [
       "<Figure size 432x288 with 1 Axes>"
      ]
     },
     "metadata": {
      "needs_background": "light"
     },
     "output_type": "display_data"
    }
   ],
   "source": [
    "evaluate_model(model, valid_sequences, valid_y)"
   ]
  },
  {
   "cell_type": "code",
   "execution_count": 80,
   "metadata": {},
   "outputs": [
    {
     "name": "stdout",
     "output_type": "stream",
     "text": [
      "              precision    recall  f1-score   support\n",
      "\n",
      "           0       0.99      0.99      0.99       480\n",
      "           1       0.96      0.95      0.95        98\n",
      "\n",
      "   micro avg       0.98      0.98      0.98       578\n",
      "   macro avg       0.97      0.97      0.97       578\n",
      "weighted avg       0.98      0.98      0.98       578\n",
      "\n",
      "Accuracy: 0.9844290657439446\n"
     ]
    },
    {
     "data": {
      "image/png": "[encoded data removed]",
      "text/plain": [
       "<Figure size 432x288 with 1 Axes>"
      ]
     },
     "metadata": {
      "needs_background": "light"
     },
     "output_type": "display_data"
    }
   ],
   "source": [
    "evaluate_model(model, test_sequences, test_y)"
   ]
  },
  {
   "cell_type": "code",
   "execution_count": 22,
   "metadata": {},
   "outputs": [
    {
     "ename": "NameError",
     "evalue": "name 'model' is not defined",
     "output_type": "error",
     "traceback": [
      "\u001b[0;31m---------------------------------------------------------------------------\u001b[0m",
      "\u001b[0;31mNameError\u001b[0m                                 Traceback (most recent call last)",
      "\u001b[0;32m<ipython-input-22-48455ab65ec0>\u001b[0m in \u001b[0;36m<module>\u001b[0;34m\u001b[0m\n\u001b[0;32m----> 1\u001b[0;31m \u001b[0mclean_model\u001b[0m\u001b[0;34m(\u001b[0m\u001b[0mmodel\u001b[0m\u001b[0;34m)\u001b[0m\u001b[0;34m\u001b[0m\u001b[0m\n\u001b[0m",
      "\u001b[0;31mNameError\u001b[0m: name 'model' is not defined"
     ]
    }
   ],
   "source": [
    "clean_model(model)"
   ]
  },
  {
   "cell_type": "markdown",
   "metadata": {},
   "source": [
    "# Bidirectional LSTMs with self attention and ELMO on Pretrained (Glove) Embeddings"
   ]
  },
  {
   "cell_type": "markdown",
   "metadata": {},
   "source": [
    "## ELMO"
   ]
  },
  {
   "cell_type": "code",
   "execution_count": 23,
   "metadata": {},
   "outputs": [],
   "source": [
    "import tensorflow_hub as hub\n",
    "from keras.layers import Layer\n",
    "\n",
    "class ELMo(Layer):\n",
    "    def __init__(self, elmo_representation='elmo', trainable=True, **kwargs):\n",
    "        self.module_output = elmo_representation\n",
    "        self.trainable = trainable\n",
    "\n",
    "        self.elmo = None\n",
    "        super(ELMo, self).__init__(**kwargs)\n",
    "\n",
    "    def build(self, input_shape):\n",
    "        # SetUp tensorflow Hub module\n",
    "        self.elmo = hub.Module('https://tfhub.dev/google/elmo/2',\n",
    "                               trainable=self.trainable, name=\"{}_module\".format(self.name))\n",
    "        # Assign module's trainable weights to model\n",
    "        self.trainable_weights += K.tf.trainable_variables(scope=\"^{}_module/.*\".format(self.name))\n",
    "        \n",
    "        super(ELMo, self).build(input_shape)\n",
    "\n",
    "    def call(self, x, mask=None):\n",
    "        result = self.elmo(K.squeeze(K.cast(x, tf.string), axis=1),\n",
    "                           as_dict=True,\n",
    "                           signature='default',\n",
    "                           )[self.module_output]\n",
    "        return result\n",
    "\n",
    "    def compute_mask(self, inputs, mask=None):\n",
    "        return None\n",
    "\n",
    "    def compute_output_shape(self, input_shape):\n",
    "        return input_shape[0], input_shape[0], 1024"
   ]
  },
  {
   "cell_type": "code",
   "execution_count": 24,
   "metadata": {},
   "outputs": [
    {
     "name": "stdout",
     "output_type": "stream",
     "text": [
      "INFO:tensorflow:Saver not created because there are no variables in the graph to restore\n"
     ]
    },
    {
     "name": "stderr",
     "output_type": "stream",
     "text": [
      "I0504 14:09:09.807064 140634538067712 tf_logging.py:115] Saver not created because there are no variables in the graph to restore\n"
     ]
    },
    {
     "name": "stdout",
     "output_type": "stream",
     "text": [
      "______________________________________________________________________________________________________________\n",
      "Layer (type)                        Output Shape            Param #      Connected to                         \n",
      "==============================================================================================================\n",
      "input_3 (InputLayer)                (None, None)            0                                                 \n",
      "______________________________________________________________________________________________________________\n",
      "input_4 (InputLayer)                (None, 1)               0                                                 \n",
      "______________________________________________________________________________________________________________\n",
      "embedding_2 (Embedding)             (None, None, 100)       4850800      input_3[0][0]                        \n",
      "______________________________________________________________________________________________________________\n",
      "el_mo_2 (ELMo)                      (None, None, 1024)      4            input_4[0][0]                        \n",
      "______________________________________________________________________________________________________________\n",
      "concatenate_2 (Concatenate)         (None, None, 1124)      0            embedding_2[0][0]                    \n",
      "                                                                         el_mo_2[0][0]                        \n",
      "______________________________________________________________________________________________________________\n",
      "dropout_2 (Dropout)                 (None, None, 1124)      0            concatenate_2[0][0]                  \n",
      "______________________________________________________________________________________________________________\n",
      "bidirectional_2 (Bidirectional)     (None, None, 200)       980000       dropout_2[0][0]                      \n",
      "______________________________________________________________________________________________________________\n",
      "bidirectional_3 (Bidirectional)     (None, None, 200)       240800       bidirectional_2[0][0]                \n",
      "______________________________________________________________________________________________________________\n",
      "deep_attention_1 (DeepAttention)    (None, 200)             40400        bidirectional_3[0][0]                \n",
      "______________________________________________________________________________________________________________\n",
      "dense_1 (Dense)                     (None, 1)               201          deep_attention_1[0][0]               \n",
      "==============================================================================================================\n",
      "Total params: 6,112,205\n",
      "Trainable params: 1,261,405\n",
      "Non-trainable params: 4,850,800\n",
      "______________________________________________________________________________________________________________\n"
     ]
    }
   ],
   "source": [
    "inputs =  Input(shape=(None, ), dtype='int32')\n",
    "elmo_inputs = Input(shape=(1,), dtype='string')\n",
    "embeddings = Embedding(\n",
    "    input_dim=embedding_weights.shape[0],\n",
    "    output_dim=embedding_weights.shape[1],\n",
    "    #input_length=input_length,\n",
    "    embeddings_initializer=\"zeros\",\n",
    "    weights=[embedding_weights],\n",
    "    trainable=False\n",
    ")(inputs)\n",
    "\n",
    "# ELMo embeddings as weighted average across layers\n",
    "elmo_embeddings = ELMo()(elmo_inputs)\n",
    "# Concat Glove + ELMo embeddings\n",
    "concatenated_embeddings = concatenate([embeddings, elmo_embeddings], axis=-1)\n",
    "\n",
    "dropped_embeddings = Dropout(0.0)(concatenated_embeddings)\n",
    "lstms_1 = Bidirectional(LSTM(100, return_sequences=True))(dropped_embeddings)\n",
    "lstms_2 = Bidirectional(LSTM(100, return_sequences=True))(lstms_1)\n",
    "attention =  DeepAttention()(lstms_2)\n",
    "outputs = Dense(1, activation='sigmoid')(attention)\n",
    "\n",
    "# Wrap model\n",
    "model = Model(inputs=[inputs, elmo_inputs], outputs=outputs)\n",
    "model.summary(110)\n"
   ]
  },
  {
   "cell_type": "code",
   "execution_count": 25,
   "metadata": {},
   "outputs": [
    {
     "data": {
      "image/png": "[encoded data removed]",
      "text/plain": [
       "<IPython.core.display.Image object>"
      ]
     },
     "execution_count": 25,
     "metadata": {},
     "output_type": "execute_result"
    }
   ],
   "source": [
    "%matplotlib notebook\n",
    "\n",
    "from keras.utils import plot_model\n",
    "plot_model(model, to_file='model.png')\n",
    "\n",
    "from IPython.display import Image \n",
    "Image('model.png')"
   ]
  },
  {
   "cell_type": "code",
   "execution_count": 26,
   "metadata": {},
   "outputs": [],
   "source": [
    "model.compile(optimizer=\"adam\", loss=\"binary_crossentropy\", metrics=[\"accuracy\"])"
   ]
  },
  {
   "cell_type": "code",
   "execution_count": 27,
   "metadata": {},
   "outputs": [
    {
     "name": "stdout",
     "output_type": "stream",
     "text": [
      "Train on 2084 samples, validate on 231 samples\n",
      "Epoch 1/20\n"
     ]
    },
    {
     "ename": "UnknownError",
     "evalue": "Failed to get convolution algorithm. This is probably because cuDNN failed to initialize, so try looking to see if a warning log message was printed above.\n\t [[{{node el_mo_2/el_mo_2_module_apply_default/bilm/CNN_2/Conv2D}} = Conv2D[T=DT_FLOAT, data_format=\"NCHW\", dilations=[1, 1, 1, 1], padding=\"VALID\", strides=[1, 1, 1, 1], use_cudnn_on_gpu=true, _device=\"/job:localhost/replica:0/task:0/device:GPU:0\"](el_mo_2/el_mo_2_module_apply_default/bilm/CNN_2/Conv2D-0-TransposeNHWCToNCHW-LayoutOptimizer, el_mo_2/el_mo_2_module_apply_default/bilm/CNN_2/Conv2D/ReadVariableOp/_291)]]",
     "output_type": "error",
     "traceback": [
      "\u001b[0;31m---------------------------------------------------------------------------\u001b[0m",
      "\u001b[0;31mUnknownError\u001b[0m                              Traceback (most recent call last)",
      "\u001b[0;32m<ipython-input-27-9320834b4f62>\u001b[0m in \u001b[0;36m<module>\u001b[0;34m\u001b[0m\n\u001b[1;32m      5\u001b[0m     \u001b[0mepochs\u001b[0m\u001b[0;34m=\u001b[0m\u001b[0;36m20\u001b[0m\u001b[0;34m,\u001b[0m\u001b[0;34m\u001b[0m\u001b[0m\n\u001b[1;32m      6\u001b[0m     \u001b[0mcallbacks\u001b[0m\u001b[0;34m=\u001b[0m\u001b[0;34m[\u001b[0m\u001b[0mEarlyStopping\u001b[0m\u001b[0;34m(\u001b[0m\u001b[0mpatience\u001b[0m\u001b[0;34m=\u001b[0m\u001b[0;36m3\u001b[0m\u001b[0;34m,\u001b[0m \u001b[0mrestore_best_weights\u001b[0m\u001b[0;34m=\u001b[0m\u001b[0;32mTrue\u001b[0m\u001b[0;34m,\u001b[0m \u001b[0mverbose\u001b[0m\u001b[0;34m=\u001b[0m\u001b[0;36m1\u001b[0m\u001b[0;34m)\u001b[0m\u001b[0;34m]\u001b[0m\u001b[0;34m,\u001b[0m\u001b[0;34m\u001b[0m\u001b[0m\n\u001b[0;32m----> 7\u001b[0;31m     \u001b[0mverbose\u001b[0m\u001b[0;34m=\u001b[0m\u001b[0;36m1\u001b[0m\u001b[0;34m\u001b[0m\u001b[0m\n\u001b[0m\u001b[1;32m      8\u001b[0m )\n",
      "\u001b[0;32m~/env/lib/python3.5/site-packages/keras/engine/training.py\u001b[0m in \u001b[0;36mfit\u001b[0;34m(self, x, y, batch_size, epochs, verbose, callbacks, validation_split, validation_data, shuffle, class_weight, sample_weight, initial_epoch, steps_per_epoch, validation_steps, **kwargs)\u001b[0m\n\u001b[1;32m   1038\u001b[0m                                         \u001b[0minitial_epoch\u001b[0m\u001b[0;34m=\u001b[0m\u001b[0minitial_epoch\u001b[0m\u001b[0;34m,\u001b[0m\u001b[0;34m\u001b[0m\u001b[0m\n\u001b[1;32m   1039\u001b[0m                                         \u001b[0msteps_per_epoch\u001b[0m\u001b[0;34m=\u001b[0m\u001b[0msteps_per_epoch\u001b[0m\u001b[0;34m,\u001b[0m\u001b[0;34m\u001b[0m\u001b[0m\n\u001b[0;32m-> 1040\u001b[0;31m                                         validation_steps=validation_steps)\n\u001b[0m\u001b[1;32m   1041\u001b[0m \u001b[0;34m\u001b[0m\u001b[0m\n\u001b[1;32m   1042\u001b[0m     def evaluate(self, x=None, y=None,\n",
      "\u001b[0;32m~/env/lib/python3.5/site-packages/keras/engine/training_arrays.py\u001b[0m in \u001b[0;36mfit_loop\u001b[0;34m(model, fit_function, fit_inputs, out_labels, batch_size, epochs, verbose, callbacks, val_function, val_inputs, shuffle, callback_metrics, initial_epoch, steps_per_epoch, validation_steps)\u001b[0m\n\u001b[1;32m    198\u001b[0m                     \u001b[0mins_batch\u001b[0m\u001b[0;34m[\u001b[0m\u001b[0mi\u001b[0m\u001b[0;34m]\u001b[0m \u001b[0;34m=\u001b[0m \u001b[0mins_batch\u001b[0m\u001b[0;34m[\u001b[0m\u001b[0mi\u001b[0m\u001b[0;34m]\u001b[0m\u001b[0;34m.\u001b[0m\u001b[0mtoarray\u001b[0m\u001b[0;34m(\u001b[0m\u001b[0;34m)\u001b[0m\u001b[0;34m\u001b[0m\u001b[0m\n\u001b[1;32m    199\u001b[0m \u001b[0;34m\u001b[0m\u001b[0m\n\u001b[0;32m--> 200\u001b[0;31m                 \u001b[0mouts\u001b[0m \u001b[0;34m=\u001b[0m \u001b[0mfit_function\u001b[0m\u001b[0;34m(\u001b[0m\u001b[0mins_batch\u001b[0m\u001b[0;34m)\u001b[0m\u001b[0;34m\u001b[0m\u001b[0m\n\u001b[0m\u001b[1;32m    201\u001b[0m                 \u001b[0mouts\u001b[0m \u001b[0;34m=\u001b[0m \u001b[0mto_list\u001b[0m\u001b[0;34m(\u001b[0m\u001b[0mouts\u001b[0m\u001b[0;34m)\u001b[0m\u001b[0;34m\u001b[0m\u001b[0m\n\u001b[1;32m    202\u001b[0m                 \u001b[0;32mfor\u001b[0m \u001b[0ml\u001b[0m\u001b[0;34m,\u001b[0m \u001b[0mo\u001b[0m \u001b[0;32min\u001b[0m \u001b[0mzip\u001b[0m\u001b[0;34m(\u001b[0m\u001b[0mout_labels\u001b[0m\u001b[0;34m,\u001b[0m \u001b[0mouts\u001b[0m\u001b[0;34m)\u001b[0m\u001b[0;34m:\u001b[0m\u001b[0;34m\u001b[0m\u001b[0m\n",
      "\u001b[0;32m~/env/lib/python3.5/site-packages/keras/backend/tensorflow_backend.py\u001b[0m in \u001b[0;36m__call__\u001b[0;34m(self, inputs)\u001b[0m\n\u001b[1;32m   2895\u001b[0m                     \u001b[0;32mreturn\u001b[0m \u001b[0mself\u001b[0m\u001b[0;34m.\u001b[0m\u001b[0m_legacy_call\u001b[0m\u001b[0;34m(\u001b[0m\u001b[0minputs\u001b[0m\u001b[0;34m)\u001b[0m\u001b[0;34m\u001b[0m\u001b[0m\n\u001b[1;32m   2896\u001b[0m \u001b[0;34m\u001b[0m\u001b[0m\n\u001b[0;32m-> 2897\u001b[0;31m             \u001b[0;32mreturn\u001b[0m \u001b[0mself\u001b[0m\u001b[0;34m.\u001b[0m\u001b[0m_call\u001b[0m\u001b[0;34m(\u001b[0m\u001b[0minputs\u001b[0m\u001b[0;34m)\u001b[0m\u001b[0;34m\u001b[0m\u001b[0m\n\u001b[0m\u001b[1;32m   2898\u001b[0m         \u001b[0;32melse\u001b[0m\u001b[0;34m:\u001b[0m\u001b[0;34m\u001b[0m\u001b[0m\n\u001b[1;32m   2899\u001b[0m             \u001b[0;32mif\u001b[0m \u001b[0mpy_any\u001b[0m\u001b[0;34m(\u001b[0m\u001b[0mis_tensor\u001b[0m\u001b[0;34m(\u001b[0m\u001b[0mx\u001b[0m\u001b[0;34m)\u001b[0m \u001b[0;32mfor\u001b[0m \u001b[0mx\u001b[0m \u001b[0;32min\u001b[0m \u001b[0minputs\u001b[0m\u001b[0;34m)\u001b[0m\u001b[0;34m:\u001b[0m\u001b[0;34m\u001b[0m\u001b[0m\n",
      "\u001b[0;32m~/env/lib/python3.5/site-packages/keras/backend/tensorflow_backend.py\u001b[0m in \u001b[0;36m_call\u001b[0;34m(self, inputs)\u001b[0m\n\u001b[1;32m   2853\u001b[0m             \u001b[0mfetched\u001b[0m \u001b[0;34m=\u001b[0m \u001b[0mself\u001b[0m\u001b[0;34m.\u001b[0m\u001b[0m_callable_fn\u001b[0m\u001b[0;34m(\u001b[0m\u001b[0;34m*\u001b[0m\u001b[0marray_vals\u001b[0m\u001b[0;34m,\u001b[0m \u001b[0mrun_metadata\u001b[0m\u001b[0;34m=\u001b[0m\u001b[0mself\u001b[0m\u001b[0;34m.\u001b[0m\u001b[0mrun_metadata\u001b[0m\u001b[0;34m)\u001b[0m\u001b[0;34m\u001b[0m\u001b[0m\n\u001b[1;32m   2854\u001b[0m         \u001b[0;32melse\u001b[0m\u001b[0;34m:\u001b[0m\u001b[0;34m\u001b[0m\u001b[0m\n\u001b[0;32m-> 2855\u001b[0;31m             \u001b[0mfetched\u001b[0m \u001b[0;34m=\u001b[0m \u001b[0mself\u001b[0m\u001b[0;34m.\u001b[0m\u001b[0m_callable_fn\u001b[0m\u001b[0;34m(\u001b[0m\u001b[0;34m*\u001b[0m\u001b[0marray_vals\u001b[0m\u001b[0;34m)\u001b[0m\u001b[0;34m\u001b[0m\u001b[0m\n\u001b[0m\u001b[1;32m   2856\u001b[0m         \u001b[0;32mreturn\u001b[0m \u001b[0mfetched\u001b[0m\u001b[0;34m[\u001b[0m\u001b[0;34m:\u001b[0m\u001b[0mlen\u001b[0m\u001b[0;34m(\u001b[0m\u001b[0mself\u001b[0m\u001b[0;34m.\u001b[0m\u001b[0moutputs\u001b[0m\u001b[0;34m)\u001b[0m\u001b[0;34m]\u001b[0m\u001b[0;34m\u001b[0m\u001b[0m\n\u001b[1;32m   2857\u001b[0m \u001b[0;34m\u001b[0m\u001b[0m\n",
      "\u001b[0;32m~/env/lib/python3.5/site-packages/tensorflow/python/client/session.py\u001b[0m in \u001b[0;36m__call__\u001b[0;34m(self, *args, **kwargs)\u001b[0m\n\u001b[1;32m   1437\u001b[0m           ret = tf_session.TF_SessionRunCallable(\n\u001b[1;32m   1438\u001b[0m               \u001b[0mself\u001b[0m\u001b[0;34m.\u001b[0m\u001b[0m_session\u001b[0m\u001b[0;34m.\u001b[0m\u001b[0m_session\u001b[0m\u001b[0;34m,\u001b[0m \u001b[0mself\u001b[0m\u001b[0;34m.\u001b[0m\u001b[0m_handle\u001b[0m\u001b[0;34m,\u001b[0m \u001b[0margs\u001b[0m\u001b[0;34m,\u001b[0m \u001b[0mstatus\u001b[0m\u001b[0;34m,\u001b[0m\u001b[0;34m\u001b[0m\u001b[0m\n\u001b[0;32m-> 1439\u001b[0;31m               run_metadata_ptr)\n\u001b[0m\u001b[1;32m   1440\u001b[0m         \u001b[0;32mif\u001b[0m \u001b[0mrun_metadata\u001b[0m\u001b[0;34m:\u001b[0m\u001b[0;34m\u001b[0m\u001b[0m\n\u001b[1;32m   1441\u001b[0m           \u001b[0mproto_data\u001b[0m \u001b[0;34m=\u001b[0m \u001b[0mtf_session\u001b[0m\u001b[0;34m.\u001b[0m\u001b[0mTF_GetBuffer\u001b[0m\u001b[0;34m(\u001b[0m\u001b[0mrun_metadata_ptr\u001b[0m\u001b[0;34m)\u001b[0m\u001b[0;34m\u001b[0m\u001b[0m\n",
      "\u001b[0;32m~/env/lib/python3.5/site-packages/tensorflow/python/framework/errors_impl.py\u001b[0m in \u001b[0;36m__exit__\u001b[0;34m(self, type_arg, value_arg, traceback_arg)\u001b[0m\n\u001b[1;32m    526\u001b[0m             \u001b[0;32mNone\u001b[0m\u001b[0;34m,\u001b[0m \u001b[0;32mNone\u001b[0m\u001b[0;34m,\u001b[0m\u001b[0;34m\u001b[0m\u001b[0m\n\u001b[1;32m    527\u001b[0m             \u001b[0mcompat\u001b[0m\u001b[0;34m.\u001b[0m\u001b[0mas_text\u001b[0m\u001b[0;34m(\u001b[0m\u001b[0mc_api\u001b[0m\u001b[0;34m.\u001b[0m\u001b[0mTF_Message\u001b[0m\u001b[0;34m(\u001b[0m\u001b[0mself\u001b[0m\u001b[0;34m.\u001b[0m\u001b[0mstatus\u001b[0m\u001b[0;34m.\u001b[0m\u001b[0mstatus\u001b[0m\u001b[0;34m)\u001b[0m\u001b[0;34m)\u001b[0m\u001b[0;34m,\u001b[0m\u001b[0;34m\u001b[0m\u001b[0m\n\u001b[0;32m--> 528\u001b[0;31m             c_api.TF_GetCode(self.status.status))\n\u001b[0m\u001b[1;32m    529\u001b[0m     \u001b[0;31m# Delete the underlying status object from memory otherwise it stays alive\u001b[0m\u001b[0;34m\u001b[0m\u001b[0;34m\u001b[0m\u001b[0m\n\u001b[1;32m    530\u001b[0m     \u001b[0;31m# as there is a reference to status from this from the traceback due to\u001b[0m\u001b[0;34m\u001b[0m\u001b[0;34m\u001b[0m\u001b[0m\n",
      "\u001b[0;31mUnknownError\u001b[0m: Failed to get convolution algorithm. This is probably because cuDNN failed to initialize, so try looking to see if a warning log message was printed above.\n\t [[{{node el_mo_2/el_mo_2_module_apply_default/bilm/CNN_2/Conv2D}} = Conv2D[T=DT_FLOAT, data_format=\"NCHW\", dilations=[1, 1, 1, 1], padding=\"VALID\", strides=[1, 1, 1, 1], use_cudnn_on_gpu=true, _device=\"/job:localhost/replica:0/task:0/device:GPU:0\"](el_mo_2/el_mo_2_module_apply_default/bilm/CNN_2/Conv2D-0-TransposeNHWCToNCHW-LayoutOptimizer, el_mo_2/el_mo_2_module_apply_default/bilm/CNN_2/Conv2D/ReadVariableOp/_291)]]"
     ]
    }
   ],
   "source": [
    "history = model.fit(\n",
    "    [train_sequences,array(train_x)], train_y,\n",
    "    validation_data=([valid_sequences, array(valid_x)], valid_y),\n",
    "    batch_size=32,\n",
    "    epochs=20,\n",
    "    callbacks=[EarlyStopping(patience=3, restore_best_weights=True, verbose=1)],\n",
    "    verbose=1\n",
    ")"
   ]
  },
  {
   "cell_type": "code",
   "execution_count": null,
   "metadata": {},
   "outputs": [],
   "source": [
    "plot_history(history)"
   ]
  },
  {
   "cell_type": "code",
   "execution_count": null,
   "metadata": {},
   "outputs": [],
   "source": [
    "evaluate_model(model, train_sequences, train_y)"
   ]
  },
  {
   "cell_type": "code",
   "execution_count": null,
   "metadata": {},
   "outputs": [],
   "source": [
    "evaluate_model(model, valid_sequences, valid_y)"
   ]
  },
  {
   "cell_type": "code",
   "execution_count": null,
   "metadata": {
    "scrolled": true
   },
   "outputs": [],
   "source": [
    "evaluate_model(model, test_sequences, test_y)"
   ]
  },
  {
   "cell_type": "code",
   "execution_count": 42,
   "metadata": {},
   "outputs": [],
   "source": [
    "clean_model(model)"
   ]
  },
  {
   "cell_type": "code",
   "execution_count": null,
   "metadata": {},
   "outputs": [],
   "source": []
  }
 ],
 "metadata": {
  "kernelspec": {
   "display_name": "env",
   "language": "python",
   "name": "env"
  },
  "language_info": {
   "codemirror_mode": {
    "name": "ipython",
    "version": 3
   },
   "file_extension": ".py",
   "mimetype": "text/x-python",
   "name": "python",
   "nbconvert_exporter": "python",
   "pygments_lexer": "ipython3",
   "version": "3.5.2"
  }
 },
 "nbformat": 4,
 "nbformat_minor": 2
}
