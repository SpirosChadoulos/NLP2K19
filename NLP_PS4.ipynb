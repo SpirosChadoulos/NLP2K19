{
 "cells": [
  {
   "cell_type": "code",
   "execution_count": 1,
   "metadata": {},
   "outputs": [
    {
     "name": "stderr",
     "output_type": "stream",
     "text": [
      "Using TensorFlow backend.\n"
     ]
    }
   ],
   "source": [
    "import os\n",
    "import operator\n",
    "import random\n",
    "import numpy as np\n",
    "import pandas as pd\n",
    "import csv\n",
    "import re\n",
    "\n",
    "from itertools import chain, islice\n",
    "from functools import partial\n",
    "\n",
    "import nltk\n",
    "from nltk.tokenize import word_tokenize\n",
    "\n",
    "import sklearn\n",
    "from sklearn.model_selection import train_test_split\n",
    "from sklearn.feature_extraction.text import TfidfVectorizer\n",
    "from sklearn.metrics import classification_report, accuracy_score, precision_recall_curve, precision_recall_fscore_support\n",
    "from sklearn.utils.fixes import signature\n",
    "\n",
    "import keras\n",
    "from keras.models import Model\n",
    "from keras.preprocessing.text import Tokenizer\n",
    "from keras.preprocessing.sequence import pad_sequences\n",
    "from keras.models import Sequential\n",
    "from keras.layers import InputLayer, Embedding, Flatten, Dense, Activation, Dropout, BatchNormalization, Input, Bidirectional, LSTM, GRU, TimeDistributed, concatenate\n",
    "from keras.callbacks import EarlyStopping\n",
    "from keras import backend as K\n",
    "\n",
    "import tensorflow as tf\n",
    "\n",
    "import matplotlib.pyplot as plt\n",
    "from pprint import pprint\n",
    "\n",
    "import gc\n",
    "from numpy import array"
   ]
  },
  {
   "cell_type": "code",
   "execution_count": 2,
   "metadata": {},
   "outputs": [],
   "source": [
    "def set_seed(seed):\n",
    "    random.seed(seed)\n",
    "    np.random.seed(seed)\n",
    "    tf.set_random_seed(seed)\n",
    "    \n",
    "set_seed(1992)"
   ]
  },
  {
   "cell_type": "markdown",
   "metadata": {},
   "source": [
    "<h2>Preprocessing</h2>\n",
    "\n",
    "We operate on a subset of two datasets:\n",
    "<ol>\n",
    "    <li>\n",
    "        <h4>LingSpam Dataset (Bare)</h4>\n",
    "        <p>\n",
    "            This is the dataset that we used in the 2nd assignment.\n",
    "            It consists of a few large emails, appriximately 1000 messages with an average of 3500 words.\n",
    "    </li>\n",
    "    <li>\n",
    "        <h4>Kaggles Spam/Ham Dataset</h4>\n",
    "        <p>\n",
    "            This dataset is bigger, consisting of approximately 5500 messages.\n",
    "            Each messagehowever is quiet short and a lot of jargon is used in them.\n",
    "        </p>\n",
    "    </li>\n",
    "</ol>"
   ]
  },
  {
   "cell_type": "code",
   "execution_count": 3,
   "metadata": {},
   "outputs": [],
   "source": [
    "lingspam_data_path = \"/media/spiros/Data/lingspam_public/bare/\"\n",
    "kaggle_data_path   = \"Kaggle/kaggle_spam_data.csv\""
   ]
  },
  {
   "cell_type": "code",
   "execution_count": 4,
   "metadata": {},
   "outputs": [],
   "source": [
    "def load_lingspam_data(path):\n",
    "\n",
    "    ham, spam = [], []\n",
    "\n",
    "    for dirpath, _, filenames in os.walk(path):\n",
    "        for filename in filenames:\n",
    "            with open(os.path.join(dirpath, filename), encoding=\"utf8\") as file:\n",
    "                message = file.read()\n",
    "            if filename.startswith(\"spm\"):\n",
    "                spam.append(message)\n",
    "            else:\n",
    "                ham.append(message)\n",
    "\n",
    "    return ham, spam"
   ]
  },
  {
   "cell_type": "code",
   "execution_count": 5,
   "metadata": {},
   "outputs": [],
   "source": [
    "def load_kaggle_data(path):\n",
    "    \n",
    "    ham, spam = [], []\n",
    "    \n",
    "    pattern = re.compile(\"\\\"?(?P<Category>spam|ham),(?:\\\"\\\")?(?P<Text>.*?)(?:\\\"\\\"\\\")?;+\")\n",
    "    \n",
    "    with open(path, 'r', encoding=\"utf8\") as file:\n",
    "        for line in file.readlines():\n",
    "            match = pattern.match(line)\n",
    "            if match:\n",
    "                text = \" \".join(word_tokenize(match[\"Text\"]))\n",
    "                if match[\"Category\"].startswith(\"s\"):\n",
    "                    spam.append(text)\n",
    "                else:\n",
    "                    ham.append(text)\n",
    "            \n",
    "    return ham, spam"
   ]
  },
  {
   "cell_type": "code",
   "execution_count": 6,
   "metadata": {},
   "outputs": [
    {
     "name": "stdout",
     "output_type": "stream",
     "text": [
      "Ham: 2412, Spam: 481\n"
     ]
    }
   ],
   "source": [
    "dataset = \"lingspam\" # Specify the dataset to be loaded: kaggle, lingspam, or both\n",
    "\n",
    "ham, spam = \\\n",
    "    load_kaggle_data(kaggle_data_path) if dataset.startswith(\"k\") else (\n",
    "        load_lingspam_data(lingspam_data_path) if dataset.startswith(\"l\") else\n",
    "        tuple(map(operator.concat, load_kaggle_data(kaggle_data_path), load_lingspam_data(lingspam_data_path)))\n",
    "    )\n",
    " \n",
    "print(\"Ham: {}, Spam: {}\".format(len(ham), len(spam)))"
   ]
  },
  {
   "cell_type": "code",
   "execution_count": 7,
   "metadata": {},
   "outputs": [],
   "source": [
    "def data_split(x, y, sizes=(0.1, 0.1)):\n",
    "    \n",
    "    data_size = len(x)\n",
    "    splits = []\n",
    "    \n",
    "    for size in sizes:\n",
    "        x, test_x, y, test_y = train_test_split(x, y, test_size=int(data_size*size), shuffle=True)\n",
    "        splits.append((test_x, test_y))\n",
    "    splits.append((x, y))\n",
    "    \n",
    "    return splits"
   ]
  },
  {
   "cell_type": "code",
   "execution_count": 8,
   "metadata": {},
   "outputs": [
    {
     "name": "stdout",
     "output_type": "stream",
     "text": [
      "Split Sizes: [2084, 231, 578]\n"
     ]
    }
   ],
   "source": [
    "x = ham + spam\n",
    "y = [0] * len(ham) + [1] * len(spam)\n",
    "\n",
    "(test_x, test_y), (valid_x, valid_y), (train_x, train_y) = data_split(x, y, sizes=(0.2, 0.08))\n",
    "\n",
    "print(\"Split Sizes: {}\".format(list(map(len, (train_x, valid_x, test_x)))))"
   ]
  },
  {
   "cell_type": "markdown",
   "metadata": {},
   "source": [
    "<h3>Tokenizer Initialization</h3>\n",
    "<p>We consider two tokenizers. <i>Tokenizer_TRAIN_GLB</i> is fitted in all tokens onservable in the training set. <i>Tokenizer_UNK</i> is fitted in a subset of the training sequences in order to simulate the unobservability of a number of tokens in the validation data.</p>"
   ]
  },
  {
   "cell_type": "code",
   "execution_count": 9,
   "metadata": {},
   "outputs": [
    {
     "name": "stdout",
     "output_type": "stream",
     "text": [
      "Tokens discovered by Tokenizer_GLB: 51439\n"
     ]
    }
   ],
   "source": [
    "tokenizer_GLB = Tokenizer(num_words=None, lower=True, oov_token=\"*UNK*\")\n",
    "tokenizer_GLB.fit_on_texts(train_x)\n",
    "\n",
    "print(\"Tokens discovered by Tokenizer_GLB: {}\".format(len(tokenizer_GLB.word_index)))"
   ]
  },
  {
   "cell_type": "code",
   "execution_count": 10,
   "metadata": {},
   "outputs": [
    {
     "name": "stdout",
     "output_type": "stream",
     "text": [
      "Tokens discovered by Tokenizer_UNK: 48507\n"
     ]
    }
   ],
   "source": [
    "tokenizer_UNK = Tokenizer(num_words=None, lower=True, oov_token=\"*UNK*\")\n",
    "tokenizer_UNK.fit_on_texts(random.sample(train_x, len(train_x) - len(valid_x))) # We want the number of unknown words in the train set to be approximately the same as in the validation set.\n",
    "\n",
    "print(\"Tokens discovered by Tokenizer_UNK: {}\".format(len(tokenizer_UNK.word_index)))"
   ]
  },
  {
   "cell_type": "markdown",
   "metadata": {},
   "source": [
    "<h3>Tokenization</h3>\n",
    "<p>We transform each set in sequences of tokens according the chosen tokenizer.</p>"
   ]
  },
  {
   "cell_type": "code",
   "execution_count": 11,
   "metadata": {},
   "outputs": [],
   "source": [
    "tokenizer = tokenizer_UNK"
   ]
  },
  {
   "cell_type": "code",
   "execution_count": 12,
   "metadata": {},
   "outputs": [],
   "source": [
    "train_sequences = pad_sequences(tokenizer.texts_to_sequences(train_x), maxlen=150, padding=\"post\", truncating=\"post\") # We are contrained by the hardware limitations.\n",
    "input_length = len(train_sequences[0])"
   ]
  },
  {
   "cell_type": "code",
   "execution_count": 13,
   "metadata": {},
   "outputs": [],
   "source": [
    "valid_sequences = pad_sequences(tokenizer.texts_to_sequences(valid_x), maxlen=input_length, padding=\"post\", truncating=\"post\")\n",
    "test_sequences  = pad_sequences(tokenizer.texts_to_sequences(test_x), maxlen=input_length, padding=\"post\", truncating=\"post\")"
   ]
  },
  {
   "cell_type": "markdown",
   "metadata": {},
   "source": [
    "<h2>Utilities</h2>"
   ]
  },
  {
   "cell_type": "code",
   "execution_count": 14,
   "metadata": {},
   "outputs": [],
   "source": [
    "def clean_model(model):\n",
    "    \n",
    "    K.clear_session()\n",
    "    del model\n",
    "    gc.collect() "
   ]
  },
  {
   "cell_type": "code",
   "execution_count": 15,
   "metadata": {},
   "outputs": [],
   "source": [
    "def plot_history(history):\n",
    "    \n",
    "    plt.plot(\n",
    "        history.history[\"acc\"],\n",
    "        label=\"Train\"\n",
    "    )\n",
    "    plt.plot(\n",
    "        history.history[\"val_acc\"],\n",
    "        label=\"Validation\"\n",
    "    )\n",
    "    \n",
    "    plt.title(\"Model Accuracy\")\n",
    "    plt.ylabel(\"Accuray\")\n",
    "    plt.xlabel(\"Epoch\")\n",
    "    plt.legend([\"Train\", \"Validation\"], loc=\"best\")\n",
    "    \n",
    "    plt.show() "
   ]
  },
  {
   "cell_type": "code",
   "execution_count": 16,
   "metadata": {},
   "outputs": [],
   "source": [
    "def evaluate_model(model, sequences, y):\n",
    "    y_pred = (model.predict(sequences).flatten() >= 0.5).astype(float)\n",
    "    \n",
    "    \n",
    "    print(classification_report(y, y_pred))\n",
    "    \n",
    "    print(\"Accuracy: \"+str(accuracy_score(y,  y_pred.round()))) \n",
    "    \n",
    "    precision_curve, recall_curve, _ = precision_recall_curve(y,  y_pred.round())\n",
    "    step_kwargs = ({'step': 'post'}\n",
    "               if 'step' in signature(plt.fill_between).parameters\n",
    "               else {})\n",
    "    plt.step(recall_curve, precision_curve, color='b', alpha=0.2,\n",
    "             where='post')\n",
    "    plt.fill_between(recall_curve, precision_curve, alpha=0.2, color='b', **step_kwargs)\n",
    "\n",
    "    plt.xlabel('Recall')\n",
    "    plt.ylabel('Precision')\n",
    "    plt.ylim([0.0, 1.05])\n",
    "    plt.xlim([0.0, 1.0])\n",
    "    plt.title('Precision-Recall curve')"
   ]
  },
  {
   "cell_type": "code",
   "execution_count": 17,
   "metadata": {},
   "outputs": [],
   "source": [
    "glove_embeddings_path = \"/media/spiros/Data/glove.6B/glove.6B.100d.txt\"\n",
    "embeddings_df = pd.read_csv(glove_embeddings_path, sep=\" \", index_col=0, header=None, quoting=csv.QUOTE_NONE, na_values=None, keep_default_na=False)"
   ]
  },
  {
   "cell_type": "code",
   "execution_count": 18,
   "metadata": {},
   "outputs": [
    {
     "name": "stdout",
     "output_type": "stream",
     "text": [
      "Non-Zero Embeddings: 32806\n"
     ]
    }
   ],
   "source": [
    "token_iter = map(\n",
    "    operator.itemgetter(0),\n",
    "    sorted(\n",
    "        filter(lambda item: item[1] <= tokenizer.num_words, tokenizer.word_index.items()) if tokenizer.num_words\n",
    "            else tokenizer.word_index.items(),\n",
    "        key=operator.itemgetter(1)\n",
    "    )\n",
    ")\n",
    "\n",
    "embedding_weights = embeddings_df.reindex(chain((None,), token_iter), fill_value=0.0).values # The zero-indexed vector is used only for masking by the layer.\n",
    "\n",
    "print(\"Non-Zero Embeddings: {}\".format(np.count_nonzero(embedding_weights, axis=0)[0]))"
   ]
  },
  {
   "cell_type": "markdown",
   "metadata": {},
   "source": [
    "<h2>Bidirectional LSTMs on Pretrained (Glove) Embeddings</h2>"
   ]
  },
  {
   "cell_type": "code",
   "execution_count": 19,
   "metadata": {},
   "outputs": [
    {
     "name": "stdout",
     "output_type": "stream",
     "text": [
      "_________________________________________________________________\n",
      "Layer (type)                 Output Shape              Param #   \n",
      "=================================================================\n",
      "input_1 (InputLayer)         (None, 150)               0         \n",
      "_________________________________________________________________\n",
      "embedding_1 (Embedding)      (None, 150, 100)          4850800   \n",
      "_________________________________________________________________\n",
      "dropout_1 (Dropout)          (None, 150, 100)          0         \n",
      "_________________________________________________________________\n",
      "bidirectional_1 (Bidirection (None, 150, 200)          160800    \n",
      "_________________________________________________________________\n",
      "bidirectional_2 (Bidirection (None, 200)               240800    \n",
      "_________________________________________________________________\n",
      "dense_1 (Dense)              (None, 1)                 201       \n",
      "=================================================================\n",
      "Total params: 5,252,601\n",
      "Trainable params: 401,801\n",
      "Non-trainable params: 4,850,800\n",
      "_________________________________________________________________\n"
     ]
    }
   ],
   "source": [
    "inputs =  Input(shape=(150, ), dtype='int32')\n",
    "embeddings = Embedding(\n",
    "    input_dim=embedding_weights.shape[0],\n",
    "    output_dim=embedding_weights.shape[1],\n",
    "    input_length=input_length,\n",
    "    embeddings_initializer=\"zeros\",\n",
    "    weights=[embedding_weights],\n",
    "    trainable=False\n",
    ")(inputs)\n",
    "dropped_embeddings = Dropout(0.0)(embeddings)\n",
    "lstms_1 = Bidirectional(LSTM(100, return_sequences=True))(dropped_embeddings)\n",
    "lstms_2 = Bidirectional(LSTM(100))(lstms_1)\n",
    "outputs = Dense(1, activation='sigmoid')(lstms_2)\n",
    "\n",
    "# Wrap model\n",
    "model = Model(inputs=inputs, outputs=outputs)\n",
    "model.summary()\n"
   ]
  },
  {
   "cell_type": "code",
   "execution_count": 20,
   "metadata": {},
   "outputs": [],
   "source": [
    "model.compile(optimizer=\"adam\", loss=\"binary_crossentropy\", metrics=[\"accuracy\"])"
   ]
  },
  {
   "cell_type": "code",
   "execution_count": 21,
   "metadata": {},
   "outputs": [
    {
     "name": "stdout",
     "output_type": "stream",
     "text": [
      "Train on 2084 samples, validate on 231 samples\n",
      "Epoch 1/20\n",
      "2084/2084 [==============================] - 17s 8ms/step - loss: 0.2761 - acc: 0.8872 - val_loss: 0.0754 - val_acc: 0.9827\n",
      "Epoch 2/20\n",
      "2084/2084 [==============================] - 15s 7ms/step - loss: 0.0683 - acc: 0.9789 - val_loss: 0.0540 - val_acc: 0.9784\n",
      "Epoch 3/20\n",
      "2084/2084 [==============================] - 15s 7ms/step - loss: 0.0370 - acc: 0.9885 - val_loss: 0.3830 - val_acc: 0.9091\n",
      "Epoch 4/20\n",
      "2084/2084 [==============================] - 15s 7ms/step - loss: 0.0621 - acc: 0.9760 - val_loss: 0.0328 - val_acc: 0.9827\n",
      "Epoch 5/20\n",
      "2084/2084 [==============================] - 15s 7ms/step - loss: 0.0209 - acc: 0.9942 - val_loss: 0.0176 - val_acc: 0.9913\n",
      "Epoch 6/20\n",
      "2084/2084 [==============================] - 15s 7ms/step - loss: 0.0241 - acc: 0.9933 - val_loss: 0.1079 - val_acc: 0.9437\n",
      "Epoch 7/20\n",
      "2084/2084 [==============================] - 15s 7ms/step - loss: 0.0268 - acc: 0.9899 - val_loss: 0.0165 - val_acc: 0.9957\n",
      "Epoch 8/20\n",
      "2084/2084 [==============================] - 15s 7ms/step - loss: 0.0205 - acc: 0.9928 - val_loss: 0.0379 - val_acc: 0.9913\n",
      "Epoch 9/20\n",
      "2084/2084 [==============================] - 15s 7ms/step - loss: 0.0079 - acc: 0.9976 - val_loss: 0.0312 - val_acc: 0.9870\n",
      "Epoch 10/20\n",
      "2084/2084 [==============================] - 15s 7ms/step - loss: 0.0057 - acc: 0.9981 - val_loss: 0.0263 - val_acc: 0.9913\n",
      "Restoring model weights from the end of the best epoch\n",
      "Epoch 00010: early stopping\n"
     ]
    }
   ],
   "source": [
    "history = model.fit(\n",
    "    train_sequences, train_y,\n",
    "    validation_data=(valid_sequences, valid_y),\n",
    "    batch_size=64,\n",
    "    epochs=20,\n",
    "    callbacks=[EarlyStopping(patience=3, restore_best_weights=True, verbose=1)],\n",
    "    verbose=1\n",
    ")"
   ]
  },
  {
   "cell_type": "code",
   "execution_count": 22,
   "metadata": {},
   "outputs": [
    {
     "data": {
      "image/png": "[encoded data removed]",
      "text/plain": [
       "<Figure size 432x288 with 1 Axes>"
      ]
     },
     "metadata": {
      "needs_background": "light"
     },
     "output_type": "display_data"
    }
   ],
   "source": [
    "plot_history(history)"
   ]
  },
  {
   "cell_type": "code",
   "execution_count": 23,
   "metadata": {},
   "outputs": [
    {
     "name": "stdout",
     "output_type": "stream",
     "text": [
      "              precision    recall  f1-score   support\n",
      "\n",
      "           0       1.00      1.00      1.00      1740\n",
      "           1       0.99      1.00      0.99       344\n",
      "\n",
      "   micro avg       1.00      1.00      1.00      2084\n",
      "   macro avg       1.00      1.00      1.00      2084\n",
      "weighted avg       1.00      1.00      1.00      2084\n",
      "\n",
      "Accuracy: 0.9980806142034548\n"
     ]
    },
    {
     "data": {
      "image/png": "[encoded data removed]",
      "text/plain": [
       "<Figure size 432x288 with 1 Axes>"
      ]
     },
     "metadata": {
      "needs_background": "light"
     },
     "output_type": "display_data"
    }
   ],
   "source": [
    "evaluate_model(model, train_sequences, train_y)"
   ]
  },
  {
   "cell_type": "code",
   "execution_count": 24,
   "metadata": {},
   "outputs": [
    {
     "name": "stdout",
     "output_type": "stream",
     "text": [
      "              precision    recall  f1-score   support\n",
      "\n",
      "           0       1.00      0.99      1.00       192\n",
      "           1       0.97      1.00      0.99        39\n",
      "\n",
      "   micro avg       1.00      1.00      1.00       231\n",
      "   macro avg       0.99      1.00      0.99       231\n",
      "weighted avg       1.00      1.00      1.00       231\n",
      "\n",
      "Accuracy: 0.9956709956709957\n"
     ]
    },
    {
     "data": {
      "image/png": "[encoded data removed]",
      "text/plain": [
       "<Figure size 432x288 with 1 Axes>"
      ]
     },
     "metadata": {
      "needs_background": "light"
     },
     "output_type": "display_data"
    }
   ],
   "source": [
    "evaluate_model(model, valid_sequences, valid_y)"
   ]
  },
  {
   "cell_type": "code",
   "execution_count": 25,
   "metadata": {},
   "outputs": [
    {
     "name": "stdout",
     "output_type": "stream",
     "text": [
      "              precision    recall  f1-score   support\n",
      "\n",
      "           0       0.99      0.99      0.99       480\n",
      "           1       0.96      0.96      0.96        98\n",
      "\n",
      "   micro avg       0.99      0.99      0.99       578\n",
      "   macro avg       0.98      0.98      0.98       578\n",
      "weighted avg       0.99      0.99      0.99       578\n",
      "\n",
      "Accuracy: 0.986159169550173\n"
     ]
    },
    {
     "data": {
      "image/png": "[encoded data removed]",
      "text/plain": [
       "<Figure size 432x288 with 1 Axes>"
      ]
     },
     "metadata": {
      "needs_background": "light"
     },
     "output_type": "display_data"
    }
   ],
   "source": [
    "evaluate_model(model, test_sequences, test_y)"
   ]
  },
  {
   "cell_type": "code",
   "execution_count": 20,
   "metadata": {},
   "outputs": [],
   "source": [
    "clean_model(model)"
   ]
  },
  {
   "cell_type": "markdown",
   "metadata": {},
   "source": [
    "# Bidirectional LSTMs with self attention on Pretrained (Glove) Embeddings"
   ]
  },
  {
   "cell_type": "markdown",
   "metadata": {},
   "source": [
    "## Self attention layer"
   ]
  },
  {
   "cell_type": "code",
   "execution_count": 21,
   "metadata": {},
   "outputs": [],
   "source": [
    "from keras import initializers, regularizers, constraints\n",
    "from keras.layers.core import Layer\n",
    "\n",
    "\n",
    "def dot_product(x, kernel):\n",
    "    \"\"\"\n",
    "    Wrapper for dot product operation, in order to be compatible with both\n",
    "    Theano and Tensorflow\n",
    "    Args:\n",
    "        x (): input\n",
    "        kernel (): weights\n",
    "    Returns:\n",
    "    \"\"\"\n",
    "    if K.backend() == 'tensorflow':\n",
    "        return K.squeeze(K.dot(x, K.expand_dims(kernel)), axis=-1)\n",
    "    else:\n",
    "        return K.dot(x, kernel)\n",
    "\n",
    "\n",
    "class SimpleAttention(Layer):\n",
    "    def __init__(self,\n",
    "                 kernel_regularizer=None, bias_regularizer=None,\n",
    "                 W_constraint=None, b_constraint=None,\n",
    "                 bias=True,\n",
    "                 return_attention=False,\n",
    "                 **kwargs):\n",
    "        \n",
    "        self.supports_masking = True\n",
    "        self.init = initializers.get('glorot_uniform')\n",
    "\n",
    "        self.W_regularizer = regularizers.get(kernel_regularizer)\n",
    "        self.b_regularizer = regularizers.get(bias_regularizer)\n",
    "\n",
    "        self.W_constraint = constraints.get(W_constraint)\n",
    "        self.b_constraint = constraints.get(b_constraint)\n",
    "\n",
    "        self.bias = bias\n",
    "        self.return_attention = return_attention\n",
    "        super(SimpleAttention, self).__init__(**kwargs)\n",
    "\n",
    "    def build(self, input_shape):\n",
    "        assert len(input_shape) == 3\n",
    "\n",
    "        self.W = self.add_weight((input_shape[-1],),\n",
    "                                 initializer=self.init,\n",
    "                                 name='{}_W'.format(self.name),\n",
    "                                 regularizer=self.W_regularizer,\n",
    "                                 constraint=self.W_constraint)\n",
    "        if self.bias:\n",
    "            self.b = self.add_weight((1,),\n",
    "                                     initializer='zero',\n",
    "                                     name='{}_b'.format(self.name),\n",
    "                                     regularizer=self.b_regularizer,\n",
    "                                     constraint=self.b_constraint)\n",
    "        else:\n",
    "            self.b = None\n",
    "\n",
    "        self.built = True\n",
    "\n",
    "    def compute_mask(self, inputs, mask=None):\n",
    "        # do not pass the mask to the next layers\n",
    "        if self.return_attention:\n",
    "            return [None, None]\n",
    "        return None\n",
    "\n",
    "    def call(self, x, mask=None):\n",
    "        \n",
    "        # eij = Wx + b\n",
    "        eij = dot_product(x, self.W)\n",
    "\n",
    "        if self.bias:\n",
    "            eij += self.b\n",
    "\n",
    "        # Apply mask\n",
    "        if mask is not None:\n",
    "            eij *= K.cast(mask, K.floatx())\n",
    "\n",
    "        # a = softmax(eij)\n",
    "        a = K.expand_dims(K.softmax(eij, axis=-1))\n",
    "        weighted_input = x * a\n",
    "        result = K.sum(weighted_input, axis=1)\n",
    "\n",
    "        if self.return_attention:\n",
    "            return [result, a]\n",
    "        return result\n",
    "\n",
    "    def compute_output_shape(self, input_shape):\n",
    "        if self.return_attention:\n",
    "            return [(input_shape[0], input_shape[-1]),\n",
    "                    (input_shape[0], input_shape[1])]\n",
    "        else:\n",
    "            return input_shape[0], input_shape[-1]\n",
    "\n",
    "\n",
    "class DeepAttention(Layer):\n",
    "    def __init__(self,\n",
    "                 kernel_regularizer=None, u_regularizer=None, bias_regularizer=None,\n",
    "                 W_constraint=None, u_constraint=None, b_constraint=None,\n",
    "                 bias=True,\n",
    "                 return_attention=False,\n",
    "                 **kwargs):\n",
    "\n",
    "        self.supports_masking = True\n",
    "        self.init = initializers.get('glorot_uniform')\n",
    "\n",
    "        self.W_regularizer = regularizers.get(kernel_regularizer)\n",
    "        self.u_regularizer = regularizers.get(u_regularizer)\n",
    "        self.b_regularizer = regularizers.get(bias_regularizer)\n",
    "\n",
    "        self.W_constraint = constraints.get(W_constraint)\n",
    "        self.u_constraint = constraints.get(u_constraint)\n",
    "        self.b_constraint = constraints.get(b_constraint)\n",
    "\n",
    "        self.bias = bias\n",
    "        self.return_attention = return_attention\n",
    "        super(DeepAttention, self).__init__(**kwargs)\n",
    "\n",
    "    def build(self, input_shape):\n",
    "        assert len(input_shape) == 3\n",
    "\n",
    "        self.W = self.add_weight((input_shape[-1], input_shape[-1],),\n",
    "                                 initializer=self.init,\n",
    "                                 name='{}_W'.format(self.name),\n",
    "                                 regularizer=self.W_regularizer,\n",
    "                                 constraint=self.W_constraint)\n",
    "        if self.bias:\n",
    "            self.b = self.add_weight((input_shape[-1],),\n",
    "                                     initializer='zero',\n",
    "                                     name='{}_b'.format(self.name),\n",
    "                                     regularizer=self.b_regularizer,\n",
    "                                     constraint=self.b_constraint)\n",
    "        else:\n",
    "            self.b = None\n",
    "\n",
    "        self.u = self.add_weight((input_shape[-1],),\n",
    "                                 initializer=self.init,\n",
    "                                 name='{}_u'.format(self.name),\n",
    "                                 regularizer=self.u_regularizer,\n",
    "                                 constraint=self.u_constraint)\n",
    "\n",
    "        super(DeepAttention, self).build(input_shape)\n",
    "\n",
    "    def compute_mask(self, inputs, mask=None):\n",
    "        # do not pass the mask to the next layers\n",
    "        if self.return_attention:\n",
    "            return [None, None]\n",
    "        return None\n",
    "\n",
    "    def call(self, x, mask=None):\n",
    "        # uit = tanh(Wx + b)\n",
    "        uit = dot_product(x, self.W)\n",
    "\n",
    "        if self.bias:\n",
    "            uit += self.b\n",
    "\n",
    "        uit = K.tanh(uit)\n",
    "\n",
    "        # ait = softmax(Ueij)\n",
    "        eij = dot_product(uit, self.u)\n",
    "\n",
    "        # Apply mask\n",
    "        if mask is not None:\n",
    "            eij *= K.cast(mask, K.floatx())\n",
    "\n",
    "        a = K.expand_dims(K.softmax(eij, axis=-1))\n",
    "        \n",
    "        weighted_input = x * a\n",
    "        result = K.sum(weighted_input, axis=1)\n",
    "\n",
    "        if self.return_attention:\n",
    "            return [result, a]\n",
    "        return result\n",
    "\n",
    "    def compute_output_shape(self, input_shape):\n",
    "        if self.return_attention:\n",
    "            return [(input_shape[0], input_shape[-1]),\n",
    "                    (input_shape[0], input_shape[1])]\n",
    "        else:\n",
    "            return input_shape[0], input_shape[-1]"
   ]
  },
  {
   "cell_type": "code",
   "execution_count": 74,
   "metadata": {},
   "outputs": [
    {
     "name": "stdout",
     "output_type": "stream",
     "text": [
      "_________________________________________________________________\n",
      "Layer (type)                 Output Shape              Param #   \n",
      "=================================================================\n",
      "input_1 (InputLayer)         (None, 150)               0         \n",
      "_________________________________________________________________\n",
      "embedding_1 (Embedding)      (None, 150, 100)          4850800   \n",
      "_________________________________________________________________\n",
      "dropout_1 (Dropout)          (None, 150, 100)          0         \n",
      "_________________________________________________________________\n",
      "bidirectional_1 (Bidirection (None, 150, 200)          160800    \n",
      "_________________________________________________________________\n",
      "bidirectional_2 (Bidirection (None, 150, 200)          240800    \n",
      "_________________________________________________________________\n",
      "deep_attention_1 (DeepAttent (None, 200)               40400     \n",
      "_________________________________________________________________\n",
      "dense_1 (Dense)              (None, 1)                 201       \n",
      "=================================================================\n",
      "Total params: 5,293,001\n",
      "Trainable params: 442,201\n",
      "Non-trainable params: 4,850,800\n",
      "_________________________________________________________________\n"
     ]
    }
   ],
   "source": [
    "inputs =  Input(shape=(150, ), dtype='int32')\n",
    "embeddings = Embedding(\n",
    "    input_dim=embedding_weights.shape[0],\n",
    "    output_dim=embedding_weights.shape[1],\n",
    "    input_length=input_length,\n",
    "    embeddings_initializer=\"zeros\",\n",
    "    weights=[embedding_weights],\n",
    "    trainable=False\n",
    ")(inputs)\n",
    "dropped_embeddings = Dropout(0.0)(embeddings)\n",
    "lstms_1 = Bidirectional(LSTM(100, return_sequences=True))(dropped_embeddings)\n",
    "lstms_2 = Bidirectional(LSTM(100, return_sequences=True))(lstms_1)\n",
    "attention =  DeepAttention()(lstms_2)\n",
    "outputs = Dense(1, activation='sigmoid')(attention)\n",
    "\n",
    "# Wrap model\n",
    "model = Model(inputs=inputs, outputs=outputs)\n",
    "model.summary()\n"
   ]
  },
  {
   "cell_type": "code",
   "execution_count": 75,
   "metadata": {},
   "outputs": [],
   "source": [
    "model.compile(optimizer=\"adam\", loss=\"binary_crossentropy\", metrics=[\"accuracy\"])"
   ]
  },
  {
   "cell_type": "code",
   "execution_count": 76,
   "metadata": {},
   "outputs": [
    {
     "name": "stdout",
     "output_type": "stream",
     "text": [
      "Train on 2084 samples, validate on 231 samples\n",
      "Epoch 1/20\n",
      "2084/2084 [==============================] - 17s 8ms/step - loss: 0.2775 - acc: 0.8916 - val_loss: 0.1192 - val_acc: 0.9307\n",
      "Epoch 2/20\n",
      "2084/2084 [==============================] - 15s 7ms/step - loss: 0.1194 - acc: 0.9559 - val_loss: 0.0645 - val_acc: 0.9784\n",
      "Epoch 3/20\n",
      "2084/2084 [==============================] - 15s 7ms/step - loss: 0.0637 - acc: 0.9779 - val_loss: 0.0559 - val_acc: 0.9870\n",
      "Epoch 4/20\n",
      "2084/2084 [==============================] - 15s 7ms/step - loss: 0.0353 - acc: 0.9885 - val_loss: 0.0308 - val_acc: 0.9870\n",
      "Epoch 5/20\n",
      "2084/2084 [==============================] - 15s 7ms/step - loss: 0.0276 - acc: 0.9899 - val_loss: 0.0214 - val_acc: 0.9957\n",
      "Epoch 6/20\n",
      "2084/2084 [==============================] - 15s 7ms/step - loss: 0.0195 - acc: 0.9928 - val_loss: 0.0261 - val_acc: 0.9913\n",
      "Epoch 7/20\n",
      "2084/2084 [==============================] - 15s 7ms/step - loss: 0.0177 - acc: 0.9947 - val_loss: 0.0575 - val_acc: 0.9740\n",
      "Epoch 8/20\n",
      "2084/2084 [==============================] - 15s 7ms/step - loss: 0.0149 - acc: 0.9957 - val_loss: 0.0267 - val_acc: 0.9957\n",
      "Restoring model weights from the end of the best epoch\n",
      "Epoch 00008: early stopping\n"
     ]
    }
   ],
   "source": [
    "history = model.fit(\n",
    "    train_sequences, train_y,\n",
    "    validation_data=(valid_sequences, valid_y),\n",
    "    batch_size=64,\n",
    "    epochs=20,\n",
    "    callbacks=[EarlyStopping(patience=3, restore_best_weights=True, verbose=1)],\n",
    "    verbose=1\n",
    ")"
   ]
  },
  {
   "cell_type": "code",
   "execution_count": 77,
   "metadata": {},
   "outputs": [
    {
     "data": {
      "image/png": "[encoded data removed]",
      "text/plain": [
       "<Figure size 432x288 with 1 Axes>"
      ]
     },
     "metadata": {
      "needs_background": "light"
     },
     "output_type": "display_data"
    }
   ],
   "source": [
    "plot_history(history)"
   ]
  },
  {
   "cell_type": "code",
   "execution_count": 78,
   "metadata": {},
   "outputs": [
    {
     "name": "stdout",
     "output_type": "stream",
     "text": [
      "              precision    recall  f1-score   support\n",
      "\n",
      "           0       1.00      1.00      1.00      1740\n",
      "           1       0.99      0.99      0.99       344\n",
      "\n",
      "   micro avg       1.00      1.00      1.00      2084\n",
      "   macro avg       0.99      0.99      0.99      2084\n",
      "weighted avg       1.00      1.00      1.00      2084\n",
      "\n",
      "Accuracy: 0.9961612284069098\n"
     ]
    },
    {
     "data": {
      "image/png": "[encoded data removed]",
      "text/plain": [
       "<Figure size 432x288 with 1 Axes>"
      ]
     },
     "metadata": {
      "needs_background": "light"
     },
     "output_type": "display_data"
    }
   ],
   "source": [
    "evaluate_model(model, train_sequences, train_y)"
   ]
  },
  {
   "cell_type": "code",
   "execution_count": 79,
   "metadata": {},
   "outputs": [
    {
     "name": "stdout",
     "output_type": "stream",
     "text": [
      "              precision    recall  f1-score   support\n",
      "\n",
      "           0       1.00      0.99      1.00       192\n",
      "           1       0.97      1.00      0.99        39\n",
      "\n",
      "   micro avg       1.00      1.00      1.00       231\n",
      "   macro avg       0.99      1.00      0.99       231\n",
      "weighted avg       1.00      1.00      1.00       231\n",
      "\n",
      "Accuracy: 0.9956709956709957\n"
     ]
    },
    {
     "data": {
      "image/png": "[encoded data removed]",
      "text/plain": [
       "<Figure size 432x288 with 1 Axes>"
      ]
     },
     "metadata": {
      "needs_background": "light"
     },
     "output_type": "display_data"
    }
   ],
   "source": [
    "evaluate_model(model, valid_sequences, valid_y)"
   ]
  },
  {
   "cell_type": "code",
   "execution_count": 80,
   "metadata": {},
   "outputs": [
    {
     "name": "stdout",
     "output_type": "stream",
     "text": [
      "              precision    recall  f1-score   support\n",
      "\n",
      "           0       0.99      0.99      0.99       480\n",
      "           1       0.96      0.95      0.95        98\n",
      "\n",
      "   micro avg       0.98      0.98      0.98       578\n",
      "   macro avg       0.97      0.97      0.97       578\n",
      "weighted avg       0.98      0.98      0.98       578\n",
      "\n",
      "Accuracy: 0.9844290657439446\n"
     ]
    },
    {
     "data": {
      "image/png": "[encoded data removed]",
      "text/plain": [
       "<Figure size 432x288 with 1 Axes>"
      ]
     },
     "metadata": {
      "needs_background": "light"
     },
     "output_type": "display_data"
    }
   ],
   "source": [
    "evaluate_model(model, test_sequences, test_y)"
   ]
  },
  {
   "cell_type": "code",
   "execution_count": 22,
   "metadata": {},
   "outputs": [
    {
     "ename": "NameError",
     "evalue": "name 'model' is not defined",
     "output_type": "error",
     "traceback": [
      "\u001b[0;31m---------------------------------------------------------------------------\u001b[0m",
      "\u001b[0;31mNameError\u001b[0m                                 Traceback (most recent call last)",
      "\u001b[0;32m<ipython-input-22-48455ab65ec0>\u001b[0m in \u001b[0;36m<module>\u001b[0;34m\u001b[0m\n\u001b[0;32m----> 1\u001b[0;31m \u001b[0mclean_model\u001b[0m\u001b[0;34m(\u001b[0m\u001b[0mmodel\u001b[0m\u001b[0;34m)\u001b[0m\u001b[0;34m\u001b[0m\u001b[0m\n\u001b[0m",
      "\u001b[0;31mNameError\u001b[0m: name 'model' is not defined"
     ]
    }
   ],
   "source": [
    "clean_model(model)"
   ]
  },
  {
   "cell_type": "markdown",
   "metadata": {},
   "source": [
    "# Bidirectional LSTMs with self attention and ELMO on Pretrained (Glove) Embeddings"
   ]
  },
  {
   "cell_type": "markdown",
   "metadata": {},
   "source": [
    "## ELMO"
   ]
  },
  {
   "cell_type": "code",
   "execution_count": 22,
   "metadata": {},
   "outputs": [
    {
     "name": "stderr",
     "output_type": "stream",
     "text": [
      "WARNING: Logging before flag parsing goes to stderr.\n",
      "W0506 22:49:04.318979 139735243384576 __init__.py:56] Some hub symbols are not available because TensorFlow version is less than 1.14\n"
     ]
    }
   ],
   "source": [
    "import tensorflow_hub as hub\n",
    "from keras.layers import Layer\n",
    "\n",
    "class ELMo(Layer):\n",
    "    def __init__(self, elmo_representation='elmo', trainable=True, **kwargs):\n",
    "        self.module_output = elmo_representation\n",
    "        self.trainable = trainable\n",
    "\n",
    "        self.elmo = None\n",
    "        super(ELMo, self).__init__(**kwargs)\n",
    "\n",
    "    def build(self, input_shape):\n",
    "        # SetUp tensorflow Hub module\n",
    "        self.elmo = hub.Module('https://tfhub.dev/google/elmo/2',\n",
    "                               trainable=self.trainable, name=\"{}_module\".format(self.name))\n",
    "        # Assign module's trainable weights to model\n",
    "        self.trainable_weights += K.tf.trainable_variables(scope=\"^{}_module/.*\".format(self.name))\n",
    "        \n",
    "        super(ELMo, self).build(input_shape)\n",
    "\n",
    "    def call(self, x, mask=None):\n",
    "        result = self.elmo(K.squeeze(K.cast(x, tf.string), axis=1),\n",
    "                           as_dict=True,\n",
    "                           signature='default',\n",
    "                           )[self.module_output]\n",
    "        return result\n",
    "\n",
    "    def compute_mask(self, inputs, mask=None):\n",
    "        return None\n",
    "\n",
    "    def compute_output_shape(self, input_shape):\n",
    "        return input_shape[0], input_shape[0], 1024"
   ]
  },
  {
   "cell_type": "code",
   "execution_count": 23,
   "metadata": {},
   "outputs": [
    {
     "name": "stdout",
     "output_type": "stream",
     "text": [
      "INFO:tensorflow:Saver not created because there are no variables in the graph to restore\n"
     ]
    },
    {
     "name": "stderr",
     "output_type": "stream",
     "text": [
      "I0506 22:49:05.442323 139735243384576 tf_logging.py:115] Saver not created because there are no variables in the graph to restore\n"
     ]
    },
    {
     "name": "stdout",
     "output_type": "stream",
     "text": [
      "______________________________________________________________________________________________________________\n",
      "Layer (type)                        Output Shape            Param #      Connected to                         \n",
      "==============================================================================================================\n",
      "input_1 (InputLayer)                (None, None)            0                                                 \n",
      "______________________________________________________________________________________________________________\n",
      "input_2 (InputLayer)                (None, 1)               0                                                 \n",
      "______________________________________________________________________________________________________________\n",
      "embedding_1 (Embedding)             (None, None, 100)       4850800      input_1[0][0]                        \n",
      "______________________________________________________________________________________________________________\n",
      "el_mo_1 (ELMo)                      (None, None, 1024)      4            input_2[0][0]                        \n",
      "______________________________________________________________________________________________________________\n",
      "concatenate_1 (Concatenate)         (None, None, 1124)      0            embedding_1[0][0]                    \n",
      "                                                                         el_mo_1[0][0]                        \n",
      "______________________________________________________________________________________________________________\n",
      "dropout_1 (Dropout)                 (None, None, 1124)      0            concatenate_1[0][0]                  \n",
      "______________________________________________________________________________________________________________\n",
      "bidirectional_1 (Bidirectional)     (None, None, 200)       980000       dropout_1[0][0]                      \n",
      "______________________________________________________________________________________________________________\n",
      "bidirectional_2 (Bidirectional)     (None, None, 200)       240800       bidirectional_1[0][0]                \n",
      "______________________________________________________________________________________________________________\n",
      "deep_attention_1 (DeepAttention)    (None, 200)             40400        bidirectional_2[0][0]                \n",
      "______________________________________________________________________________________________________________\n",
      "dense_1 (Dense)                     (None, 1)               201          deep_attention_1[0][0]               \n",
      "==============================================================================================================\n",
      "Total params: 6,112,205\n",
      "Trainable params: 1,261,405\n",
      "Non-trainable params: 4,850,800\n",
      "______________________________________________________________________________________________________________\n"
     ]
    }
   ],
   "source": [
    "with tf.device('/cpu:0'):\n",
    "\n",
    "\n",
    "    inputs =  Input(shape=(None, ), dtype='int32')\n",
    "    elmo_inputs = Input(shape=(1,), dtype='string')\n",
    "    embeddings = Embedding(\n",
    "        input_dim=embedding_weights.shape[0],\n",
    "        output_dim=embedding_weights.shape[1],\n",
    "        #input_length=input_length,\n",
    "        embeddings_initializer=\"zeros\",\n",
    "        weights=[embedding_weights],\n",
    "        trainable=False\n",
    "    )(inputs)\n",
    "\n",
    "    # ELMo embeddings as weighted average across layers\n",
    "    elmo_embeddings = ELMo()(elmo_inputs)\n",
    "    # Concat Glove + ELMo embeddings\n",
    "    concatenated_embeddings = concatenate([embeddings, elmo_embeddings], axis=-1)\n",
    "\n",
    "    dropped_embeddings = Dropout(0.0)(concatenated_embeddings)\n",
    "    lstms_1 = Bidirectional(LSTM(100, return_sequences=True))(dropped_embeddings)\n",
    "    lstms_2 = Bidirectional(LSTM(100, return_sequences=True))(lstms_1)\n",
    "    attention =  DeepAttention()(lstms_2)\n",
    "    outputs = Dense(1, activation='sigmoid')(attention)\n",
    "\n",
    "    # Wrap model\n",
    "    model = Model(inputs=[inputs, elmo_inputs], outputs=outputs)\n",
    "    model.summary(110)\n"
   ]
  },
  {
   "cell_type": "code",
   "execution_count": 24,
   "metadata": {},
   "outputs": [
    {
     "data": {
      "image/png": "[encoded data removed]",
      "text/plain": [
       "<IPython.core.display.Image object>"
      ]
     },
     "execution_count": 24,
     "metadata": {},
     "output_type": "execute_result"
    }
   ],
   "source": [
    "%matplotlib notebook\n",
    "\n",
    "from keras.utils import plot_model\n",
    "plot_model(model, to_file='model.png')\n",
    "\n",
    "from IPython.display import Image \n",
    "Image('model.png')"
   ]
  },
  {
   "cell_type": "code",
   "execution_count": 25,
   "metadata": {},
   "outputs": [],
   "source": [
    "model.compile(optimizer=\"adam\", loss=\"binary_crossentropy\", metrics=[\"accuracy\"])"
   ]
  },
  {
   "cell_type": "code",
   "execution_count": 26,
   "metadata": {},
   "outputs": [
    {
     "name": "stdout",
     "output_type": "stream",
     "text": [
      "Train on 2084 samples, validate on 231 samples\n",
      "Epoch 1/20\n",
      "2084/2084 [==============================] - 506s 243ms/step - loss: 0.3429 - acc: 0.7970 - val_loss: 0.0539 - val_acc: 0.9827\n",
      "Epoch 2/20\n",
      "2084/2084 [==============================] - 485s 233ms/step - loss: 0.0525 - acc: 0.9822 - val_loss: 0.0367 - val_acc: 0.9913\n",
      "Epoch 3/20\n",
      "2084/2084 [==============================] - 539s 259ms/step - loss: 0.0290 - acc: 0.9914 - val_loss: 0.0452 - val_acc: 0.9870\n",
      "Epoch 4/20\n",
      "2084/2084 [==============================] - 538s 258ms/step - loss: 0.0213 - acc: 0.9914 - val_loss: 0.0230 - val_acc: 0.9957\n",
      "Epoch 5/20\n",
      "2084/2084 [==============================] - 526s 252ms/step - loss: 0.0100 - acc: 0.9962 - val_loss: 0.0334 - val_acc: 0.9870\n",
      "Epoch 6/20\n",
      "2084/2084 [==============================] - 543s 261ms/step - loss: 0.0064 - acc: 0.9976 - val_loss: 0.0354 - val_acc: 0.9870\n",
      "Epoch 7/20\n",
      "2084/2084 [==============================] - 539s 259ms/step - loss: 0.0071 - acc: 0.9976 - val_loss: 0.0201 - val_acc: 0.9957\n",
      "Epoch 8/20\n",
      "2084/2084 [==============================] - 540s 259ms/step - loss: 0.0109 - acc: 0.9966 - val_loss: 0.0247 - val_acc: 0.9913\n",
      "Epoch 9/20\n",
      "2084/2084 [==============================] - 538s 258ms/step - loss: 0.0089 - acc: 0.9976 - val_loss: 0.0425 - val_acc: 0.9827\n",
      "Epoch 10/20\n",
      "2084/2084 [==============================] - 518s 248ms/step - loss: 0.0076 - acc: 0.9986 - val_loss: 0.0252 - val_acc: 0.9957\n",
      "Restoring model weights from the end of the best epoch\n",
      "Epoch 00010: early stopping\n"
     ]
    }
   ],
   "source": [
    "history = model.fit(\n",
    "    [train_sequences, array(tokenizer.sequences_to_texts(train_sequences))], train_y,\n",
    "    validation_data=([valid_sequences, array(tokenizer.sequences_to_texts(valid_sequences))], valid_y),\n",
    "    batch_size=256,\n",
    "    epochs=20,\n",
    "    callbacks=[EarlyStopping(patience=3, restore_best_weights=True, verbose=1)],\n",
    "    verbose=1\n",
    ")"
   ]
  },
  {
   "cell_type": "code",
   "execution_count": 31,
   "metadata": {},
   "outputs": [
    {
     "data": {
      "application/javascript": [
       "/* Put everything inside the global mpl namespace */\n",
       "window.mpl = {};\n",
       "\n",
       "\n",
       "mpl.get_websocket_type = function() {\n",
       "    if (typeof(WebSocket) !== 'undefined') {\n",
       "        return WebSocket;\n",
       "    } else if (typeof(MozWebSocket) !== 'undefined') {\n",
       "        return MozWebSocket;\n",
       "    } else {\n",
       "        alert('Your browser does not have WebSocket support.' +\n",
       "              'Please try Chrome, Safari or Firefox ≥ 6. ' +\n",
       "              'Firefox 4 and 5 are also supported but you ' +\n",
       "              'have to enable WebSockets in about:config.');\n",
       "    };\n",
       "}\n",
       "\n",
       "mpl.figure = function(figure_id, websocket, ondownload, parent_element) {\n",
       "    this.id = figure_id;\n",
       "\n",
       "    this.ws = websocket;\n",
       "\n",
       "    this.supports_binary = (this.ws.binaryType != undefined);\n",
       "\n",
       "    if (!this.supports_binary) {\n",
       "        var warnings = document.getElementById(\"mpl-warnings\");\n",
       "        if (warnings) {\n",
       "            warnings.style.display = 'block';\n",
       "            warnings.textContent = (\n",
       "                \"This browser does not support binary websocket messages. \" +\n",
       "                    \"Performance may be slow.\");\n",
       "        }\n",
       "    }\n",
       "\n",
       "    this.imageObj = new Image();\n",
       "\n",
       "    this.context = undefined;\n",
       "    this.message = undefined;\n",
       "    this.canvas = undefined;\n",
       "    this.rubberband_canvas = undefined;\n",
       "    this.rubberband_context = undefined;\n",
       "    this.format_dropdown = undefined;\n",
       "\n",
       "    this.image_mode = 'full';\n",
       "\n",
       "    this.root = $('<div/>');\n",
       "    this._root_extra_style(this.root)\n",
       "    this.root.attr('style', 'display: inline-block');\n",
       "\n",
       "    $(parent_element).append(this.root);\n",
       "\n",
       "    this._init_header(this);\n",
       "    this._init_canvas(this);\n",
       "    this._init_toolbar(this);\n",
       "\n",
       "    var fig = this;\n",
       "\n",
       "    this.waiting = false;\n",
       "\n",
       "    this.ws.onopen =  function () {\n",
       "            fig.send_message(\"supports_binary\", {value: fig.supports_binary});\n",
       "            fig.send_message(\"send_image_mode\", {});\n",
       "            if (mpl.ratio != 1) {\n",
       "                fig.send_message(\"set_dpi_ratio\", {'dpi_ratio': mpl.ratio});\n",
       "            }\n",
       "            fig.send_message(\"refresh\", {});\n",
       "        }\n",
       "\n",
       "    this.imageObj.onload = function() {\n",
       "            if (fig.image_mode == 'full') {\n",
       "                // Full images could contain transparency (where diff images\n",
       "                // almost always do), so we need to clear the canvas so that\n",
       "                // there is no ghosting.\n",
       "                fig.context.clearRect(0, 0, fig.canvas.width, fig.canvas.height);\n",
       "            }\n",
       "            fig.context.drawImage(fig.imageObj, 0, 0);\n",
       "        };\n",
       "\n",
       "    this.imageObj.onunload = function() {\n",
       "        fig.ws.close();\n",
       "    }\n",
       "\n",
       "    this.ws.onmessage = this._make_on_message_function(this);\n",
       "\n",
       "    this.ondownload = ondownload;\n",
       "}\n",
       "\n",
       "mpl.figure.prototype._init_header = function() {\n",
       "    var titlebar = $(\n",
       "        '<div class=\"ui-dialog-titlebar ui-widget-header ui-corner-all ' +\n",
       "        'ui-helper-clearfix\"/>');\n",
       "    var titletext = $(\n",
       "        '<div class=\"ui-dialog-title\" style=\"width: 100%; ' +\n",
       "        'text-align: center; padding: 3px;\"/>');\n",
       "    titlebar.append(titletext)\n",
       "    this.root.append(titlebar);\n",
       "    this.header = titletext[0];\n",
       "}\n",
       "\n",
       "\n",
       "\n",
       "mpl.figure.prototype._canvas_extra_style = function(canvas_div) {\n",
       "\n",
       "}\n",
       "\n",
       "\n",
       "mpl.figure.prototype._root_extra_style = function(canvas_div) {\n",
       "\n",
       "}\n",
       "\n",
       "mpl.figure.prototype._init_canvas = function() {\n",
       "    var fig = this;\n",
       "\n",
       "    var canvas_div = $('<div/>');\n",
       "\n",
       "    canvas_div.attr('style', 'position: relative; clear: both; outline: 0');\n",
       "\n",
       "    function canvas_keyboard_event(event) {\n",
       "        return fig.key_event(event, event['data']);\n",
       "    }\n",
       "\n",
       "    canvas_div.keydown('key_press', canvas_keyboard_event);\n",
       "    canvas_div.keyup('key_release', canvas_keyboard_event);\n",
       "    this.canvas_div = canvas_div\n",
       "    this._canvas_extra_style(canvas_div)\n",
       "    this.root.append(canvas_div);\n",
       "\n",
       "    var canvas = $('<canvas/>');\n",
       "    canvas.addClass('mpl-canvas');\n",
       "    canvas.attr('style', \"left: 0; top: 0; z-index: 0; outline: 0\")\n",
       "\n",
       "    this.canvas = canvas[0];\n",
       "    this.context = canvas[0].getContext(\"2d\");\n",
       "\n",
       "    var backingStore = this.context.backingStorePixelRatio ||\n",
       "\tthis.context.webkitBackingStorePixelRatio ||\n",
       "\tthis.context.mozBackingStorePixelRatio ||\n",
       "\tthis.context.msBackingStorePixelRatio ||\n",
       "\tthis.context.oBackingStorePixelRatio ||\n",
       "\tthis.context.backingStorePixelRatio || 1;\n",
       "\n",
       "    mpl.ratio = (window.devicePixelRatio || 1) / backingStore;\n",
       "\n",
       "    var rubberband = $('<canvas/>');\n",
       "    rubberband.attr('style', \"position: absolute; left: 0; top: 0; z-index: 1;\")\n",
       "\n",
       "    var pass_mouse_events = true;\n",
       "\n",
       "    canvas_div.resizable({\n",
       "        start: function(event, ui) {\n",
       "            pass_mouse_events = false;\n",
       "        },\n",
       "        resize: function(event, ui) {\n",
       "            fig.request_resize(ui.size.width, ui.size.height);\n",
       "        },\n",
       "        stop: function(event, ui) {\n",
       "            pass_mouse_events = true;\n",
       "            fig.request_resize(ui.size.width, ui.size.height);\n",
       "        },\n",
       "    });\n",
       "\n",
       "    function mouse_event_fn(event) {\n",
       "        if (pass_mouse_events)\n",
       "            return fig.mouse_event(event, event['data']);\n",
       "    }\n",
       "\n",
       "    rubberband.mousedown('button_press', mouse_event_fn);\n",
       "    rubberband.mouseup('button_release', mouse_event_fn);\n",
       "    // Throttle sequential mouse events to 1 every 20ms.\n",
       "    rubberband.mousemove('motion_notify', mouse_event_fn);\n",
       "\n",
       "    rubberband.mouseenter('figure_enter', mouse_event_fn);\n",
       "    rubberband.mouseleave('figure_leave', mouse_event_fn);\n",
       "\n",
       "    canvas_div.on(\"wheel\", function (event) {\n",
       "        event = event.originalEvent;\n",
       "        event['data'] = 'scroll'\n",
       "        if (event.deltaY < 0) {\n",
       "            event.step = 1;\n",
       "        } else {\n",
       "            event.step = -1;\n",
       "        }\n",
       "        mouse_event_fn(event);\n",
       "    });\n",
       "\n",
       "    canvas_div.append(canvas);\n",
       "    canvas_div.append(rubberband);\n",
       "\n",
       "    this.rubberband = rubberband;\n",
       "    this.rubberband_canvas = rubberband[0];\n",
       "    this.rubberband_context = rubberband[0].getContext(\"2d\");\n",
       "    this.rubberband_context.strokeStyle = \"#000000\";\n",
       "\n",
       "    this._resize_canvas = function(width, height) {\n",
       "        // Keep the size of the canvas, canvas container, and rubber band\n",
       "        // canvas in synch.\n",
       "        canvas_div.css('width', width)\n",
       "        canvas_div.css('height', height)\n",
       "\n",
       "        canvas.attr('width', width * mpl.ratio);\n",
       "        canvas.attr('height', height * mpl.ratio);\n",
       "        canvas.attr('style', 'width: ' + width + 'px; height: ' + height + 'px;');\n",
       "\n",
       "        rubberband.attr('width', width);\n",
       "        rubberband.attr('height', height);\n",
       "    }\n",
       "\n",
       "    // Set the figure to an initial 600x600px, this will subsequently be updated\n",
       "    // upon first draw.\n",
       "    this._resize_canvas(600, 600);\n",
       "\n",
       "    // Disable right mouse context menu.\n",
       "    $(this.rubberband_canvas).bind(\"contextmenu\",function(e){\n",
       "        return false;\n",
       "    });\n",
       "\n",
       "    function set_focus () {\n",
       "        canvas.focus();\n",
       "        canvas_div.focus();\n",
       "    }\n",
       "\n",
       "    window.setTimeout(set_focus, 100);\n",
       "}\n",
       "\n",
       "mpl.figure.prototype._init_toolbar = function() {\n",
       "    var fig = this;\n",
       "\n",
       "    var nav_element = $('<div/>')\n",
       "    nav_element.attr('style', 'width: 100%');\n",
       "    this.root.append(nav_element);\n",
       "\n",
       "    // Define a callback function for later on.\n",
       "    function toolbar_event(event) {\n",
       "        return fig.toolbar_button_onclick(event['data']);\n",
       "    }\n",
       "    function toolbar_mouse_event(event) {\n",
       "        return fig.toolbar_button_onmouseover(event['data']);\n",
       "    }\n",
       "\n",
       "    for(var toolbar_ind in mpl.toolbar_items) {\n",
       "        var name = mpl.toolbar_items[toolbar_ind][0];\n",
       "        var tooltip = mpl.toolbar_items[toolbar_ind][1];\n",
       "        var image = mpl.toolbar_items[toolbar_ind][2];\n",
       "        var method_name = mpl.toolbar_items[toolbar_ind][3];\n",
       "\n",
       "        if (!name) {\n",
       "            // put a spacer in here.\n",
       "            continue;\n",
       "        }\n",
       "        var button = $('<button/>');\n",
       "        button.addClass('ui-button ui-widget ui-state-default ui-corner-all ' +\n",
       "                        'ui-button-icon-only');\n",
       "        button.attr('role', 'button');\n",
       "        button.attr('aria-disabled', 'false');\n",
       "        button.click(method_name, toolbar_event);\n",
       "        button.mouseover(tooltip, toolbar_mouse_event);\n",
       "\n",
       "        var icon_img = $('<span/>');\n",
       "        icon_img.addClass('ui-button-icon-primary ui-icon');\n",
       "        icon_img.addClass(image);\n",
       "        icon_img.addClass('ui-corner-all');\n",
       "\n",
       "        var tooltip_span = $('<span/>');\n",
       "        tooltip_span.addClass('ui-button-text');\n",
       "        tooltip_span.html(tooltip);\n",
       "\n",
       "        button.append(icon_img);\n",
       "        button.append(tooltip_span);\n",
       "\n",
       "        nav_element.append(button);\n",
       "    }\n",
       "\n",
       "    var fmt_picker_span = $('<span/>');\n",
       "\n",
       "    var fmt_picker = $('<select/>');\n",
       "    fmt_picker.addClass('mpl-toolbar-option ui-widget ui-widget-content');\n",
       "    fmt_picker_span.append(fmt_picker);\n",
       "    nav_element.append(fmt_picker_span);\n",
       "    this.format_dropdown = fmt_picker[0];\n",
       "\n",
       "    for (var ind in mpl.extensions) {\n",
       "        var fmt = mpl.extensions[ind];\n",
       "        var option = $(\n",
       "            '<option/>', {selected: fmt === mpl.default_extension}).html(fmt);\n",
       "        fmt_picker.append(option)\n",
       "    }\n",
       "\n",
       "    // Add hover states to the ui-buttons\n",
       "    $( \".ui-button\" ).hover(\n",
       "        function() { $(this).addClass(\"ui-state-hover\");},\n",
       "        function() { $(this).removeClass(\"ui-state-hover\");}\n",
       "    );\n",
       "\n",
       "    var status_bar = $('<span class=\"mpl-message\"/>');\n",
       "    nav_element.append(status_bar);\n",
       "    this.message = status_bar[0];\n",
       "}\n",
       "\n",
       "mpl.figure.prototype.request_resize = function(x_pixels, y_pixels) {\n",
       "    // Request matplotlib to resize the figure. Matplotlib will then trigger a resize in the client,\n",
       "    // which will in turn request a refresh of the image.\n",
       "    this.send_message('resize', {'width': x_pixels, 'height': y_pixels});\n",
       "}\n",
       "\n",
       "mpl.figure.prototype.send_message = function(type, properties) {\n",
       "    properties['type'] = type;\n",
       "    properties['figure_id'] = this.id;\n",
       "    this.ws.send(JSON.stringify(properties));\n",
       "}\n",
       "\n",
       "mpl.figure.prototype.send_draw_message = function() {\n",
       "    if (!this.waiting) {\n",
       "        this.waiting = true;\n",
       "        this.ws.send(JSON.stringify({type: \"draw\", figure_id: this.id}));\n",
       "    }\n",
       "}\n",
       "\n",
       "\n",
       "mpl.figure.prototype.handle_save = function(fig, msg) {\n",
       "    var format_dropdown = fig.format_dropdown;\n",
       "    var format = format_dropdown.options[format_dropdown.selectedIndex].value;\n",
       "    fig.ondownload(fig, format);\n",
       "}\n",
       "\n",
       "\n",
       "mpl.figure.prototype.handle_resize = function(fig, msg) {\n",
       "    var size = msg['size'];\n",
       "    if (size[0] != fig.canvas.width || size[1] != fig.canvas.height) {\n",
       "        fig._resize_canvas(size[0], size[1]);\n",
       "        fig.send_message(\"refresh\", {});\n",
       "    };\n",
       "}\n",
       "\n",
       "mpl.figure.prototype.handle_rubberband = function(fig, msg) {\n",
       "    var x0 = msg['x0'] / mpl.ratio;\n",
       "    var y0 = (fig.canvas.height - msg['y0']) / mpl.ratio;\n",
       "    var x1 = msg['x1'] / mpl.ratio;\n",
       "    var y1 = (fig.canvas.height - msg['y1']) / mpl.ratio;\n",
       "    x0 = Math.floor(x0) + 0.5;\n",
       "    y0 = Math.floor(y0) + 0.5;\n",
       "    x1 = Math.floor(x1) + 0.5;\n",
       "    y1 = Math.floor(y1) + 0.5;\n",
       "    var min_x = Math.min(x0, x1);\n",
       "    var min_y = Math.min(y0, y1);\n",
       "    var width = Math.abs(x1 - x0);\n",
       "    var height = Math.abs(y1 - y0);\n",
       "\n",
       "    fig.rubberband_context.clearRect(\n",
       "        0, 0, fig.canvas.width, fig.canvas.height);\n",
       "\n",
       "    fig.rubberband_context.strokeRect(min_x, min_y, width, height);\n",
       "}\n",
       "\n",
       "mpl.figure.prototype.handle_figure_label = function(fig, msg) {\n",
       "    // Updates the figure title.\n",
       "    fig.header.textContent = msg['label'];\n",
       "}\n",
       "\n",
       "mpl.figure.prototype.handle_cursor = function(fig, msg) {\n",
       "    var cursor = msg['cursor'];\n",
       "    switch(cursor)\n",
       "    {\n",
       "    case 0:\n",
       "        cursor = 'pointer';\n",
       "        break;\n",
       "    case 1:\n",
       "        cursor = 'default';\n",
       "        break;\n",
       "    case 2:\n",
       "        cursor = 'crosshair';\n",
       "        break;\n",
       "    case 3:\n",
       "        cursor = 'move';\n",
       "        break;\n",
       "    }\n",
       "    fig.rubberband_canvas.style.cursor = cursor;\n",
       "}\n",
       "\n",
       "mpl.figure.prototype.handle_message = function(fig, msg) {\n",
       "    fig.message.textContent = msg['message'];\n",
       "}\n",
       "\n",
       "mpl.figure.prototype.handle_draw = function(fig, msg) {\n",
       "    // Request the server to send over a new figure.\n",
       "    fig.send_draw_message();\n",
       "}\n",
       "\n",
       "mpl.figure.prototype.handle_image_mode = function(fig, msg) {\n",
       "    fig.image_mode = msg['mode'];\n",
       "}\n",
       "\n",
       "mpl.figure.prototype.updated_canvas_event = function() {\n",
       "    // Called whenever the canvas gets updated.\n",
       "    this.send_message(\"ack\", {});\n",
       "}\n",
       "\n",
       "// A function to construct a web socket function for onmessage handling.\n",
       "// Called in the figure constructor.\n",
       "mpl.figure.prototype._make_on_message_function = function(fig) {\n",
       "    return function socket_on_message(evt) {\n",
       "        if (evt.data instanceof Blob) {\n",
       "            /* FIXME: We get \"Resource interpreted as Image but\n",
       "             * transferred with MIME type text/plain:\" errors on\n",
       "             * Chrome.  But how to set the MIME type?  It doesn't seem\n",
       "             * to be part of the websocket stream */\n",
       "            evt.data.type = \"image/png\";\n",
       "\n",
       "            /* Free the memory for the previous frames */\n",
       "            if (fig.imageObj.src) {\n",
       "                (window.URL || window.webkitURL).revokeObjectURL(\n",
       "                    fig.imageObj.src);\n",
       "            }\n",
       "\n",
       "            fig.imageObj.src = (window.URL || window.webkitURL).createObjectURL(\n",
       "                evt.data);\n",
       "            fig.updated_canvas_event();\n",
       "            fig.waiting = false;\n",
       "            return;\n",
       "        }\n",
       "        else if (typeof evt.data === 'string' && evt.data.slice(0, 21) == \"data:image/png;base64\") {\n",
       "            fig.imageObj.src = evt.data;\n",
       "            fig.updated_canvas_event();\n",
       "            fig.waiting = false;\n",
       "            return;\n",
       "        }\n",
       "\n",
       "        var msg = JSON.parse(evt.data);\n",
       "        var msg_type = msg['type'];\n",
       "\n",
       "        // Call the  \"handle_{type}\" callback, which takes\n",
       "        // the figure and JSON message as its only arguments.\n",
       "        try {\n",
       "            var callback = fig[\"handle_\" + msg_type];\n",
       "        } catch (e) {\n",
       "            console.log(\"No handler for the '\" + msg_type + \"' message type: \", msg);\n",
       "            return;\n",
       "        }\n",
       "\n",
       "        if (callback) {\n",
       "            try {\n",
       "                // console.log(\"Handling '\" + msg_type + \"' message: \", msg);\n",
       "                callback(fig, msg);\n",
       "            } catch (e) {\n",
       "                console.log(\"Exception inside the 'handler_\" + msg_type + \"' callback:\", e, e.stack, msg);\n",
       "            }\n",
       "        }\n",
       "    };\n",
       "}\n",
       "\n",
       "// from http://stackoverflow.com/questions/1114465/getting-mouse-location-in-canvas\n",
       "mpl.findpos = function(e) {\n",
       "    //this section is from http://www.quirksmode.org/js/events_properties.html\n",
       "    var targ;\n",
       "    if (!e)\n",
       "        e = window.event;\n",
       "    if (e.target)\n",
       "        targ = e.target;\n",
       "    else if (e.srcElement)\n",
       "        targ = e.srcElement;\n",
       "    if (targ.nodeType == 3) // defeat Safari bug\n",
       "        targ = targ.parentNode;\n",
       "\n",
       "    // jQuery normalizes the pageX and pageY\n",
       "    // pageX,Y are the mouse positions relative to the document\n",
       "    // offset() returns the position of the element relative to the document\n",
       "    var x = e.pageX - $(targ).offset().left;\n",
       "    var y = e.pageY - $(targ).offset().top;\n",
       "\n",
       "    return {\"x\": x, \"y\": y};\n",
       "};\n",
       "\n",
       "/*\n",
       " * return a copy of an object with only non-object keys\n",
       " * we need this to avoid circular references\n",
       " * http://stackoverflow.com/a/24161582/3208463\n",
       " */\n",
       "function simpleKeys (original) {\n",
       "  return Object.keys(original).reduce(function (obj, key) {\n",
       "    if (typeof original[key] !== 'object')\n",
       "        obj[key] = original[key]\n",
       "    return obj;\n",
       "  }, {});\n",
       "}\n",
       "\n",
       "mpl.figure.prototype.mouse_event = function(event, name) {\n",
       "    var canvas_pos = mpl.findpos(event)\n",
       "\n",
       "    if (name === 'button_press')\n",
       "    {\n",
       "        this.canvas.focus();\n",
       "        this.canvas_div.focus();\n",
       "    }\n",
       "\n",
       "    var x = canvas_pos.x * mpl.ratio;\n",
       "    var y = canvas_pos.y * mpl.ratio;\n",
       "\n",
       "    this.send_message(name, {x: x, y: y, button: event.button,\n",
       "                             step: event.step,\n",
       "                             guiEvent: simpleKeys(event)});\n",
       "\n",
       "    /* This prevents the web browser from automatically changing to\n",
       "     * the text insertion cursor when the button is pressed.  We want\n",
       "     * to control all of the cursor setting manually through the\n",
       "     * 'cursor' event from matplotlib */\n",
       "    event.preventDefault();\n",
       "    return false;\n",
       "}\n",
       "\n",
       "mpl.figure.prototype._key_event_extra = function(event, name) {\n",
       "    // Handle any extra behaviour associated with a key event\n",
       "}\n",
       "\n",
       "mpl.figure.prototype.key_event = function(event, name) {\n",
       "\n",
       "    // Prevent repeat events\n",
       "    if (name == 'key_press')\n",
       "    {\n",
       "        if (event.which === this._key)\n",
       "            return;\n",
       "        else\n",
       "            this._key = event.which;\n",
       "    }\n",
       "    if (name == 'key_release')\n",
       "        this._key = null;\n",
       "\n",
       "    var value = '';\n",
       "    if (event.ctrlKey && event.which != 17)\n",
       "        value += \"ctrl+\";\n",
       "    if (event.altKey && event.which != 18)\n",
       "        value += \"alt+\";\n",
       "    if (event.shiftKey && event.which != 16)\n",
       "        value += \"shift+\";\n",
       "\n",
       "    value += 'k';\n",
       "    value += event.which.toString();\n",
       "\n",
       "    this._key_event_extra(event, name);\n",
       "\n",
       "    this.send_message(name, {key: value,\n",
       "                             guiEvent: simpleKeys(event)});\n",
       "    return false;\n",
       "}\n",
       "\n",
       "mpl.figure.prototype.toolbar_button_onclick = function(name) {\n",
       "    if (name == 'download') {\n",
       "        this.handle_save(this, null);\n",
       "    } else {\n",
       "        this.send_message(\"toolbar_button\", {name: name});\n",
       "    }\n",
       "};\n",
       "\n",
       "mpl.figure.prototype.toolbar_button_onmouseover = function(tooltip) {\n",
       "    this.message.textContent = tooltip;\n",
       "};\n",
       "mpl.toolbar_items = [[\"Home\", \"Reset original view\", \"fa fa-home icon-home\", \"home\"], [\"Back\", \"Back to previous view\", \"fa fa-arrow-left icon-arrow-left\", \"back\"], [\"Forward\", \"Forward to next view\", \"fa fa-arrow-right icon-arrow-right\", \"forward\"], [\"\", \"\", \"\", \"\"], [\"Pan\", \"Pan axes with left mouse, zoom with right\", \"fa fa-arrows icon-move\", \"pan\"], [\"Zoom\", \"Zoom to rectangle\", \"fa fa-square-o icon-check-empty\", \"zoom\"], [\"\", \"\", \"\", \"\"], [\"Download\", \"Download plot\", \"fa fa-floppy-o icon-save\", \"download\"]];\n",
       "\n",
       "mpl.extensions = [\"eps\", \"jpeg\", \"pdf\", \"png\", \"ps\", \"raw\", \"svg\", \"tif\"];\n",
       "\n",
       "mpl.default_extension = \"png\";var comm_websocket_adapter = function(comm) {\n",
       "    // Create a \"websocket\"-like object which calls the given IPython comm\n",
       "    // object with the appropriate methods. Currently this is a non binary\n",
       "    // socket, so there is still some room for performance tuning.\n",
       "    var ws = {};\n",
       "\n",
       "    ws.close = function() {\n",
       "        comm.close()\n",
       "    };\n",
       "    ws.send = function(m) {\n",
       "        //console.log('sending', m);\n",
       "        comm.send(m);\n",
       "    };\n",
       "    // Register the callback with on_msg.\n",
       "    comm.on_msg(function(msg) {\n",
       "        //console.log('receiving', msg['content']['data'], msg);\n",
       "        // Pass the mpl event to the overridden (by mpl) onmessage function.\n",
       "        ws.onmessage(msg['content']['data'])\n",
       "    });\n",
       "    return ws;\n",
       "}\n",
       "\n",
       "mpl.mpl_figure_comm = function(comm, msg) {\n",
       "    // This is the function which gets called when the mpl process\n",
       "    // starts-up an IPython Comm through the \"matplotlib\" channel.\n",
       "\n",
       "    var id = msg.content.data.id;\n",
       "    // Get hold of the div created by the display call when the Comm\n",
       "    // socket was opened in Python.\n",
       "    var element = $(\"#\" + id);\n",
       "    var ws_proxy = comm_websocket_adapter(comm)\n",
       "\n",
       "    function ondownload(figure, format) {\n",
       "        window.open(figure.imageObj.src);\n",
       "    }\n",
       "\n",
       "    var fig = new mpl.figure(id, ws_proxy,\n",
       "                           ondownload,\n",
       "                           element.get(0));\n",
       "\n",
       "    // Call onopen now - mpl needs it, as it is assuming we've passed it a real\n",
       "    // web socket which is closed, not our websocket->open comm proxy.\n",
       "    ws_proxy.onopen();\n",
       "\n",
       "    fig.parent_element = element.get(0);\n",
       "    fig.cell_info = mpl.find_output_cell(\"<div id='\" + id + \"'></div>\");\n",
       "    if (!fig.cell_info) {\n",
       "        console.error(\"Failed to find cell for figure\", id, fig);\n",
       "        return;\n",
       "    }\n",
       "\n",
       "    var output_index = fig.cell_info[2]\n",
       "    var cell = fig.cell_info[0];\n",
       "\n",
       "};\n",
       "\n",
       "mpl.figure.prototype.handle_close = function(fig, msg) {\n",
       "    var width = fig.canvas.width/mpl.ratio\n",
       "    fig.root.unbind('remove')\n",
       "\n",
       "    // Update the output cell to use the data from the current canvas.\n",
       "    fig.push_to_output();\n",
       "    var dataURL = fig.canvas.toDataURL();\n",
       "    // Re-enable the keyboard manager in IPython - without this line, in FF,\n",
       "    // the notebook keyboard shortcuts fail.\n",
       "    IPython.keyboard_manager.enable()\n",
       "    $(fig.parent_element).html('<img src=\"' + dataURL + '\" width=\"' + width + '\">');\n",
       "    fig.close_ws(fig, msg);\n",
       "}\n",
       "\n",
       "mpl.figure.prototype.close_ws = function(fig, msg){\n",
       "    fig.send_message('closing', msg);\n",
       "    // fig.ws.close()\n",
       "}\n",
       "\n",
       "mpl.figure.prototype.push_to_output = function(remove_interactive) {\n",
       "    // Turn the data on the canvas into data in the output cell.\n",
       "    var width = this.canvas.width/mpl.ratio\n",
       "    var dataURL = this.canvas.toDataURL();\n",
       "    this.cell_info[1]['text/html'] = '<img src=\"' + dataURL + '\" width=\"' + width + '\">';\n",
       "}\n",
       "\n",
       "mpl.figure.prototype.updated_canvas_event = function() {\n",
       "    // Tell IPython that the notebook contents must change.\n",
       "    IPython.notebook.set_dirty(true);\n",
       "    this.send_message(\"ack\", {});\n",
       "    var fig = this;\n",
       "    // Wait a second, then push the new image to the DOM so\n",
       "    // that it is saved nicely (might be nice to debounce this).\n",
       "    setTimeout(function () { fig.push_to_output() }, 1000);\n",
       "}\n",
       "\n",
       "mpl.figure.prototype._init_toolbar = function() {\n",
       "    var fig = this;\n",
       "\n",
       "    var nav_element = $('<div/>')\n",
       "    nav_element.attr('style', 'width: 100%');\n",
       "    this.root.append(nav_element);\n",
       "\n",
       "    // Define a callback function for later on.\n",
       "    function toolbar_event(event) {\n",
       "        return fig.toolbar_button_onclick(event['data']);\n",
       "    }\n",
       "    function toolbar_mouse_event(event) {\n",
       "        return fig.toolbar_button_onmouseover(event['data']);\n",
       "    }\n",
       "\n",
       "    for(var toolbar_ind in mpl.toolbar_items){\n",
       "        var name = mpl.toolbar_items[toolbar_ind][0];\n",
       "        var tooltip = mpl.toolbar_items[toolbar_ind][1];\n",
       "        var image = mpl.toolbar_items[toolbar_ind][2];\n",
       "        var method_name = mpl.toolbar_items[toolbar_ind][3];\n",
       "\n",
       "        if (!name) { continue; };\n",
       "\n",
       "        var button = $('<button class=\"btn btn-default\" href=\"#\" title=\"' + name + '\"><i class=\"fa ' + image + ' fa-lg\"></i></button>');\n",
       "        button.click(method_name, toolbar_event);\n",
       "        button.mouseover(tooltip, toolbar_mouse_event);\n",
       "        nav_element.append(button);\n",
       "    }\n",
       "\n",
       "    // Add the status bar.\n",
       "    var status_bar = $('<span class=\"mpl-message\" style=\"text-align:right; float: right;\"/>');\n",
       "    nav_element.append(status_bar);\n",
       "    this.message = status_bar[0];\n",
       "\n",
       "    // Add the close button to the window.\n",
       "    var buttongrp = $('<div class=\"btn-group inline pull-right\"></div>');\n",
       "    var button = $('<button class=\"btn btn-mini btn-primary\" href=\"#\" title=\"Stop Interaction\"><i class=\"fa fa-power-off icon-remove icon-large\"></i></button>');\n",
       "    button.click(function (evt) { fig.handle_close(fig, {}); } );\n",
       "    button.mouseover('Stop Interaction', toolbar_mouse_event);\n",
       "    buttongrp.append(button);\n",
       "    var titlebar = this.root.find($('.ui-dialog-titlebar'));\n",
       "    titlebar.prepend(buttongrp);\n",
       "}\n",
       "\n",
       "mpl.figure.prototype._root_extra_style = function(el){\n",
       "    var fig = this\n",
       "    el.on(\"remove\", function(){\n",
       "\tfig.close_ws(fig, {});\n",
       "    });\n",
       "}\n",
       "\n",
       "mpl.figure.prototype._canvas_extra_style = function(el){\n",
       "    // this is important to make the div 'focusable\n",
       "    el.attr('tabindex', 0)\n",
       "    // reach out to IPython and tell the keyboard manager to turn it's self\n",
       "    // off when our div gets focus\n",
       "\n",
       "    // location in version 3\n",
       "    if (IPython.notebook.keyboard_manager) {\n",
       "        IPython.notebook.keyboard_manager.register_events(el);\n",
       "    }\n",
       "    else {\n",
       "        // location in version 2\n",
       "        IPython.keyboard_manager.register_events(el);\n",
       "    }\n",
       "\n",
       "}\n",
       "\n",
       "mpl.figure.prototype._key_event_extra = function(event, name) {\n",
       "    var manager = IPython.notebook.keyboard_manager;\n",
       "    if (!manager)\n",
       "        manager = IPython.keyboard_manager;\n",
       "\n",
       "    // Check for shift+enter\n",
       "    if (event.shiftKey && event.which == 13) {\n",
       "        this.canvas_div.blur();\n",
       "        event.shiftKey = false;\n",
       "        // Send a \"J\" for go to next cell\n",
       "        event.which = 74;\n",
       "        event.keyCode = 74;\n",
       "        manager.command_mode();\n",
       "        manager.handle_keydown(event);\n",
       "    }\n",
       "}\n",
       "\n",
       "mpl.figure.prototype.handle_save = function(fig, msg) {\n",
       "    fig.ondownload(fig, null);\n",
       "}\n",
       "\n",
       "\n",
       "mpl.find_output_cell = function(html_output) {\n",
       "    // Return the cell and output element which can be found *uniquely* in the notebook.\n",
       "    // Note - this is a bit hacky, but it is done because the \"notebook_saving.Notebook\"\n",
       "    // IPython event is triggered only after the cells have been serialised, which for\n",
       "    // our purposes (turning an active figure into a static one), is too late.\n",
       "    var cells = IPython.notebook.get_cells();\n",
       "    var ncells = cells.length;\n",
       "    for (var i=0; i<ncells; i++) {\n",
       "        var cell = cells[i];\n",
       "        if (cell.cell_type === 'code'){\n",
       "            for (var j=0; j<cell.output_area.outputs.length; j++) {\n",
       "                var data = cell.output_area.outputs[j];\n",
       "                if (data.data) {\n",
       "                    // IPython >= 3 moved mimebundle to data attribute of output\n",
       "                    data = data.data;\n",
       "                }\n",
       "                if (data['text/html'] == html_output) {\n",
       "                    return [cell, data, j];\n",
       "                }\n",
       "            }\n",
       "        }\n",
       "    }\n",
       "}\n",
       "\n",
       "// Register the function which deals with the matplotlib target/channel.\n",
       "// The kernel may be null if the page has been refreshed.\n",
       "if (IPython.notebook.kernel != null) {\n",
       "    IPython.notebook.kernel.comm_manager.register_target('matplotlib', mpl.mpl_figure_comm);\n",
       "}\n"
      ],
      "text/plain": [
       "<IPython.core.display.Javascript object>"
      ]
     },
     "metadata": {},
     "output_type": "display_data"
    },
    {
     "data": {
      "text/html": [
       "<img src=\"data:image/png;base64,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\" width=\"640\">"
      ],
      "text/plain": [
       "<IPython.core.display.HTML object>"
      ]
     },
     "metadata": {},
     "output_type": "display_data"
    }
   ],
   "source": [
    "plot_history(history)"
   ]
  },
  {
   "cell_type": "code",
   "execution_count": null,
   "metadata": {},
   "outputs": [],
   "source": [
    "evaluate_model(model, [valid_sequences, array(tokenizer.sequences_to_texts(valid_sequences))], valid_y)"
   ]
  },
  {
   "cell_type": "code",
   "execution_count": 30,
   "metadata": {
    "scrolled": true
   },
   "outputs": [
    {
     "name": "stdout",
     "output_type": "stream",
     "text": [
      "              precision    recall  f1-score   support\n",
      "\n",
      "           0       0.98      1.00      0.99       480\n",
      "           1       0.98      0.92      0.95        98\n",
      "\n",
      "   micro avg       0.98      0.98      0.98       578\n",
      "   macro avg       0.98      0.96      0.97       578\n",
      "weighted avg       0.98      0.98      0.98       578\n",
      "\n",
      "Accuracy: 0.9826989619377162\n"
     ]
    }
   ],
   "source": [
    "evaluate_model(model, [test_sequences, array(tokenizer.sequences_to_texts(test_sequences))], test_y)"
   ]
  },
  {
   "cell_type": "code",
   "execution_count": 23,
   "metadata": {},
   "outputs": [
    {
     "ename": "NameError",
     "evalue": "name 'model' is not defined",
     "output_type": "error",
     "traceback": [
      "\u001b[0;31m---------------------------------------------------------------------------\u001b[0m",
      "\u001b[0;31mNameError\u001b[0m                                 Traceback (most recent call last)",
      "\u001b[0;32m<ipython-input-23-48455ab65ec0>\u001b[0m in \u001b[0;36m<module>\u001b[0;34m\u001b[0m\n\u001b[0;32m----> 1\u001b[0;31m \u001b[0mclean_model\u001b[0m\u001b[0;34m(\u001b[0m\u001b[0mmodel\u001b[0m\u001b[0;34m)\u001b[0m\u001b[0;34m\u001b[0m\u001b[0m\n\u001b[0m",
      "\u001b[0;31mNameError\u001b[0m: name 'model' is not defined"
     ]
    }
   ],
   "source": [
    "clean_model(model)"
   ]
  },
  {
   "cell_type": "code",
   "execution_count": null,
   "metadata": {},
   "outputs": [],
   "source": []
  }
 ],
 "metadata": {
  "kernelspec": {
   "display_name": "env",
   "language": "python",
   "name": "env"
  },
  "language_info": {
   "codemirror_mode": {
    "name": "ipython",
    "version": 3
   },
   "file_extension": ".py",
   "mimetype": "text/x-python",
   "name": "python",
   "nbconvert_exporter": "python",
   "pygments_lexer": "ipython3",
   "version": "3.5.2"
  }
 },
 "nbformat": 4,
 "nbformat_minor": 2
}
