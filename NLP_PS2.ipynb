{
 "cells": [
  {
   "cell_type": "code",
   "execution_count": 1,
   "metadata": {},
   "outputs": [],
   "source": [
    "import os\n",
    "import numpy as np\n",
    "import itertools as itt\n",
    "from functools import partial\n",
    "import sklearn\n",
    "\n",
    "from scipy.stats import uniform\n",
    "\n",
    "from sklearn.model_selection import train_test_split, ShuffleSplit, RandomizedSearchCV, learning_curve\n",
    "from sklearn.pipeline import Pipeline, make_pipeline\n",
    "from sklearn.metrics import classification_report, accuracy_score, precision_recall_curve\n",
    "from sklearn.feature_selection import SelectKBest, mutual_info_classif\n",
    "from sklearn.feature_extraction.text import TfidfVectorizer\n",
    "from sklearn.decomposition import TruncatedSVD\n",
    "\n",
    "import matplotlib.pyplot as plt\n",
    "from pprint import pprint"
   ]
  },
  {
   "cell_type": "code",
   "execution_count": 2,
   "metadata": {},
   "outputs": [],
   "source": [
    "np.random.seed(7)"
   ]
  },
  {
   "cell_type": "code",
   "execution_count": 3,
   "metadata": {},
   "outputs": [],
   "source": [
    "def plot_learning_curve(estimator, x, y, ylim=None, **kwargs):\n",
    "    \n",
    "    plt.figure()\n",
    "    if ylim is not None:\n",
    "        plt.ylim(*ylim)\n",
    "        \n",
    "    plt.xlabel(\"Training examples\")\n",
    "    plt.ylabel(\"Score\")\n",
    "    \n",
    "    train_sizes, train_scores, test_scores = learning_curve(estimator, x, y, **kwargs)\n",
    "    train_scores_mean = np.mean(train_scores, axis=1)\n",
    "    train_scores_std  = np.std(train_scores, axis=1)\n",
    "    test_scores_mean  = np.mean(test_scores, axis=1)\n",
    "    test_scores_std   = np.std(test_scores, axis=1)\n",
    "    \n",
    "    plt.grid()\n",
    "    \n",
    "    plt.fill_between(\n",
    "        train_sizes,\n",
    "        train_scores_mean - train_scores_std,\n",
    "        train_scores_mean + train_scores_std,\n",
    "        alpha=0.1,\n",
    "        color=\"r\"\n",
    "    )\n",
    "    plt.fill_between(\n",
    "        train_sizes,\n",
    "        test_scores_mean - test_scores_std,\n",
    "        test_scores_mean + test_scores_std,\n",
    "        alpha=0.1,\n",
    "        color=\"g\"\n",
    "    )\n",
    "    \n",
    "    plt.plot(\n",
    "        train_sizes, train_scores_mean, 'o-',\n",
    "        color=\"r\",\n",
    "        label=\"Training score\"\n",
    "    )\n",
    "    plt.plot(\n",
    "        train_sizes, test_scores_mean, 'o-',\n",
    "        color=\"g\",\n",
    "        label=\"Validation score\"\n",
    "    )\n",
    "\n",
    "    plt.legend(loc=\"best\")\n",
    "    \n",
    "    plt.show()"
   ]
  },
  {
   "cell_type": "code",
   "execution_count": 4,
   "metadata": {},
   "outputs": [],
   "source": [
    "def plot_precision_recall_curve(y_true, y_pred):\n",
    "    \n",
    "    precision_curve, recall_curve, _ = precision_recall_curve(y_true, y_pred)\n",
    "    step_kwargs = (\n",
    "        {'step': 'post'} if 'step' in sklearn.utils.fixes.signature(plt.fill_between).parameters else {}\n",
    "    )\n",
    "    \n",
    "    plt.step(\n",
    "        recall_curve, precision_curve,\n",
    "        color='b',\n",
    "        alpha=0.2,\n",
    "        where='post'\n",
    "    )\n",
    "    \n",
    "    plt.fill_between(\n",
    "        recall_curve, precision_curve,\n",
    "        alpha=0.2,\n",
    "        color='b', \n",
    "        **step_kwargs\n",
    "    )\n",
    "\n",
    "    plt.xlabel('Recall')\n",
    "    plt.ylabel('Precision')\n",
    "    \n",
    "    plt.ylim([0.0, 1.05])\n",
    "    plt.xlim([0.0, 1.0])\n",
    "    \n",
    "    plt.title('Precision-Recall curve')\n",
    "    \n",
    "    plt.show()"
   ]
  },
  {
   "cell_type": "code",
   "execution_count": 5,
   "metadata": {},
   "outputs": [],
   "source": [
    "def start_section(title, line_sep=\"-\" * 100):\n",
    "    print(title, end=\"\\n{}\\n\".format(line_sep))\n",
    "    \n",
    "def end_section(line_sep=\"-\" * 100):\n",
    "    start_section(\"\", line_sep=line_sep)"
   ]
  },
  {
   "cell_type": "code",
   "execution_count": 6,
   "metadata": {},
   "outputs": [],
   "source": [
    "DefaultTfidfVectorizer = partial(\n",
    "    TfidfVectorizer,\n",
    "    input=\"content\", analyzer=\"word\", stop_words=\"english\", token_pattern=\"[^ ]+\",\n",
    "    ngram_range=(1, 3)\n",
    ")"
   ]
  },
  {
   "cell_type": "code",
   "execution_count": 7,
   "metadata": {},
   "outputs": [],
   "source": [
    "root = \"/media/spiros/Data/lingspam_public/bare\""
   ]
  },
  {
   "cell_type": "code",
   "execution_count": 8,
   "metadata": {},
   "outputs": [
    {
     "name": "stdout",
     "output_type": "stream",
     "text": [
      "Ham: 2412, Spam: 481\n"
     ]
    }
   ],
   "source": [
    "ham, spam = [], []\n",
    "\n",
    "for dirpath, _, filenames in os.walk(root):\n",
    "    for filename in filenames:\n",
    "        with open(os.path.join(dirpath, filename), encoding=\"utf8\") as file:\n",
    "            message = file.read()\n",
    "        if filename.startswith(\"spm\"):\n",
    "            spam.append(message)\n",
    "        else:\n",
    "            ham.append(message)\n",
    "            \n",
    "print(\"Ham: {}, Spam: {}\".format(len(ham), len(spam)))"
   ]
  },
  {
   "cell_type": "code",
   "execution_count": 9,
   "metadata": {},
   "outputs": [],
   "source": [
    "x = ham + spam\n",
    "y = [0] * len(ham) + [1] * len(spam)\n",
    "\n",
    "train_x, test_x, train_y, test_y = train_test_split(x, y, test_size=0.3)"
   ]
  },
  {
   "cell_type": "code",
   "execution_count": 10,
   "metadata": {},
   "outputs": [],
   "source": [
    "def train_pipeline(pipeline, x, y):\n",
    "    \n",
    "    start_section(\"Learning Curve\")\n",
    "    plot_learning_curve(pipeline, x, y, cv=ShuffleSplit(n_splits=3, test_size=0.1), n_jobs=7)\n",
    "    \n",
    "    return pipeline.fit(x, y)\n",
    "\n",
    "def evaluate_pipeline(pipeline, x, y_true):\n",
    "    y_pred = pipeline.predict(x)\n",
    "    \n",
    "    start_section(\"Classification Report\")\n",
    "    print(classification_report(y_true, y_pred, target_names=[\"Ham\", \"Spam\"]), end=\"\\n\\n\")\n",
    "    print(\"Accuracy: {}\".format(accuracy_score(y_true, y_pred)), end=\"\\n\\n\")\n",
    "    \n",
    "    start_section(\"Precision-Recall Curve\")\n",
    "    plot_precision_recall_curve(y_true, y_pred)\n",
    "    \n",
    "    return pipeline\n",
    "\n",
    "def get_tuned_pipeline_params(pipeline, param_distributions={}, n_iter=10):\n",
    "    \n",
    "    cross_validator = RandomizedSearchCV(\n",
    "        pipeline, param_distributions,\n",
    "        n_iter=n_iter,\n",
    "        scoring=\"f1\",\n",
    "        cv=ShuffleSplit(n_splits=3, test_size=0.1),\n",
    "        n_jobs=7,\n",
    "        refit=False\n",
    "    )\n",
    "    cross_validator.fit(train_x, train_y)\n",
    "    \n",
    "    best_params = cross_validator.best_params_\n",
    "    \n",
    "    start_section(\"Best Hyperparameters\")\n",
    "    pprint(best_params)\n",
    "    \n",
    "    return best_params\n",
    "\n",
    "def run_pipeline(pipeline, param_distributions={}, n_iter=10):\n",
    "    \n",
    "    if len(param_distributions):    \n",
    "        start_section(\"Hyperparameter Tuning\")\n",
    "        pipeline.set_params(**get_tuned_pipeline_params(pipeline, param_distributions, n_iter))\n",
    "        end_section()\n",
    "    \n",
    "    start_section(\"Training\")\n",
    "    pipeline = train_pipeline(pipeline, train_x, train_y)\n",
    "    end_section()\n",
    "    \n",
    "    start_section(\"Evaluation\")\n",
    "    pipeline = evaluate_pipeline(pipeline, test_x, test_y)\n",
    "    end_section()"
   ]
  },
  {
   "cell_type": "markdown",
   "metadata": {},
   "source": [
    "<h2>Dummy Classifier</h2>\n",
    "It predicts the most frequent class."
   ]
  },
  {
   "cell_type": "code",
   "execution_count": 11,
   "metadata": {},
   "outputs": [
    {
     "name": "stdout",
     "output_type": "stream",
     "text": [
      "Training\n",
      "----------------------------------------------------------------------------------------------------\n",
      "Learning Curve\n",
      "----------------------------------------------------------------------------------------------------\n"
     ]
    },
    {
     "data": {
      "image/png": "[encoded data removed]",
      "text/plain": [
       "<Figure size 432x288 with 1 Axes>"
      ]
     },
     "metadata": {
      "needs_background": "light"
     },
     "output_type": "display_data"
    },
    {
     "name": "stdout",
     "output_type": "stream",
     "text": [
      "\n",
      "----------------------------------------------------------------------------------------------------\n",
      "Evaluation\n",
      "----------------------------------------------------------------------------------------------------\n",
      "Classification Report\n",
      "----------------------------------------------------------------------------------------------------\n",
      "              precision    recall  f1-score   support\n",
      "\n",
      "         Ham       0.84      1.00      0.91       726\n",
      "        Spam       0.00      0.00      0.00       142\n",
      "\n",
      "   micro avg       0.84      0.84      0.84       868\n",
      "   macro avg       0.42      0.50      0.46       868\n",
      "weighted avg       0.70      0.84      0.76       868\n",
      "\n",
      "\n",
      "Accuracy: 0.836405529953917\n",
      "\n",
      "Precision-Recall Curve\n",
      "----------------------------------------------------------------------------------------------------\n"
     ]
    },
    {
     "name": "stderr",
     "output_type": "stream",
     "text": [
      "/home/spiros/env/lib/python3.5/site-packages/sklearn/metrics/classification.py:1143: UndefinedMetricWarning: Precision and F-score are ill-defined and being set to 0.0 in labels with no predicted samples.\n",
      "  'precision', 'predicted', average, warn_for)\n"
     ]
    },
    {
     "data": {
      "image/png": "[encoded data removed]",
      "text/plain": [
       "<Figure size 432x288 with 1 Axes>"
      ]
     },
     "metadata": {
      "needs_background": "light"
     },
     "output_type": "display_data"
    },
    {
     "name": "stdout",
     "output_type": "stream",
     "text": [
      "\n",
      "----------------------------------------------------------------------------------------------------\n"
     ]
    }
   ],
   "source": [
    "import sklearn.dummy\n",
    "\n",
    "pipeline = make_pipeline(\n",
    "    DefaultTfidfVectorizer(max_features=1000),\n",
    "    sklearn.dummy.DummyClassifier(strategy=\"most_frequent\")\n",
    ")\n",
    "param_distributions = {\n",
    "    \"multinomialnb__alpha\": uniform()\n",
    "}\n",
    "\n",
    "run_pipeline(pipeline)"
   ]
  },
  {
   "cell_type": "markdown",
   "metadata": {},
   "source": [
    "<h2>Multinomial Naive Bayes</h2>"
   ]
  },
  {
   "cell_type": "code",
   "execution_count": 12,
   "metadata": {},
   "outputs": [
    {
     "name": "stdout",
     "output_type": "stream",
     "text": [
      "Hyperparameter Tuning\n",
      "----------------------------------------------------------------------------------------------------\n",
      "Best Hyperparameters\n",
      "----------------------------------------------------------------------------------------------------\n",
      "{'multinomialnb__alpha': 0.07152046013477242}\n",
      "\n",
      "----------------------------------------------------------------------------------------------------\n",
      "Training\n",
      "----------------------------------------------------------------------------------------------------\n",
      "Learning Curve\n",
      "----------------------------------------------------------------------------------------------------\n"
     ]
    },
    {
     "data": {
      "image/png": "[encoded data removed]",
      "text/plain": [
       "<Figure size 432x288 with 1 Axes>"
      ]
     },
     "metadata": {
      "needs_background": "light"
     },
     "output_type": "display_data"
    },
    {
     "name": "stdout",
     "output_type": "stream",
     "text": [
      "\n",
      "----------------------------------------------------------------------------------------------------\n",
      "Evaluation\n",
      "----------------------------------------------------------------------------------------------------\n",
      "Classification Report\n",
      "----------------------------------------------------------------------------------------------------\n",
      "              precision    recall  f1-score   support\n",
      "\n",
      "         Ham       0.88      1.00      0.93       726\n",
      "        Spam       0.97      0.27      0.43       142\n",
      "\n",
      "   micro avg       0.88      0.88      0.88       868\n",
      "   macro avg       0.93      0.64      0.68       868\n",
      "weighted avg       0.89      0.88      0.85       868\n",
      "\n",
      "\n",
      "Accuracy: 0.880184331797235\n",
      "\n",
      "Precision-Recall Curve\n",
      "----------------------------------------------------------------------------------------------------\n"
     ]
    },
    {
     "data": {
      "image/png": "[encoded data removed]",
      "text/plain": [
       "<Figure size 432x288 with 1 Axes>"
      ]
     },
     "metadata": {
      "needs_background": "light"
     },
     "output_type": "display_data"
    },
    {
     "name": "stdout",
     "output_type": "stream",
     "text": [
      "\n",
      "----------------------------------------------------------------------------------------------------\n"
     ]
    }
   ],
   "source": [
    "import sklearn.naive_bayes\n",
    "\n",
    "pipeline = make_pipeline(\n",
    "    DefaultTfidfVectorizer(max_features=2500),\n",
    "    SelectKBest(mutual_info_classif, k=100),\n",
    "    sklearn.naive_bayes.MultinomialNB()\n",
    ")\n",
    "param_distributions = {\n",
    "    \"multinomialnb__alpha\": uniform()\n",
    "}\n",
    "\n",
    "run_pipeline(pipeline, param_distributions=param_distributions, n_iter=50)"
   ]
  },
  {
   "cell_type": "markdown",
   "metadata": {},
   "source": [
    "<h2>Logistic Regression</h2>"
   ]
  },
  {
   "cell_type": "code",
   "execution_count": null,
   "metadata": {},
   "outputs": [
    {
     "name": "stdout",
     "output_type": "stream",
     "text": [
      "Hyperparameter Tuning\n",
      "----------------------------------------------------------------------------------------------------\n"
     ]
    }
   ],
   "source": [
    "import sklearn.linear_model\n",
    "\n",
    "pipeline = make_pipeline(\n",
    "    DefaultTfidfVectorizer(sublinear_tf=True),\n",
    "    TruncatedSVD(n_components=100),\n",
    "    sklearn.linear_model.LogisticRegression(class_weight=\"balanced\", solver=\"liblinear\")\n",
    ")\n",
    "param_distributions = {\n",
    "    \"logisticregression__C\": uniform()\n",
    "}\n",
    "\n",
    "run_pipeline(pipeline, param_distributions=param_distributions, n_iter=20)"
   ]
  },
  {
   "cell_type": "markdown",
   "metadata": {},
   "source": [
    "<h2>Random Forest Classifier</h2>"
   ]
  },
  {
   "cell_type": "code",
   "execution_count": null,
   "metadata": {},
   "outputs": [],
   "source": [
    "import sklearn.ensemble\n",
    "\n",
    "pipeline = make_pipeline(\n",
    "    DefaultTfidfVectorizer(max_features=2500),\n",
    "    SelectKBest(mutual_info_classif, k=100),\n",
    "    sklearn.ensemble.RandomForestClassifier(criterion=\"entropy\", n_jobs=7, class_weight=\"balanced_subsample\")\n",
    ")\n",
    "param_distributions = {\n",
    "    \"randomforestclassifier__n_estimators\": [10, 100],\n",
    "    \"randomforestclassifier__max_depth\": [1, None],\n",
    "    \"randomforestclassifier__min_weight_fraction_leaf\": uniform(0.25, 0.25),\n",
    "    \"randomforestclassifier__max_features\": uniform()\n",
    "}\n",
    "\n",
    "run_pipeline(pipeline, param_distributions=param_distributions, n_iter=50)"
   ]
  },
  {
   "cell_type": "markdown",
   "metadata": {},
   "source": [
    "<h2>K-Neighbors Classifier</h2>"
   ]
  },
  {
   "cell_type": "code",
   "execution_count": null,
   "metadata": {},
   "outputs": [],
   "source": [
    "import sklearn.neighbors\n",
    "\n",
    "pipeline = make_pipeline(\n",
    "    DefaultTfidfVectorizer(sublinear_tf=True),\n",
    "    TruncatedSVD(n_components=100),\n",
    "    sklearn.neighbors.KNeighborsClassifier(n_jobs=7)\n",
    ")\n",
    "param_distributions = {\n",
    "    \"kneighborsclassifier__p\": [1, 2],\n",
    "    \"kneighborsclassifier__weights\": [\"uniform\", \"distance\"],\n",
    "    \"kneighborsclassifier__n_neighbors\": list(range(1, 20, 2))\n",
    "}\n",
    "\n",
    "run_pipeline(pipeline, param_distributions=param_distributions, n_iter=20)"
   ]
  },
  {
   "cell_type": "markdown",
   "metadata": {},
   "source": [
    "<h2>Linear Support Vector Classifier</h2>"
   ]
  },
  {
   "cell_type": "code",
   "execution_count": null,
   "metadata": {},
   "outputs": [],
   "source": [
    "import sklearn.svm\n",
    "\n",
    "pipeline = make_pipeline(\n",
    "    DefaultTfidfVectorizer(sublinear_tf=True),\n",
    "    TruncatedSVD(n_components=100),\n",
    "    sklearn.svm.LinearSVC(dual=False, class_weight=\"balanced\")\n",
    ")\n",
    "param_distributions = {\n",
    "    \"linearsvc__penalty\": [\"l1\", \"l2\"],\n",
    "    \"linearsvc__C\": uniform()\n",
    "}\n",
    "\n",
    "run_pipeline(pipeline, param_distributions=param_distributions, n_iter=20)"
   ]
  },
  {
   "cell_type": "code",
   "execution_count": null,
   "metadata": {},
   "outputs": [],
   "source": []
  }
 ],
 "metadata": {
  "kernelspec": {
   "display_name": "env",
   "language": "python",
   "name": "env"
  },
  "language_info": {
   "codemirror_mode": {
    "name": "ipython",
    "version": 3
   },
   "file_extension": ".py",
   "mimetype": "text/x-python",
   "name": "python",
   "nbconvert_exporter": "python",
   "pygments_lexer": "ipython3",
   "version": "3.5.2"
  }
 },
 "nbformat": 4,
 "nbformat_minor": 2
}
