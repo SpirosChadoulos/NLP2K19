{
 "cells": [
  {
   "cell_type": "code",
   "execution_count": 1,
   "metadata": {},
   "outputs": [
    {
     "name": "stderr",
     "output_type": "stream",
     "text": [
      "Using TensorFlow backend.\n"
     ]
    }
   ],
   "source": [
    "import os\n",
    "import re\n",
    "\n",
    "#from nltk.tokenize import word_tokenize\n",
    "\n",
    "#from sklearn.feature_extraction.text import CountVectorizer\n",
    "from sklearn.feature_extraction.text import TfidfVectorizer\n",
    "from sklearn.model_selection import train_test_split  \n",
    "from sklearn.ensemble import RandomForestClassifier\n",
    "from sklearn.utils.fixes import signature\n",
    "from sklearn.metrics import classification_report, accuracy_score, precision_recall_curve, precision_recall_fscore_support\n",
    "from sklearn.decomposition import PCA, TruncatedSVD\n",
    "from sklearn.feature_selection import mutual_info_classif\n",
    "from sklearn.linear_model import LogisticRegression\n",
    "from sklearn.naive_bayes import MultinomialNB\n",
    "from sklearn.neighbors import KNeighborsClassifier\n",
    "from sklearn.svm import LinearSVC\n",
    "from sklearn.feature_extraction import DictVectorizer\n",
    "from sklearn.feature_selection import SelectKBest\n",
    "from sklearn.dummy import DummyClassifier\n",
    "from sklearn.metrics import average_precision_score\n",
    "\n",
    "import operator\n",
    "import matplotlib.pyplot as plt\n",
    "\n",
    "import numpy as np\n",
    "from numpy import array\n",
    "\n",
    "from keras import preprocessing\n",
    "from keras.models import Sequential\n",
    "from keras.layers.core import Dense, Dropout, Activation\n",
    "from keras.optimizers import SGD\n",
    "from keras.layers import Embedding, Flatten\n",
    "from sklearn.feature_extraction.text import TfidfVectorizer\n",
    "import numpy as np"
   ]
  },
  {
   "cell_type": "code",
   "execution_count": 2,
   "metadata": {},
   "outputs": [],
   "source": [
    "def plot_learning_curve(estimator, x, y, ylim=None, **kwargs):\n",
    "    \n",
    "    plt.figure()\n",
    "    if ylim is not None:\n",
    "        plt.ylim(*ylim)\n",
    "        \n",
    "    plt.xlabel(\"Training examples\")\n",
    "    plt.ylabel(\"Score\")\n",
    "    \n",
    "    train_sizes, train_scores, test_scores = learning_curve(estimator, x, y, **kwargs)\n",
    "    train_scores_mean = np.mean(train_scores, axis=1)\n",
    "    train_scores_std  = np.std(train_scores, axis=1)\n",
    "    test_scores_mean  = np.mean(test_scores, axis=1)\n",
    "    test_scores_std   = np.std(test_scores, axis=1)\n",
    "    \n",
    "    plt.grid()\n",
    "    \n",
    "    plt.fill_between(\n",
    "        train_sizes,\n",
    "        train_scores_mean - train_scores_std,\n",
    "        train_scores_mean + train_scores_std,\n",
    "        alpha=0.1,\n",
    "        color=\"r\"\n",
    "    )\n",
    "    plt.fill_between(\n",
    "        train_sizes,\n",
    "        test_scores_mean - test_scores_std,\n",
    "        test_scores_mean + test_scores_std,\n",
    "        alpha=0.1,\n",
    "        color=\"g\"\n",
    "    )\n",
    "    \n",
    "    plt.plot(\n",
    "        train_sizes, train_scores_mean, 'o-',\n",
    "        color=\"r\",\n",
    "        label=\"Training score\"\n",
    "    )\n",
    "    plt.plot(\n",
    "        train_sizes, test_scores_mean, 'o-',\n",
    "        color=\"g\",\n",
    "        label=\"Validation score\"\n",
    "    )\n",
    "\n",
    "    plt.legend(loc=\"best\")\n",
    "    \n",
    "    plt.show()"
   ]
  },
  {
   "cell_type": "code",
   "execution_count": 3,
   "metadata": {},
   "outputs": [],
   "source": [
    "np.random.seed(7)"
   ]
  },
  {
   "cell_type": "code",
   "execution_count": 4,
   "metadata": {},
   "outputs": [],
   "source": [
    "directory_path = r\"C:\\Users\\User\\Downloads\\lingspam_public\\lingspam_public\"\n",
    "directory_path2= r\"C:\\Users\\User\\Downloads\\lingspam_public\\extra_data\""
   ]
  },
  {
   "cell_type": "code",
   "execution_count": 5,
   "metadata": {},
   "outputs": [
    {
     "name": "stdout",
     "output_type": "stream",
     "text": [
      "Ham: 9649, Spam: 1924\n"
     ]
    }
   ],
   "source": [
    "ham, spam = [], []\n",
    "root = directory_path\n",
    "for dirpath, _, filenames in os.walk(root):\n",
    "    for filename in filenames:\n",
    "        with open(os.path.join(dirpath, filename), encoding=\"utf8\") as file:\n",
    "            message = file.read()\n",
    "        if filename.startswith(\"spm\"):\n",
    "            spam.append(message)\n",
    "        else:\n",
    "            ham.append(message)\n",
    "print(\"Ham: {}, Spam: {}\".format(len(ham), len(spam)))"
   ]
  },
  {
   "cell_type": "code",
   "execution_count": 6,
   "metadata": {},
   "outputs": [
    {
     "name": "stdout",
     "output_type": "stream",
     "text": [
      "Final ham: 9749, Final spam: 2024\n"
     ]
    }
   ],
   "source": [
    "for folder in os.listdir(directory_path2):\n",
    "    for file in os.listdir(os.path.join(directory_path2, folder)):\n",
    "        with open(os.path.join(directory_path2, folder, file), encoding='latin1') as f:\n",
    "            message = f.read()\n",
    "            if folder == \"spam\":\n",
    "                spam.append(message)\n",
    "            elif folder == \"ham\":\n",
    "                message = f.read()\n",
    "                ham.append(message)\n",
    "print(\"Final ham: {}, Final spam: {}\".format(len(ham), len(spam)))"
   ]
  },
  {
   "cell_type": "code",
   "execution_count": 7,
   "metadata": {},
   "outputs": [],
   "source": [
    "x = ham + spam\n",
    "y = [0] * len(ham) + [1] * len(spam)\n",
    "\n",
    "train_x, test_x, train_y, test_y = train_test_split(x, y, test_size=0.3)"
   ]
  },
  {
   "cell_type": "code",
   "execution_count": 8,
   "metadata": {
    "scrolled": true
   },
   "outputs": [
    {
     "name": "stdout",
     "output_type": "stream",
     "text": [
      "--done--\n"
     ]
    }
   ],
   "source": [
    "# Preprocessing our data\n",
    "# DefaultTfidfVectorizer = partial(\n",
    "#     TfidfVectorizer,\n",
    "#     input=\"content\", analyzer=\"word\", stop_words=\"english\", token_pattern=\"[^ ]+\",\n",
    "#     ngram_range=(1, 3)\n",
    "# )\n",
    "\n",
    "# vectorizer = TfidfVectorizer(input=\"content\", analyzer=\"word\",\n",
    "#                 stop_words=\"english\", token_pattern=\"[^ ]+\",\n",
    "#                 ngram_range=(1, 3))\n",
    "\n",
    "max_fts = 1000\n",
    "vectorizer = TfidfVectorizer(ngram_range=(2,2), min_df=10, max_df=0.8, max_features=max_fts)\n",
    "\n",
    "X = vectorizer.fit_transform(train_x).toarray()\n",
    "Xt = vectorizer.transform(test_x).toarray()\n",
    "\n",
    "# print(vectorizer.get_feature_names()) #gia na blepeis poia krathse\n",
    "print('--done--')"
   ]
  },
  {
   "cell_type": "markdown",
   "metadata": {},
   "source": [
    "# Comments about our MLP's architecture:\n",
    "We use a decreasing number of neurons to create a bottleneck of information, getting sparse information at the lower levels and concetrating it at the last (higher) ones. \n",
    "Dropout effectively allows you to train and sample from a probability distribution of network architectures.\n",
    "Dropping a neuron with 0.5 probability gets the highest variance for this distribution."
   ]
  },
  {
   "cell_type": "code",
   "execution_count": 9,
   "metadata": {
    "scrolled": true
   },
   "outputs": [
    {
     "data": {
      "text/plain": [
       "'----------- EXPERIMENTAL ------------- '"
      ]
     },
     "execution_count": 9,
     "metadata": {},
     "output_type": "execute_result"
    }
   ],
   "source": [
    "'''----------- EXPERIMENTAL ------------- '''\n",
    "# from sklearn.feature_extraction.text import CountVectorizer\n",
    "# vectorizer2 = CountVectorizer()\n",
    "# corpus = train_x[1:]\n",
    "# our_tokens = vectorizer2.fit_transform(corpus)\n",
    "# # print(vectorizer2.get_feature_names()) # Check the contents of our dictionary"
   ]
  },
  {
   "cell_type": "code",
   "execution_count": 10,
   "metadata": {
    "scrolled": true
   },
   "outputs": [
    {
     "data": {
      "text/plain": [
       "'----------- EXPERIMENTAL ------------- '"
      ]
     },
     "execution_count": 10,
     "metadata": {},
     "output_type": "execute_result"
    }
   ],
   "source": [
    "'''----------- EXPERIMENTAL ------------- '''\n",
    "# from gensim.models import KeyedVectors\n",
    "# # LOAD WORD2VEC LOOKUP TABLE\n",
    "# w2v_model = KeyedVectors.load_word2vec_format(corpus, binary=True)\n",
    "# print(w2v_model['good'])"
   ]
  },
  {
   "cell_type": "code",
   "execution_count": 11,
   "metadata": {
    "scrolled": false
   },
   "outputs": [
    {
     "name": "stdout",
     "output_type": "stream",
     "text": [
      "Train on 7416 samples, validate on 825 samples\n",
      "Epoch 1/10\n",
      "7416/7416 [==============================] - 38s 5ms/step - loss: 0.6411 - acc: 0.8251 - val_loss: 0.6014 - val_acc: 0.8170\n",
      "Epoch 2/10\n",
      "7416/7416 [==============================] - 33s 4ms/step - loss: 0.5677 - acc: 0.8294 - val_loss: 0.5499 - val_acc: 0.8170\n",
      "Epoch 3/10\n",
      "7416/7416 [==============================] - 33s 4ms/step - loss: 0.5255 - acc: 0.8294 - val_loss: 0.5204 - val_acc: 0.8170\n",
      "Epoch 4/10\n",
      "7416/7416 [==============================] - 31s 4ms/step - loss: 0.5004 - acc: 0.8294 - val_loss: 0.5030 - val_acc: 0.8170\n",
      "Epoch 5/10\n",
      "7416/7416 [==============================] - 30s 4ms/step - loss: 0.4850 - acc: 0.8294 - val_loss: 0.4925 - val_acc: 0.8170\n",
      "Epoch 6/10\n",
      "7416/7416 [==============================] - 34s 5ms/step - loss: 0.4754 - acc: 0.8294 - val_loss: 0.4861 - val_acc: 0.8170\n",
      "Epoch 7/10\n",
      "7416/7416 [==============================] - 30s 4ms/step - loss: 0.4693 - acc: 0.8294 - val_loss: 0.4821 - val_acc: 0.8170\n",
      "Epoch 8/10\n",
      "7416/7416 [==============================] - 33s 4ms/step - loss: 0.4652 - acc: 0.8294 - val_loss: 0.4796 - val_acc: 0.8170\n",
      "Epoch 9/10\n",
      "7416/7416 [==============================] - 32s 4ms/step - loss: 0.4625 - acc: 0.8294 - val_loss: 0.4781 - val_acc: 0.8170\n",
      "Epoch 10/10\n",
      "7416/7416 [==============================] - 32s 4ms/step - loss: 0.4607 - acc: 0.8294 - val_loss: 0.4771 - val_acc: 0.8170\n"
     ]
    }
   ],
   "source": [
    "import matplotlib.pyplot as plt\n",
    "\n",
    "## Using GPU (tensorflow-gpu version must be installed): --------------------------------------\n",
    "# from tensorflow.python.client import device_lib\n",
    "# from keras import backend as K\n",
    "# print(device_lib.list_local_devices())\n",
    "# K.tensorflow_backend._get_available_gpus()\n",
    "# print()\n",
    "# print('----------------------------------------')\n",
    "\n",
    "## Setting up our MLP:\n",
    "seed = 7\n",
    "np.random.seed(seed)\n",
    "\n",
    "model = Sequential()\n",
    "\n",
    "# embedding_layer = Embedding(1000, 64)\n",
    "model.add(Embedding(input_dim=8241, output_dim=100, embeddings_initializer='uniform',\n",
    "                    embeddings_regularizer=None, activity_regularizer=None,\n",
    "                    embeddings_constraint=None, mask_zero=False, input_length=max_fts))\n",
    "# We should better use a pretrained word embedding like GloVe or Word2Vec\n",
    "\n",
    "\n",
    "model.add(Flatten()) #The problem was that you started with a multi-dimensional layer but never reduced the dimensionality in any of the following layers.\n",
    "model.add(Dense(100, kernel_initializer='uniform', activation='relu'))\n",
    "model.add(Dropout(0.5))\n",
    "model.add(Dense(50, kernel_initializer='uniform', activation='relu'))\n",
    "model.add(Dropout(0.5)) \n",
    "model.add(Dense(25, kernel_initializer='uniform', activation='relu'))\n",
    "model.add(Dropout(0.5)) \n",
    "model.add(Dense(12, kernel_initializer='uniform', activation='relu'))\n",
    "model.add(Dense(1, kernel_initializer='uniform', activation='sigmoid'))\n",
    "\n",
    "\n",
    "model.compile(optimizer='SGD', #sgd/adam/...\n",
    "              loss='binary_crossentropy', #categorical_crossentropy\n",
    "              metrics=['accuracy']) #F1 (...)\n",
    "\n",
    "history = model.fit(np.array(X), np.array(train_y),\n",
    "          batch_size=64, epochs=10,\n",
    "          validation_split=0.1)"
   ]
  },
  {
   "cell_type": "code",
   "execution_count": 12,
   "metadata": {},
   "outputs": [
    {
     "name": "stdout",
     "output_type": "stream",
     "text": [
      "dict_keys(['val_loss', 'val_acc', 'loss', 'acc'])\n"
     ]
    },
    {
     "data": {
      "image/png": "[encoded data removed]",
      "text/plain": [
       "<Figure size 432x288 with 1 Axes>"
      ]
     },
     "metadata": {
      "needs_background": "light"
     },
     "output_type": "display_data"
    },
    {
     "data": {
      "image/png": "[encoded data removed]",
      "text/plain": [
       "<Figure size 432x288 with 1 Axes>"
      ]
     },
     "metadata": {
      "needs_background": "light"
     },
     "output_type": "display_data"
    }
   ],
   "source": [
    "print(history.history.keys())\n",
    "plt.plot(history.history['acc'])\n",
    "plt.plot(history.history['val_acc'])\n",
    "plt.title('model accuracy')\n",
    "plt.ylabel('accuracy')\n",
    "plt.xlabel('epoch')\n",
    "plt.legend(['train', 'test'], loc='upper left')\n",
    "plt.show()\n",
    "# summarize history for loss\n",
    "plt.plot(history.history['loss'])\n",
    "plt.plot(history.history['val_loss'])\n",
    "plt.title('model loss')\n",
    "plt.ylabel('loss')\n",
    "plt.xlabel('epoch')\n",
    "plt.legend(['train', 'test'], loc='upper left')\n",
    "plt.show()"
   ]
  }
 ],
 "metadata": {
  "kernelspec": {
   "display_name": "Python 3",
   "language": "python",
   "name": "python3"
  },
  "language_info": {
   "codemirror_mode": {
    "name": "ipython",
    "version": 3
   },
   "file_extension": ".py",
   "mimetype": "text/x-python",
   "name": "python",
   "nbconvert_exporter": "python",
   "pygments_lexer": "ipython3",
   "version": "3.6.5"
  }
 },
 "nbformat": 4,
 "nbformat_minor": 2
}
