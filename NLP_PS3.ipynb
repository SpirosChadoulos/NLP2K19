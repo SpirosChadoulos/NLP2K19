{
 "cells": [
  {
   "cell_type": "code",
   "execution_count": 50,
   "metadata": {},
   "outputs": [],
   "source": [
    "import os\n",
    "import operator\n",
    "import random\n",
    "import numpy as np\n",
    "import pandas as pd\n",
    "import csv\n",
    "import re\n",
    "\n",
    "from itertools import chain, islice\n",
    "from functools import partial\n",
    "\n",
    "import nltk\n",
    "from nltk.tokenize import word_tokenize\n",
    "\n",
    "import sklearn\n",
    "from sklearn.model_selection import train_test_split\n",
    "from sklearn.feature_extraction.text import TfidfVectorizer\n",
    "from sklearn.metrics import classification_report\n",
    "\n",
    "import keras\n",
    "from keras.preprocessing.text import Tokenizer\n",
    "from keras.preprocessing.sequence import pad_sequences\n",
    "from keras.models import Sequential\n",
    "from keras.layers import InputLayer, Embedding, Flatten, Dense, Activation, Dropout, BatchNormalization\n",
    "from keras.callbacks import EarlyStopping\n",
    "from keras import backend as K\n",
    "\n",
    "import tensorflow as tf\n",
    "\n",
    "import matplotlib.pyplot as plt\n",
    "from pprint import pprint\n",
    "\n",
    "import gc"
   ]
  },
  {
   "cell_type": "code",
   "execution_count": 2,
   "metadata": {},
   "outputs": [],
   "source": [
    "def set_seed(seed):\n",
    "    random.seed(seed)\n",
    "    np.random.seed(seed)\n",
    "    tf.set_random_seed(seed)\n",
    "    \n",
    "set_seed(1992)"
   ]
  },
  {
   "cell_type": "markdown",
   "metadata": {},
   "source": [
    "<h2>Preprocessing</h2>\n",
    "\n",
    "We operate on a subset of two datasets:\n",
    "<ol>\n",
    "    <li>\n",
    "        <h4>LingSpam Dataset (Bare)</h4>\n",
    "        <p>\n",
    "            This is the dataset that we used in the 2nd assignment.\n",
    "            It consists of a few large emails, appriximately 1000 messages with an average of 3500 words.\n",
    "    </li>\n",
    "    <li>\n",
    "        <h4>Kaggles Spam/Ham Dataset</h4>\n",
    "        <p>\n",
    "            This dataset is bigger, consisting of approximately 5500 messages.\n",
    "            Each messagehowever is quiet short and a lot of jargon is used in them.\n",
    "        </p>\n",
    "    </li>\n",
    "</ol>"
   ]
  },
  {
   "cell_type": "code",
   "execution_count": 3,
   "metadata": {},
   "outputs": [],
   "source": [
    "lingspam_data_path = \"lingspam_public/bare\"\n",
    "kaggle_data_path   = \"Kaggle/kaggle_spam_data.csv\""
   ]
  },
  {
   "cell_type": "code",
   "execution_count": 4,
   "metadata": {},
   "outputs": [],
   "source": [
    "def load_lingspam_data(path):\n",
    "\n",
    "    ham, spam = [], []\n",
    "\n",
    "    for dirpath, _, filenames in os.walk(path):\n",
    "        for filename in filenames:\n",
    "            with open(os.path.join(dirpath, filename), encoding=\"utf8\") as file:\n",
    "                message = file.read()\n",
    "            if filename.startswith(\"spm\"):\n",
    "                spam.append(message)\n",
    "            else:\n",
    "                ham.append(message)\n",
    "\n",
    "    return ham, spam"
   ]
  },
  {
   "cell_type": "code",
   "execution_count": 5,
   "metadata": {},
   "outputs": [],
   "source": [
    "def load_kaggle_data(path):\n",
    "    \n",
    "    ham, spam = [], []\n",
    "    \n",
    "    pattern = re.compile(\"\\\"?(?P<Category>spam|ham),(?:\\\"\\\")?(?P<Text>.*?)(?:\\\"\\\"\\\")?;+\")\n",
    "    \n",
    "    with open(path, 'r', encoding=\"utf8\") as file:\n",
    "        for line in file.readlines():\n",
    "            match = pattern.match(line)\n",
    "            if match:\n",
    "                text = \" \".join(word_tokenize(match[\"Text\"]))\n",
    "                if match[\"Category\"].startswith(\"s\"):\n",
    "                    spam.append(text)\n",
    "                else:\n",
    "                    ham.append(text)\n",
    "            \n",
    "    return ham, spam"
   ]
  },
  {
   "cell_type": "code",
   "execution_count": 81,
   "metadata": {},
   "outputs": [
    {
     "name": "stdout",
     "output_type": "stream",
     "text": [
      "Ham: 7226, Spam: 1227\n"
     ]
    }
   ],
   "source": [
    "dataset = \"*\" # Specify the dataset to be loaded: kaggle, lingspam, or both\n",
    "\n",
    "ham, spam = \\\n",
    "    load_kaggle_data(kaggle_data_path) if dataset.startswith(\"k\") else (\n",
    "        load_lingspam_data(lingspam_data_path) if dataset.startswith(\"l\") else\n",
    "        tuple(map(operator.concat, load_kaggle_data(kaggle_data_path), load_lingspam_data(lingspam_data_path)))\n",
    "    )\n",
    " \n",
    "print(\"Ham: {}, Spam: {}\".format(len(ham), len(spam)))"
   ]
  },
  {
   "cell_type": "code",
   "execution_count": 82,
   "metadata": {},
   "outputs": [],
   "source": [
    "def data_split(x, y, sizes=(0.1, 0.1)):\n",
    "    \n",
    "    data_size = len(x)\n",
    "    splits = []\n",
    "    \n",
    "    for size in sizes:\n",
    "        x, test_x, y, test_y = train_test_split(x, y, test_size=int(data_size*size), shuffle=True)\n",
    "        splits.append((test_x, test_y))\n",
    "    splits.append((x, y))\n",
    "    \n",
    "    return splits"
   ]
  },
  {
   "cell_type": "code",
   "execution_count": 83,
   "metadata": {},
   "outputs": [
    {
     "name": "stdout",
     "output_type": "stream",
     "text": [
      "Split Sizes: [6087, 676, 1690]\n"
     ]
    }
   ],
   "source": [
    "x = ham + spam\n",
    "y = [0] * len(ham) + [1] * len(spam)\n",
    "\n",
    "(test_x, test_y), (valid_x, valid_y), (train_x, train_y) = data_split(x, y, sizes=(0.2, 0.08))\n",
    "\n",
    "print(\"Split Sizes: {}\".format(list(map(len, (train_x, valid_x, test_x)))))"
   ]
  },
  {
   "cell_type": "markdown",
   "metadata": {},
   "source": [
    "<h3>Tokenizer Initialization</h3>\n",
    "<p>We consider two tokenizers. <i>Tokenizer_TRAIN_GLB</i> is fitted in all tokens onservable in the training set. <i>Tokenizer_UNK</i> is fitted in a subset of the training sequences in order to simulate the unobservability of a number of tokens in the validation data.</p>"
   ]
  },
  {
   "cell_type": "code",
   "execution_count": 11,
   "metadata": {},
   "outputs": [
    {
     "name": "stdout",
     "output_type": "stream",
     "text": [
      "Tokens discovered by Tokenizer_GLB: 50155\n"
     ]
    }
   ],
   "source": [
    "tokenizer_GLB = Tokenizer(num_words=None, lower=True, oov_token=\"*UNK*\")\n",
    "tokenizer_GLB.fit_on_texts(train_x)\n",
    "\n",
    "print(\"Tokens discovered by Tokenizer_GLB: {}\".format(len(tokenizer_GLB.word_index)))"
   ]
  },
  {
   "cell_type": "code",
   "execution_count": 12,
   "metadata": {},
   "outputs": [
    {
     "name": "stdout",
     "output_type": "stream",
     "text": [
      "Tokens discovered by Tokenizer_UNK: 47449\n"
     ]
    }
   ],
   "source": [
    "tokenizer_UNK = Tokenizer(num_words=None, lower=True, oov_token=\"*UNK*\")\n",
    "tokenizer_UNK.fit_on_texts(random.sample(train_x, len(train_x) - len(valid_x))) # We want the number of unknown words in the train set to be approximately the same as in the validation set.\n",
    "\n",
    "print(\"Tokens discovered by Tokenizer_UNK: {}\".format(len(tokenizer_UNK.word_index)))"
   ]
  },
  {
   "cell_type": "markdown",
   "metadata": {},
   "source": [
    "<h3>Tokenization</h3>\n",
    "<p>We transform each set in sequences of tokens according the chosen tokenizer.</p>"
   ]
  },
  {
   "cell_type": "code",
   "execution_count": 13,
   "metadata": {},
   "outputs": [],
   "source": [
    "tokenizer = tokenizer_UNK"
   ]
  },
  {
   "cell_type": "code",
   "execution_count": 14,
   "metadata": {},
   "outputs": [],
   "source": [
    "train_sequences = pad_sequences(tokenizer.texts_to_sequences(train_x), maxlen=150, padding=\"post\", truncating=\"post\") # We are contrained by the hardware limitations.\n",
    "input_length = len(train_sequences[0])"
   ]
  },
  {
   "cell_type": "code",
   "execution_count": 15,
   "metadata": {},
   "outputs": [],
   "source": [
    "valid_sequences = pad_sequences(tokenizer.texts_to_sequences(valid_x), maxlen=input_length, padding=\"post\", truncating=\"post\")\n",
    "test_sequences  = pad_sequences(tokenizer.texts_to_sequences(test_x), maxlen=input_length, padding=\"post\", truncating=\"post\")"
   ]
  },
  {
   "cell_type": "markdown",
   "metadata": {},
   "source": [
    "<h3>TF-IDF Vectorizaton</h3>"
   ]
  },
  {
   "cell_type": "code",
   "execution_count": 105,
   "metadata": {},
   "outputs": [],
   "source": [
    "tdidf_cevtorizer = TfidfVectorizer(\n",
    "    input=\"content\",\n",
    "    analyzer=\"word\",\n",
    "    stop_words=\"english\",\n",
    "    #token_pattern=\"[^ ]+\",\n",
    "    ngram_range=(1, 3),\n",
    "    min_df=10,\n",
    "    max_df=0.8,\n",
    "    max_features=150\n",
    ")"
   ]
  },
  {
   "cell_type": "code",
   "execution_count": 106,
   "metadata": {},
   "outputs": [],
   "source": [
    "train_tfidf = tdidf_cevtorizer.fit_transform(train_x)"
   ]
  },
  {
   "cell_type": "code",
   "execution_count": 107,
   "metadata": {},
   "outputs": [],
   "source": [
    "valid_tfidf = tdidf_cevtorizer.transform(valid_x)\n",
    "test_tfidf = tdidf_cevtorizer.transform(test_x)"
   ]
  },
  {
   "cell_type": "markdown",
   "metadata": {},
   "source": [
    "<h2>Utilities</h2>"
   ]
  },
  {
   "cell_type": "code",
   "execution_count": 17,
   "metadata": {},
   "outputs": [],
   "source": [
    "def clean_model(model):\n",
    "    \n",
    "    K.clear_session()\n",
    "    del model\n",
    "    gc.collect() "
   ]
  },
  {
   "cell_type": "code",
   "execution_count": 18,
   "metadata": {},
   "outputs": [],
   "source": [
    "def plot_history(history):\n",
    "    \n",
    "    plt.plot(\n",
    "        history.history[\"acc\"],\n",
    "        label=\"Train\"\n",
    "    )\n",
    "    plt.plot(\n",
    "        history.history[\"val_acc\"],\n",
    "        label=\"Validation\"\n",
    "    )\n",
    "    \n",
    "    plt.title(\"Model Accuracy\")\n",
    "    plt.ylabel(\"Accuray\")\n",
    "    plt.xlabel(\"Epoch\")\n",
    "    plt.legend([\"Train\", \"Validation\"], loc=\"best\")\n",
    "    \n",
    "    plt.show() "
   ]
  },
  {
   "cell_type": "code",
   "execution_count": 19,
   "metadata": {},
   "outputs": [],
   "source": [
    "def evaluate_model(model, sequences, y):\n",
    "    \n",
    "    print(classification_report(y, (model.predict(sequences).flatten() >= 0.5).astype(float)))"
   ]
  },
  {
   "cell_type": "markdown",
   "metadata": {},
   "source": [
    "<h2>MLP on Pretrained (Glove) Embeddings</h2>"
   ]
  },
  {
   "cell_type": "code",
   "execution_count": 41,
   "metadata": {},
   "outputs": [],
   "source": [
    "glove_embeddings_path = \"glove.6B/glove.6B.100d.txt\"\n",
    "embeddings_df = pd.read_csv(glove_embeddings_path, sep=\" \", index_col=0, header=None, quoting=csv.QUOTE_NONE, na_values=None, keep_default_na=False)"
   ]
  },
  {
   "cell_type": "code",
   "execution_count": 42,
   "metadata": {},
   "outputs": [
    {
     "name": "stdout",
     "output_type": "stream",
     "text": [
      "Non-Zero Embeddings: 34061\n"
     ]
    }
   ],
   "source": [
    "token_iter = map(\n",
    "    operator.itemgetter(0),\n",
    "    sorted(\n",
    "        filter(lambda item: item[1] <= tokenizer.num_words, tokenizer.word_index.items()) if tokenizer.num_words\n",
    "            else tokenizer.word_index.items(),\n",
    "        key=operator.itemgetter(1)\n",
    "    )\n",
    ")\n",
    "\n",
    "embedding_weights = embeddings_df.reindex(chain((None,), token_iter), fill_value=0.0).values # The zero-indexed vector is used only for masking by the layer.\n",
    "\n",
    "print(\"Non-Zero Embeddings: {}\".format(np.count_nonzero(embedding_weights, axis=0)[0]))"
   ]
  },
  {
   "cell_type": "code",
   "execution_count": 53,
   "metadata": {},
   "outputs": [
    {
     "name": "stdout",
     "output_type": "stream",
     "text": [
      "_________________________________________________________________\n",
      "Layer (type)                 Output Shape              Param #   \n",
      "=================================================================\n",
      "embedding_1 (Embedding)      (None, 150, 100)          5146900   \n",
      "_________________________________________________________________\n",
      "flatten_1 (Flatten)          (None, 15000)             0         \n",
      "_________________________________________________________________\n",
      "dense_1 (Dense)              (None, 100)               1500100   \n",
      "_________________________________________________________________\n",
      "dropout_1 (Dropout)          (None, 100)               0         \n",
      "_________________________________________________________________\n",
      "dense_2 (Dense)              (None, 50)                5050      \n",
      "_________________________________________________________________\n",
      "dropout_2 (Dropout)          (None, 50)                0         \n",
      "_________________________________________________________________\n",
      "dense_3 (Dense)              (None, 1)                 51        \n",
      "=================================================================\n",
      "Total params: 6,652,101\n",
      "Trainable params: 1,505,201\n",
      "Non-trainable params: 5,146,900\n",
      "_________________________________________________________________\n"
     ]
    }
   ],
   "source": [
    "model = Sequential(name=\"MLP\")\n",
    "\n",
    "model.add(Embedding(\n",
    "    input_dim=embedding_weights.shape[0],\n",
    "    output_dim=embedding_weights.shape[1],\n",
    "    input_length=input_length,\n",
    "    embeddings_initializer=\"zeros\",\n",
    "    weights=[embedding_weights],\n",
    "    trainable=False\n",
    "))\n",
    "model.add(Flatten())\n",
    "model.add(Dense(100, activation=\"relu\"))\n",
    "model.add(Dropout(0.5))\n",
    "model.add(Dense(50, activation=\"relu\"))\n",
    "model.add(Dropout(0.5))\n",
    "model.add(Dense(1, activation=\"sigmoid\"))\n",
    "\n",
    "model.summary()"
   ]
  },
  {
   "cell_type": "code",
   "execution_count": 54,
   "metadata": {},
   "outputs": [],
   "source": [
    "model.compile(optimizer=\"adam\", loss=\"binary_crossentropy\", metrics=[\"accuracy\"])"
   ]
  },
  {
   "cell_type": "code",
   "execution_count": 55,
   "metadata": {},
   "outputs": [
    {
     "name": "stdout",
     "output_type": "stream",
     "text": [
      "Train on 6087 samples, validate on 676 samples\n",
      "Epoch 1/100\n",
      "6087/6087 [==============================] - 4s 604us/step - loss: 0.3566 - acc: 0.8679 - val_loss: 0.1517 - val_acc: 0.9408\n",
      "Epoch 2/100\n",
      "6087/6087 [==============================] - 3s 454us/step - loss: 0.1678 - acc: 0.9290 - val_loss: 0.0663 - val_acc: 0.9749\n",
      "Epoch 3/100\n",
      "6087/6087 [==============================] - 3s 458us/step - loss: 0.1216 - acc: 0.9532 - val_loss: 0.0760 - val_acc: 0.9749\n",
      "Epoch 4/100\n",
      "6087/6087 [==============================] - 3s 466us/step - loss: 0.0996 - acc: 0.9586 - val_loss: 0.0866 - val_acc: 0.9734\n",
      "Epoch 5/100\n",
      "6087/6087 [==============================] - 3s 461us/step - loss: 0.0900 - acc: 0.9617 - val_loss: 0.0597 - val_acc: 0.9837\n",
      "Epoch 6/100\n",
      "6087/6087 [==============================] - 3s 453us/step - loss: 0.0610 - acc: 0.9727 - val_loss: 0.0653 - val_acc: 0.9808\n",
      "Epoch 7/100\n",
      "6087/6087 [==============================] - 3s 453us/step - loss: 0.0844 - acc: 0.9731 - val_loss: 0.0621 - val_acc: 0.9852\n",
      "Epoch 8/100\n",
      "6087/6087 [==============================] - 3s 467us/step - loss: 0.0552 - acc: 0.9778 - val_loss: 0.0733 - val_acc: 0.9822\n",
      "Epoch 9/100\n",
      "6087/6087 [==============================] - 3s 462us/step - loss: 0.0607 - acc: 0.9772 - val_loss: 0.0562 - val_acc: 0.9852\n",
      "Epoch 10/100\n",
      "6087/6087 [==============================] - 3s 449us/step - loss: 0.0477 - acc: 0.9800 - val_loss: 0.0590 - val_acc: 0.9867\n",
      "Epoch 11/100\n",
      "6087/6087 [==============================] - 3s 455us/step - loss: 0.0456 - acc: 0.9824 - val_loss: 0.1137 - val_acc: 0.9763\n",
      "Epoch 12/100\n",
      "6087/6087 [==============================] - 3s 464us/step - loss: 0.0408 - acc: 0.9854 - val_loss: 0.0970 - val_acc: 0.9734\n",
      "Epoch 13/100\n",
      "6087/6087 [==============================] - 3s 454us/step - loss: 0.0361 - acc: 0.9878 - val_loss: 0.0665 - val_acc: 0.9822\n",
      "Epoch 14/100\n",
      "6087/6087 [==============================] - 3s 463us/step - loss: 0.0398 - acc: 0.9855 - val_loss: 0.0747 - val_acc: 0.9837\n",
      "Epoch 15/100\n",
      "6087/6087 [==============================] - 3s 476us/step - loss: 0.0357 - acc: 0.9870 - val_loss: 0.0661 - val_acc: 0.9822\n",
      "Restoring model weights from the end of the best epoch\n",
      "Epoch 00015: early stopping\n"
     ]
    }
   ],
   "source": [
    "history = model.fit(\n",
    "    train_sequences, train_y,\n",
    "    validation_data=(valid_sequences, valid_y),\n",
    "    batch_size=16,\n",
    "    epochs=100,\n",
    "    callbacks=[EarlyStopping(patience=6, restore_best_weights=True, verbose=1)],\n",
    "    verbose=1\n",
    ")"
   ]
  },
  {
   "cell_type": "code",
   "execution_count": 56,
   "metadata": {},
   "outputs": [
    {
     "data": {
      "image/png": "[encoded data removed]",
      "text/plain": [
       "<Figure size 432x288 with 1 Axes>"
      ]
     },
     "metadata": {
      "needs_background": "light"
     },
     "output_type": "display_data"
    }
   ],
   "source": [
    "plot_history(history)"
   ]
  },
  {
   "cell_type": "code",
   "execution_count": 57,
   "metadata": {},
   "outputs": [
    {
     "name": "stdout",
     "output_type": "stream",
     "text": [
      "              precision    recall  f1-score   support\n",
      "\n",
      "           0       1.00      1.00      1.00      5182\n",
      "           1       1.00      0.99      0.99       905\n",
      "\n",
      "   micro avg       1.00      1.00      1.00      6087\n",
      "   macro avg       1.00      0.99      1.00      6087\n",
      "weighted avg       1.00      1.00      1.00      6087\n",
      "\n"
     ]
    }
   ],
   "source": [
    "evaluate_model(model, train_sequences, train_y)"
   ]
  },
  {
   "cell_type": "code",
   "execution_count": 58,
   "metadata": {},
   "outputs": [
    {
     "name": "stdout",
     "output_type": "stream",
     "text": [
      "              precision    recall  f1-score   support\n",
      "\n",
      "           0       0.98      1.00      0.99       585\n",
      "           1       0.99      0.90      0.94        91\n",
      "\n",
      "   micro avg       0.99      0.99      0.99       676\n",
      "   macro avg       0.99      0.95      0.97       676\n",
      "weighted avg       0.99      0.99      0.98       676\n",
      "\n"
     ]
    }
   ],
   "source": [
    "evaluate_model(model, valid_sequences, valid_y)"
   ]
  },
  {
   "cell_type": "code",
   "execution_count": 59,
   "metadata": {},
   "outputs": [
    {
     "name": "stdout",
     "output_type": "stream",
     "text": [
      "              precision    recall  f1-score   support\n",
      "\n",
      "           0       0.98      0.99      0.98      1459\n",
      "           1       0.93      0.87      0.90       231\n",
      "\n",
      "   micro avg       0.97      0.97      0.97      1690\n",
      "   macro avg       0.95      0.93      0.94      1690\n",
      "weighted avg       0.97      0.97      0.97      1690\n",
      "\n"
     ]
    }
   ],
   "source": [
    "evaluate_model(model, test_sequences, test_y)"
   ]
  },
  {
   "cell_type": "code",
   "execution_count": 52,
   "metadata": {},
   "outputs": [],
   "source": [
    "clean_model(model)"
   ]
  },
  {
   "cell_type": "markdown",
   "metadata": {},
   "source": [
    "<h2>MLP on TF-IDF Vectors</h2>"
   ]
  },
  {
   "cell_type": "code",
   "execution_count": 109,
   "metadata": {},
   "outputs": [
    {
     "name": "stdout",
     "output_type": "stream",
     "text": [
      "_________________________________________________________________\n",
      "Layer (type)                 Output Shape              Param #   \n",
      "=================================================================\n",
      "dense_1 (Dense)              (None, 2000)              302000    \n",
      "_________________________________________________________________\n",
      "dropout_1 (Dropout)          (None, 2000)              0         \n",
      "_________________________________________________________________\n",
      "dense_2 (Dense)              (None, 100)               200100    \n",
      "_________________________________________________________________\n",
      "dropout_2 (Dropout)          (None, 100)               0         \n",
      "_________________________________________________________________\n",
      "dense_3 (Dense)              (None, 500)               50500     \n",
      "_________________________________________________________________\n",
      "batch_normalization_1 (Batch (None, 500)               2000      \n",
      "_________________________________________________________________\n",
      "activation_1 (Activation)    (None, 500)               0         \n",
      "_________________________________________________________________\n",
      "dropout_3 (Dropout)          (None, 500)               0         \n",
      "_________________________________________________________________\n",
      "dense_4 (Dense)              (None, 100)               50100     \n",
      "_________________________________________________________________\n",
      "batch_normalization_2 (Batch (None, 100)               400       \n",
      "_________________________________________________________________\n",
      "activation_2 (Activation)    (None, 100)               0         \n",
      "_________________________________________________________________\n",
      "dropout_4 (Dropout)          (None, 100)               0         \n",
      "_________________________________________________________________\n",
      "dense_5 (Dense)              (None, 1)                 101       \n",
      "=================================================================\n",
      "Total params: 605,201\n",
      "Trainable params: 604,001\n",
      "Non-trainable params: 1,200\n",
      "_________________________________________________________________\n"
     ]
    }
   ],
   "source": [
    "model = Sequential(name=\"MLP\")\n",
    "\n",
    "model.add(InputLayer((train_tfidf.shape[1],), sparse=True))\n",
    "model.add(Dense(2000, kernel_initializer=\"glorot_normal\", activation=\"relu\"))\n",
    "model.add(Dropout(0.5))\n",
    "model.add(Dense(100, kernel_initializer=\"glorot_normal\", activation=\"relu\"))\n",
    "model.add(Dropout(0.5))\n",
    "model.add(Dense(500, kernel_initializer=\"glorot_normal\"))\n",
    "model.add(BatchNormalization())\n",
    "model.add(Activation(\"relu\"))\n",
    "model.add(Dropout(0.5))\n",
    "model.add(Dense(100, kernel_initializer=\"glorot_normal\"))\n",
    "model.add(BatchNormalization())\n",
    "model.add(Activation(\"relu\"))\n",
    "model.add(Dropout(0.5))\n",
    "model.add(Dense(1, activation=\"sigmoid\"))\n",
    "\n",
    "model.summary()"
   ]
  },
  {
   "cell_type": "code",
   "execution_count": 110,
   "metadata": {},
   "outputs": [],
   "source": [
    "model.compile(optimizer=\"adam\", loss=\"binary_crossentropy\", metrics=[\"accuracy\"])"
   ]
  },
  {
   "cell_type": "code",
   "execution_count": 111,
   "metadata": {},
   "outputs": [
    {
     "name": "stdout",
     "output_type": "stream",
     "text": [
      "Train on 6087 samples, validate on 676 samples\n",
      "Epoch 1/100\n",
      "6087/6087 [==============================] - 5s 795us/step - loss: 0.3080 - acc: 0.8802 - val_loss: 0.1791 - val_acc: 0.9349\n",
      "Epoch 2/100\n",
      "6087/6087 [==============================] - 3s 544us/step - loss: 0.2055 - acc: 0.9384 - val_loss: 0.1689 - val_acc: 0.9423\n",
      "Epoch 3/100\n",
      "6087/6087 [==============================] - 3s 541us/step - loss: 0.1827 - acc: 0.9441 - val_loss: 0.1558 - val_acc: 0.9482\n",
      "Epoch 4/100\n",
      "6087/6087 [==============================] - 3s 527us/step - loss: 0.1745 - acc: 0.9468 - val_loss: 0.1589 - val_acc: 0.9527\n",
      "Epoch 5/100\n",
      "6087/6087 [==============================] - 3s 533us/step - loss: 0.1610 - acc: 0.9525 - val_loss: 0.1568 - val_acc: 0.9438\n",
      "Epoch 6/100\n",
      "6087/6087 [==============================] - 3s 531us/step - loss: 0.1593 - acc: 0.9535 - val_loss: 0.1521 - val_acc: 0.9467\n",
      "Epoch 7/100\n",
      "6087/6087 [==============================] - 3s 518us/step - loss: 0.1605 - acc: 0.9547 - val_loss: 0.1603 - val_acc: 0.9453\n",
      "Epoch 8/100\n",
      "6087/6087 [==============================] - 3s 552us/step - loss: 0.1469 - acc: 0.9563 - val_loss: 0.1549 - val_acc: 0.9482\n",
      "Epoch 9/100\n",
      "6087/6087 [==============================] - 3s 545us/step - loss: 0.1477 - acc: 0.9560 - val_loss: 0.1550 - val_acc: 0.9438\n",
      "Epoch 10/100\n",
      "6087/6087 [==============================] - 3s 533us/step - loss: 0.1425 - acc: 0.9588 - val_loss: 0.1545 - val_acc: 0.9423\n",
      "Epoch 11/100\n",
      "6087/6087 [==============================] - 3s 534us/step - loss: 0.1402 - acc: 0.9583 - val_loss: 0.1452 - val_acc: 0.9586\n",
      "Epoch 12/100\n",
      "6087/6087 [==============================] - 3s 554us/step - loss: 0.1374 - acc: 0.9588 - val_loss: 0.1519 - val_acc: 0.9482\n",
      "Epoch 13/100\n",
      "6087/6087 [==============================] - 4s 576us/step - loss: 0.1356 - acc: 0.9591 - val_loss: 0.1568 - val_acc: 0.9482\n",
      "Epoch 14/100\n",
      "6087/6087 [==============================] - 3s 532us/step - loss: 0.1317 - acc: 0.9596 - val_loss: 0.1517 - val_acc: 0.9482\n",
      "Epoch 15/100\n",
      "6087/6087 [==============================] - 3s 527us/step - loss: 0.1253 - acc: 0.9639 - val_loss: 0.1606 - val_acc: 0.9512\n",
      "Epoch 16/100\n",
      "6087/6087 [==============================] - 3s 537us/step - loss: 0.1225 - acc: 0.9635 - val_loss: 0.1579 - val_acc: 0.9527\n",
      "Epoch 17/100\n",
      "6087/6087 [==============================] - 3s 551us/step - loss: 0.1283 - acc: 0.9624 - val_loss: 0.1627 - val_acc: 0.9482\n",
      "Epoch 18/100\n",
      "6087/6087 [==============================] - 3s 550us/step - loss: 0.1269 - acc: 0.9630 - val_loss: 0.1626 - val_acc: 0.9512\n",
      "Epoch 19/100\n",
      "6087/6087 [==============================] - 3s 517us/step - loss: 0.1195 - acc: 0.9622 - val_loss: 0.1475 - val_acc: 0.9497\n",
      "Epoch 20/100\n",
      "6087/6087 [==============================] - 3s 520us/step - loss: 0.1237 - acc: 0.9622 - val_loss: 0.1769 - val_acc: 0.9497\n",
      "Epoch 21/100\n",
      "6087/6087 [==============================] - 3s 531us/step - loss: 0.1240 - acc: 0.9625 - val_loss: 0.1741 - val_acc: 0.9512\n",
      "Epoch 22/100\n",
      "6087/6087 [==============================] - 3s 536us/step - loss: 0.1237 - acc: 0.9612 - val_loss: 0.1526 - val_acc: 0.9571\n",
      "Epoch 23/100\n",
      "6087/6087 [==============================] - 3s 560us/step - loss: 0.1159 - acc: 0.9642 - val_loss: 0.1608 - val_acc: 0.9527\n",
      "Epoch 24/100\n",
      "6087/6087 [==============================] - 3s 543us/step - loss: 0.1156 - acc: 0.9629 - val_loss: 0.1608 - val_acc: 0.9512\n",
      "Epoch 25/100\n",
      "6087/6087 [==============================] - 3s 543us/step - loss: 0.1177 - acc: 0.9619 - val_loss: 0.1521 - val_acc: 0.9497\n",
      "Epoch 26/100\n",
      "6087/6087 [==============================] - 3s 532us/step - loss: 0.1099 - acc: 0.9662 - val_loss: 0.1519 - val_acc: 0.9571\n",
      "Epoch 27/100\n",
      "6087/6087 [==============================] - 3s 559us/step - loss: 0.1138 - acc: 0.9658 - val_loss: 0.1617 - val_acc: 0.9512\n",
      "Epoch 28/100\n",
      "6087/6087 [==============================] - 3s 544us/step - loss: 0.1129 - acc: 0.9645 - val_loss: 0.1522 - val_acc: 0.9527\n",
      "Epoch 29/100\n",
      "6087/6087 [==============================] - 3s 548us/step - loss: 0.1183 - acc: 0.9647 - val_loss: 0.1454 - val_acc: 0.9556\n",
      "Epoch 30/100\n",
      "6087/6087 [==============================] - 3s 568us/step - loss: 0.1135 - acc: 0.9653 - val_loss: 0.1638 - val_acc: 0.9556\n",
      "Epoch 31/100\n",
      "6087/6087 [==============================] - 3s 546us/step - loss: 0.1154 - acc: 0.9634 - val_loss: 0.1647 - val_acc: 0.9497\n",
      "Restoring model weights from the end of the best epoch\n",
      "Epoch 00031: early stopping\n"
     ]
    }
   ],
   "source": [
    "history = model.fit(\n",
    "    train_tfidf, train_y,\n",
    "    validation_data=(valid_tfidf, valid_y),\n",
    "    batch_size=16,\n",
    "    epochs=100,\n",
    "    callbacks=[EarlyStopping(patience=20, restore_best_weights=True, verbose=1)],\n",
    "    verbose=1\n",
    ")"
   ]
  },
  {
   "cell_type": "code",
   "execution_count": 112,
   "metadata": {},
   "outputs": [
    {
     "data": {
      "image/png": "[encoded data removed]",
      "text/plain": [
       "<Figure size 432x288 with 1 Axes>"
      ]
     },
     "metadata": {
      "needs_background": "light"
     },
     "output_type": "display_data"
    }
   ],
   "source": [
    "plot_history(history)"
   ]
  },
  {
   "cell_type": "code",
   "execution_count": 113,
   "metadata": {},
   "outputs": [
    {
     "name": "stdout",
     "output_type": "stream",
     "text": [
      "              precision    recall  f1-score   support\n",
      "\n",
      "           0       0.97      0.99      0.98      5208\n",
      "           1       0.93      0.82      0.87       879\n",
      "\n",
      "   micro avg       0.97      0.97      0.97      6087\n",
      "   macro avg       0.95      0.91      0.93      6087\n",
      "weighted avg       0.96      0.97      0.96      6087\n",
      "\n"
     ]
    }
   ],
   "source": [
    "evaluate_model(model, train_tfidf, train_y)"
   ]
  },
  {
   "cell_type": "code",
   "execution_count": 114,
   "metadata": {},
   "outputs": [
    {
     "name": "stdout",
     "output_type": "stream",
     "text": [
      "              precision    recall  f1-score   support\n",
      "\n",
      "           0       0.97      0.98      0.98       576\n",
      "           1       0.89      0.82      0.85       100\n",
      "\n",
      "   micro avg       0.96      0.96      0.96       676\n",
      "   macro avg       0.93      0.90      0.92       676\n",
      "weighted avg       0.96      0.96      0.96       676\n",
      "\n"
     ]
    }
   ],
   "source": [
    "evaluate_model(model, valid_tfidf, valid_y)"
   ]
  },
  {
   "cell_type": "code",
   "execution_count": 115,
   "metadata": {},
   "outputs": [
    {
     "name": "stdout",
     "output_type": "stream",
     "text": [
      "              precision    recall  f1-score   support\n",
      "\n",
      "           0       0.96      0.98      0.97      1442\n",
      "           1       0.85      0.78      0.81       248\n",
      "\n",
      "   micro avg       0.95      0.95      0.95      1690\n",
      "   macro avg       0.91      0.88      0.89      1690\n",
      "weighted avg       0.95      0.95      0.95      1690\n",
      "\n"
     ]
    }
   ],
   "source": [
    "evaluate_model(model, test_tfidf, test_y)"
   ]
  },
  {
   "cell_type": "code",
   "execution_count": 108,
   "metadata": {},
   "outputs": [],
   "source": [
    "clean_model(model)"
   ]
  },
  {
   "cell_type": "code",
   "execution_count": null,
   "metadata": {},
   "outputs": [],
   "source": []
  }
 ],
 "metadata": {
  "kernelspec": {
   "display_name": "Python 3",
   "language": "python",
   "name": "python3"
  },
  "language_info": {
   "codemirror_mode": {
    "name": "ipython",
    "version": 3
   },
   "file_extension": ".py",
   "mimetype": "text/x-python",
   "name": "python",
   "nbconvert_exporter": "python",
   "pygments_lexer": "ipython3",
   "version": "3.7.2"
  }
 },
 "nbformat": 4,
 "nbformat_minor": 2
}
