{
 "cells": [
  {
   "cell_type": "code",
   "execution_count": 1,
   "metadata": {},
   "outputs": [
    {
     "name": "stderr",
     "output_type": "stream",
     "text": [
      "Using TensorFlow backend.\n",
      "WARNING: Logging before flag parsing goes to stderr.\n",
      "W0512 23:01:52.852059 26228 __init__.py:56] Some hub symbols are not available because TensorFlow version is less than 1.14\n"
     ]
    }
   ],
   "source": [
    "import os\n",
    "import operator\n",
    "import random\n",
    "import numpy as np\n",
    "import pandas as pd\n",
    "import csv\n",
    "import re\n",
    "\n",
    "from itertools import chain, islice, product\n",
    "from functools import partial\n",
    "\n",
    "import nltk\n",
    "from nltk.tokenize import word_tokenize\n",
    "\n",
    "import sklearn\n",
    "from sklearn.model_selection import train_test_split, GridSearchCV, ShuffleSplit\n",
    "from sklearn.feature_extraction.text import TfidfVectorizer\n",
    "from sklearn.metrics import classification_report\n",
    "\n",
    "import keras\n",
    "from keras.preprocessing.text import Tokenizer\n",
    "from keras.preprocessing.sequence import pad_sequences\n",
    "from keras.models import Sequential\n",
    "from keras.layers import Layer, Lambda, Input, InputLayer, Embedding, Dense, TimeDistributed, Flatten, Reshape, Activation, Dropout, BatchNormalization, CuDNNLSTM, LSTM, Bidirectional, Multiply\n",
    "from keras.callbacks import EarlyStopping\n",
    "from keras.models import Model\n",
    "from keras.wrappers.scikit_learn import KerasClassifier\n",
    "from keras import backend as K\n",
    "\n",
    "import tensorflow as tf\n",
    "import tensorflow_hub as hub\n",
    "\n",
    "import matplotlib.pyplot as plt\n",
    "from pprint import pprint\n",
    "\n",
    "import gc"
   ]
  },
  {
   "cell_type": "code",
   "execution_count": 2,
   "metadata": {},
   "outputs": [],
   "source": [
    "def set_seed(seed):\n",
    "    random.seed(seed)\n",
    "    np.random.seed(seed)\n",
    "    tf.set_random_seed(seed)\n",
    "    \n",
    "set_seed(1992)"
   ]
  },
  {
   "cell_type": "markdown",
   "metadata": {},
   "source": [
    "<h2>Preprocessing</h2>\n",
    "\n",
    "We operate on a subset of two datasets:\n",
    "<ol>\n",
    "    <li>\n",
    "        <h4>LingSpam Dataset (Bare)</h4>\n",
    "        <p>\n",
    "            This is the dataset that we used in the 2nd assignment.\n",
    "            It consists of a few large emails, appriximately 1000 messages with an average of 3500 words.\n",
    "    </li>\n",
    "    <li>\n",
    "        <h4>Kaggles Spam/Ham Dataset</h4>\n",
    "        <p>\n",
    "            This dataset is bigger, consisting of approximately 5500 messages.\n",
    "            Each message however is quiet short and a lot of jargon is used in them.\n",
    "        </p>\n",
    "    </li>\n",
    "</ol>"
   ]
  },
  {
   "cell_type": "code",
   "execution_count": 3,
   "metadata": {},
   "outputs": [],
   "source": [
    "lingspam_data_path = \"lingspam_public/bare\"\n",
    "kaggle_data_path   = \"Kaggle/kaggle_spam_data.csv\""
   ]
  },
  {
   "cell_type": "code",
   "execution_count": 4,
   "metadata": {},
   "outputs": [],
   "source": [
    "def load_lingspam_data(path):\n",
    "\n",
    "    ham, spam = [], []\n",
    "\n",
    "    for dirpath, _, filenames in os.walk(path):\n",
    "        for filename in filenames:\n",
    "            with open(os.path.join(dirpath, filename), encoding=\"utf8\") as file:\n",
    "                message = file.read()\n",
    "            if filename.startswith(\"spm\"):\n",
    "                spam.append(message)\n",
    "            else:\n",
    "                ham.append(message)\n",
    "\n",
    "    return ham, spam"
   ]
  },
  {
   "cell_type": "code",
   "execution_count": 5,
   "metadata": {},
   "outputs": [],
   "source": [
    "def load_kaggle_data(path):\n",
    "    \n",
    "    ham, spam = [], []\n",
    "    \n",
    "    pattern = re.compile(\"\\\"?(?P<Category>spam|ham),(?:\\\"\\\")?(?P<Text>.*?)(?:\\\"\\\"\\\")?;+\")\n",
    "    \n",
    "    with open(path, 'r', encoding=\"utf8\") as file:\n",
    "        for line in file.readlines():\n",
    "            match = pattern.match(line)\n",
    "            if match:\n",
    "                text = \" \".join(word_tokenize(match[\"Text\"]))\n",
    "                if match[\"Category\"].startswith(\"s\"):\n",
    "                    spam.append(text)\n",
    "                else:\n",
    "                    ham.append(text)\n",
    "            \n",
    "    return ham, spam"
   ]
  },
  {
   "cell_type": "code",
   "execution_count": 6,
   "metadata": {},
   "outputs": [
    {
     "name": "stdout",
     "output_type": "stream",
     "text": [
      "Ham: 7226, Spam: 1227\n"
     ]
    }
   ],
   "source": [
    "dataset = \"*\" # Specify the dataset to be loaded: kaggle, lingspam, or both\n",
    "\n",
    "ham, spam = \\\n",
    "    load_kaggle_data(kaggle_data_path) if dataset.startswith(\"k\") else (\n",
    "        load_lingspam_data(lingspam_data_path) if dataset.startswith(\"l\") else\n",
    "        tuple(map(operator.concat, load_kaggle_data(kaggle_data_path), load_lingspam_data(lingspam_data_path)))\n",
    "    )\n",
    " \n",
    "print(\"Ham: {}, Spam: {}\".format(len(ham), len(spam)))"
   ]
  },
  {
   "cell_type": "code",
   "execution_count": 7,
   "metadata": {},
   "outputs": [],
   "source": [
    "def data_split(x, y, sizes=(0.1, 0.1)):\n",
    "    \n",
    "    data_size = len(x)\n",
    "    splits = []\n",
    "    \n",
    "    for size in sizes:\n",
    "        x, test_x, y, test_y = train_test_split(x, y, test_size=int(data_size*size), shuffle=True)\n",
    "        splits.append((test_x, test_y))\n",
    "    splits.append((x, y))\n",
    "    \n",
    "    return splits"
   ]
  },
  {
   "cell_type": "code",
   "execution_count": 8,
   "metadata": {},
   "outputs": [
    {
     "name": "stdout",
     "output_type": "stream",
     "text": [
      "Split Sizes: [6087, 676, 1690]\n"
     ]
    }
   ],
   "source": [
    "x = ham + spam\n",
    "y = [0] * len(ham) + [1] * len(spam)\n",
    "\n",
    "(test_x, test_y), (valid_x, valid_y), (train_x, train_y) = data_split(x, y, sizes=(0.2, 0.08))\n",
    "\n",
    "print(\"Split Sizes: {}\".format(list(map(len, (train_x, valid_x, test_x)))))"
   ]
  },
  {
   "cell_type": "markdown",
   "metadata": {},
   "source": [
    "<h3>Tokenizer Initialization</h3>\n",
    "<p>We consider two tokenizers. <i>Tokenizer_TRAIN_GLB</i> is fitted in all tokens onservable in the training set. <i>Tokenizer_UNK</i> is fitted in a subset of the training sequences in order to simulate the unobservability of a number of tokens in the validation data.</p>"
   ]
  },
  {
   "cell_type": "code",
   "execution_count": 9,
   "metadata": {},
   "outputs": [
    {
     "name": "stdout",
     "output_type": "stream",
     "text": [
      "Tokens discovered by Tokenizer_GLB: 54841\n"
     ]
    }
   ],
   "source": [
    "tokenizer_GLB = Tokenizer(num_words=None, lower=True, oov_token=\"*UNK*\")\n",
    "tokenizer_GLB.fit_on_texts(train_x)\n",
    "\n",
    "print(\"Tokens discovered by Tokenizer_GLB: {}\".format(len(tokenizer_GLB.word_index)))"
   ]
  },
  {
   "cell_type": "code",
   "execution_count": 10,
   "metadata": {},
   "outputs": [
    {
     "name": "stdout",
     "output_type": "stream",
     "text": [
      "Tokens discovered by Tokenizer_UNK: 51416\n"
     ]
    }
   ],
   "source": [
    "tokenizer_UNK = Tokenizer(num_words=None, lower=True, oov_token=\"*UNK*\")\n",
    "tokenizer_UNK.fit_on_texts(random.sample(train_x, len(train_x) - len(valid_x))) # We want the number of unknown words in the train set to be approximately the same as in the validation set.\n",
    "\n",
    "print(\"Tokens discovered by Tokenizer_UNK: {}\".format(len(tokenizer_UNK.word_index)))"
   ]
  },
  {
   "cell_type": "markdown",
   "metadata": {},
   "source": [
    "<h3>Tokenization</h3>\n",
    "<p>We transform each set in sequences of tokens according the chosen tokenizer.</p>"
   ]
  },
  {
   "cell_type": "code",
   "execution_count": 11,
   "metadata": {},
   "outputs": [],
   "source": [
    "tokenizer = tokenizer_UNK"
   ]
  },
  {
   "cell_type": "code",
   "execution_count": 12,
   "metadata": {},
   "outputs": [],
   "source": [
    "train_sequences = pad_sequences(tokenizer.texts_to_sequences(train_x), maxlen=150, padding=\"post\", truncating=\"post\") # We are constrained by the hardware limitations.\n",
    "input_length = len(train_sequences[0])"
   ]
  },
  {
   "cell_type": "code",
   "execution_count": 13,
   "metadata": {},
   "outputs": [],
   "source": [
    "valid_sequences = pad_sequences(tokenizer.texts_to_sequences(valid_x), maxlen=input_length, padding=\"post\", truncating=\"post\")\n",
    "test_sequences  = pad_sequences(tokenizer.texts_to_sequences(test_x), maxlen=input_length, padding=\"post\", truncating=\"post\")"
   ]
  },
  {
   "cell_type": "markdown",
   "metadata": {},
   "source": [
    "<h2>Utilities</h2>"
   ]
  },
  {
   "cell_type": "code",
   "execution_count": 14,
   "metadata": {},
   "outputs": [],
   "source": [
    "def create_rnn_model(rnn_stack_size=1, use_atention=False, mlp_model=None):\n",
    "    assert rnn_stack_size > 0\n",
    "    \n",
    "    l_Input = Input((input_length,), name=\"In\")\n",
    "\n",
    "    l_Embeddings = Embedding(\n",
    "        name=\"Embeddings\",\n",
    "        input_dim=embedding_weights.shape[0],\n",
    "        output_dim=embedding_weights.shape[1],\n",
    "        input_length=input_length,\n",
    "        embeddings_initializer=\"zeros\",\n",
    "        weights=[embedding_weights],\n",
    "        trainable=False\n",
    "    )(l_Input)\n",
    "\n",
    "    m_BiLSTM = Sequential(name=\"BiLSTM_Stack\")\n",
    "    for _ in range(rnn_stack_size - 1):\n",
    "        m_BiLSTM.add(Bidirectional(CuDNNLSTM(100, return_sequences=True)))\n",
    "        \n",
    "    if use_atention:\n",
    "        m_BiLSTM.add(Bidirectional(CuDNNLSTM(100, return_sequences=True)))\n",
    "    else:\n",
    "        m_BiLSTM.add(Bidirectional(CuDNNLSTM(100)))\n",
    "        \n",
    "        \n",
    "    l_BiLSTM = m_BiLSTM(l_Embeddings)\n",
    "\n",
    "    m_Out = Sequential(name=\"Out\")\n",
    "    \n",
    "    if use_atention:\n",
    "\n",
    "        m_Attention = Sequential(name=\"Attention\")\n",
    "        m_Attention.add(mlp_model)\n",
    "        m_Attention.add(Flatten())\n",
    "        m_Attention.add(Activation(\"softmax\"))\n",
    "        m_Attention.add(Reshape((input_length, 1)))\n",
    "        l_Attention = m_Attention(l_BiLSTM)\n",
    "\n",
    "        l_Multiply = Multiply(name=\"Multiply\")([l_BiLSTM, l_Attention])\n",
    "\n",
    "        m_Out.add(Lambda(lambda x: K.sum(x, axis=1)))\n",
    "        m_Out.add(Dense(1, activation=\"sigmoid\"))\n",
    "        l_Out = m_Out(l_Multiply)\n",
    "    \n",
    "    else:\n",
    "        \n",
    "        m_Out.add(Dense(1, activation=\"sigmoid\"))\n",
    "        l_Out = m_Out(l_BiLSTM)\n",
    "\n",
    "    model = Model(inputs=l_Input, outputs=l_Out)\n",
    "    \n",
    "    return model"
   ]
  },
  {
   "cell_type": "code",
   "execution_count": 15,
   "metadata": {},
   "outputs": [],
   "source": [
    "def clean_model(model):\n",
    "    \n",
    "    K.clear_session()\n",
    "    del model\n",
    "    gc.collect() "
   ]
  },
  {
   "cell_type": "code",
   "execution_count": 16,
   "metadata": {},
   "outputs": [],
   "source": [
    "def tune_model(build_fn, param_grid={}, epochs=100, patience=6, verbose=False):\n",
    "\n",
    "    tune_history = []\n",
    "    best_score = np.inf\n",
    "    best_index = None\n",
    "    \n",
    "    param_iter = product(*param_grid.values())\n",
    "    for params in param_iter:\n",
    "\n",
    "        model = build_fn(**dict(zip(param_grid.keys(), params)))\n",
    "        model.summary()\n",
    "\n",
    "        model.compile(optimizer=\"adam\", loss=\"binary_crossentropy\", metrics=[\"accuracy\"])\n",
    "\n",
    "        history = model.fit(\n",
    "            train_sequences, train_y,\n",
    "            validation_data=(valid_sequences, valid_y),\n",
    "            batch_size=16,\n",
    "            epochs=epochs,\n",
    "            callbacks=[EarlyStopping(patience=patience, restore_best_weights=True, verbose=verbose)],\n",
    "            verbose=verbose\n",
    "        )\n",
    "        \n",
    "        val_loss = np.min(history.history[\"val_loss\"])\n",
    "        if val_loss < best_score:\n",
    "            best_score = val_loss\n",
    "            best_index = len(tune_history)\n",
    "            \n",
    "        tune_history.append({\n",
    "            \"params\": params,\n",
    "            \"model\": model,\n",
    "            \"fit_history\": history\n",
    "        })\n",
    "        \n",
    "    return tune_history, best_index"
   ]
  },
  {
   "cell_type": "code",
   "execution_count": 17,
   "metadata": {},
   "outputs": [],
   "source": [
    "def evaluate_model(model, sequences, y):\n",
    "    \n",
    "    print(classification_report(y, (model.predict(sequences).flatten() >= 0.5).astype(float)))"
   ]
  },
  {
   "cell_type": "code",
   "execution_count": 18,
   "metadata": {},
   "outputs": [],
   "source": [
    "def plot_history(history):\n",
    "    \n",
    "    plt.plot(\n",
    "        history.history[\"acc\"],\n",
    "        label=\"Train\"\n",
    "    )\n",
    "    plt.plot(\n",
    "        history.history[\"val_acc\"],\n",
    "        label=\"Validation\"\n",
    "    )\n",
    "    \n",
    "    plt.title(\"Model Accuracy\")\n",
    "    plt.ylabel(\"Accuray\")\n",
    "    plt.xlabel(\"Epoch\")\n",
    "    plt.legend([\"Train\", \"Validation\"], loc=\"best\")\n",
    "    \n",
    "    plt.show() "
   ]
  },
  {
   "cell_type": "markdown",
   "metadata": {},
   "source": [
    "<h2>BiLSTM on Pretrained (Glove) Embeddings</h2>"
   ]
  },
  {
   "cell_type": "code",
   "execution_count": 19,
   "metadata": {},
   "outputs": [],
   "source": [
    "glove_embeddings_path = \"glove.6B/glove.6B.100d.txt\"\n",
    "embeddings_df = pd.read_csv(glove_embeddings_path, sep=\" \", index_col=0, header=None, quoting=csv.QUOTE_NONE, na_values=None, keep_default_na=False)"
   ]
  },
  {
   "cell_type": "code",
   "execution_count": 20,
   "metadata": {},
   "outputs": [
    {
     "name": "stdout",
     "output_type": "stream",
     "text": [
      "Non-Zero Embeddings: 33910\n"
     ]
    }
   ],
   "source": [
    "token_iter = map(\n",
    "    operator.itemgetter(0),\n",
    "    sorted(\n",
    "        filter(lambda item: item[1] <= tokenizer.num_words, tokenizer.word_index.items()) if tokenizer.num_words\n",
    "            else tokenizer.word_index.items(),\n",
    "        key=operator.itemgetter(1)\n",
    "    )\n",
    ")\n",
    "\n",
    "embedding_weights = embeddings_df.reindex(chain((None,), token_iter), fill_value=0.0).values # The zero-indexed vector is used only for masking by the layer.\n",
    "\n",
    "print(\"Non-Zero Embeddings: {}\".format(np.count_nonzero(embedding_weights, axis=0)[0]))"
   ]
  },
  {
   "cell_type": "code",
   "execution_count": 21,
   "metadata": {},
   "outputs": [
    {
     "name": "stdout",
     "output_type": "stream",
     "text": [
      "WARNING:tensorflow:From C:\\Users\\josep\\Anaconda3\\envs\\NLP\\lib\\site-packages\\tensorflow\\python\\framework\\op_def_library.py:263: colocate_with (from tensorflow.python.framework.ops) is deprecated and will be removed in a future version.\n",
      "Instructions for updating:\n",
      "Colocations handled automatically by placer.\n"
     ]
    },
    {
     "name": "stderr",
     "output_type": "stream",
     "text": [
      "W0512 23:02:20.293281 26228 deprecation.py:323] From C:\\Users\\josep\\Anaconda3\\envs\\NLP\\lib\\site-packages\\tensorflow\\python\\framework\\op_def_library.py:263: colocate_with (from tensorflow.python.framework.ops) is deprecated and will be removed in a future version.\n",
      "Instructions for updating:\n",
      "Colocations handled automatically by placer.\n"
     ]
    },
    {
     "name": "stdout",
     "output_type": "stream",
     "text": [
      "_________________________________________________________________\n",
      "Layer (type)                 Output Shape              Param #   \n",
      "=================================================================\n",
      "In (InputLayer)              (None, 150)               0         \n",
      "_________________________________________________________________\n",
      "Embeddings (Embedding)       (None, 150, 100)          5141700   \n",
      "_________________________________________________________________\n",
      "BiLSTM_Stack (Sequential)    (None, 200)               403200    \n",
      "_________________________________________________________________\n",
      "Out (Sequential)             (None, 1)                 201       \n",
      "=================================================================\n",
      "Total params: 5,545,101\n",
      "Trainable params: 403,401\n",
      "Non-trainable params: 5,141,700\n",
      "_________________________________________________________________\n",
      "WARNING:tensorflow:From C:\\Users\\josep\\Anaconda3\\envs\\NLP\\lib\\site-packages\\tensorflow\\python\\ops\\math_ops.py:3066: to_int32 (from tensorflow.python.ops.math_ops) is deprecated and will be removed in a future version.\n",
      "Instructions for updating:\n",
      "Use tf.cast instead.\n"
     ]
    },
    {
     "name": "stderr",
     "output_type": "stream",
     "text": [
      "W0512 23:02:24.134842 26228 deprecation.py:323] From C:\\Users\\josep\\Anaconda3\\envs\\NLP\\lib\\site-packages\\tensorflow\\python\\ops\\math_ops.py:3066: to_int32 (from tensorflow.python.ops.math_ops) is deprecated and will be removed in a future version.\n",
      "Instructions for updating:\n",
      "Use tf.cast instead.\n"
     ]
    },
    {
     "name": "stdout",
     "output_type": "stream",
     "text": [
      "Train on 6087 samples, validate on 676 samples\n",
      "Epoch 1/30\n",
      "6087/6087 [==============================] - 15s 2ms/step - loss: 0.1634 - acc: 0.9389 - val_loss: 0.0886 - val_acc: 0.9675\n",
      "Epoch 2/30\n",
      "6087/6087 [==============================] - 12s 2ms/step - loss: 0.0889 - acc: 0.9703 - val_loss: 0.0862 - val_acc: 0.9749\n",
      "Epoch 3/30\n",
      "6087/6087 [==============================] - 12s 2ms/step - loss: 0.0650 - acc: 0.9809 - val_loss: 0.0620 - val_acc: 0.9778\n",
      "Epoch 4/30\n",
      "6087/6087 [==============================] - 12s 2ms/step - loss: 0.0476 - acc: 0.9859 - val_loss: 0.0616 - val_acc: 0.9822\n",
      "Epoch 5/30\n",
      "6087/6087 [==============================] - 12s 2ms/step - loss: 0.0446 - acc: 0.9851 - val_loss: 0.0541 - val_acc: 0.9808\n",
      "Epoch 6/30\n",
      "6087/6087 [==============================] - 12s 2ms/step - loss: 0.0418 - acc: 0.9875 - val_loss: 0.0493 - val_acc: 0.9808\n",
      "Epoch 7/30\n",
      "6087/6087 [==============================] - 12s 2ms/step - loss: 0.0287 - acc: 0.9923 - val_loss: 0.0437 - val_acc: 0.9852\n",
      "Epoch 8/30\n",
      "6087/6087 [==============================] - 12s 2ms/step - loss: 0.0254 - acc: 0.9911 - val_loss: 0.0522 - val_acc: 0.9837\n",
      "Epoch 9/30\n",
      "6087/6087 [==============================] - 12s 2ms/step - loss: 0.0159 - acc: 0.9956 - val_loss: 0.0490 - val_acc: 0.9852\n",
      "Epoch 10/30\n",
      "6087/6087 [==============================] - 12s 2ms/step - loss: 0.0196 - acc: 0.9938 - val_loss: 0.0553 - val_acc: 0.9822\n",
      "Epoch 11/30\n",
      "6087/6087 [==============================] - 12s 2ms/step - loss: 0.0135 - acc: 0.9959 - val_loss: 0.0362 - val_acc: 0.9867\n",
      "Epoch 12/30\n",
      "6087/6087 [==============================] - 12s 2ms/step - loss: 0.0088 - acc: 0.9972 - val_loss: 0.0561 - val_acc: 0.9882\n",
      "Epoch 13/30\n",
      "6087/6087 [==============================] - 12s 2ms/step - loss: 0.0048 - acc: 0.9987 - val_loss: 0.0571 - val_acc: 0.9867\n",
      "Epoch 14/30\n",
      "6087/6087 [==============================] - 12s 2ms/step - loss: 0.0079 - acc: 0.9969 - val_loss: 0.0547 - val_acc: 0.9837\n",
      "Epoch 15/30\n",
      "6087/6087 [==============================] - 12s 2ms/step - loss: 0.0070 - acc: 0.9975 - val_loss: 0.0545 - val_acc: 0.9896\n",
      "Epoch 16/30\n",
      "6087/6087 [==============================] - 12s 2ms/step - loss: 0.0024 - acc: 0.9993 - val_loss: 0.0705 - val_acc: 0.9896\n",
      "Epoch 17/30\n",
      "6087/6087 [==============================] - 12s 2ms/step - loss: 0.0012 - acc: 0.9997 - val_loss: 0.0681 - val_acc: 0.9896\n",
      "Restoring model weights from the end of the best epoch\n",
      "Epoch 00017: early stopping\n"
     ]
    }
   ],
   "source": [
    "param_grid = {\n",
    "    \"use_atention\": [False],\n",
    "    \"rnn_stack_size\": [2],\n",
    "    \"mlp_model\": [None]\n",
    "}\n",
    "\n",
    "history, best_index = tune_model(create_rnn_model, param_grid=param_grid, epochs=30, patience=6, verbose=True)"
   ]
  },
  {
   "cell_type": "code",
   "execution_count": 22,
   "metadata": {},
   "outputs": [
    {
     "name": "stdout",
     "output_type": "stream",
     "text": [
      "Tune Results: #1, {'use_atention': False, 'rnn_stack_size': 2, 'mlp_model': None}\n"
     ]
    }
   ],
   "source": [
    "print(\"Tune Results: #{}, {}\".format(best_index + 1, dict(zip(param_grid.keys(), history[best_index][\"params\"]))))"
   ]
  },
  {
   "cell_type": "code",
   "execution_count": 23,
   "metadata": {},
   "outputs": [
    {
     "data": {
      "image/png": "[encoded data removed]",
      "text/plain": [
       "<Figure size 432x288 with 1 Axes>"
      ]
     },
     "metadata": {
      "needs_background": "light"
     },
     "output_type": "display_data"
    }
   ],
   "source": [
    "plot_history(history[best_index][\"fit_history\"])"
   ]
  },
  {
   "cell_type": "code",
   "execution_count": 24,
   "metadata": {},
   "outputs": [
    {
     "name": "stdout",
     "output_type": "stream",
     "text": [
      "              precision    recall  f1-score   support\n",
      "\n",
      "           0       1.00      1.00      1.00      5212\n",
      "           1       1.00      1.00      1.00       875\n",
      "\n",
      "   micro avg       1.00      1.00      1.00      6087\n",
      "   macro avg       1.00      1.00      1.00      6087\n",
      "weighted avg       1.00      1.00      1.00      6087\n",
      "\n"
     ]
    }
   ],
   "source": [
    "evaluate_model(history[best_index][\"model\"], train_sequences, train_y)"
   ]
  },
  {
   "cell_type": "code",
   "execution_count": 25,
   "metadata": {},
   "outputs": [
    {
     "name": "stdout",
     "output_type": "stream",
     "text": [
      "              precision    recall  f1-score   support\n",
      "\n",
      "           0       0.99      0.99      0.99       592\n",
      "           1       0.95      0.94      0.95        84\n",
      "\n",
      "   micro avg       0.99      0.99      0.99       676\n",
      "   macro avg       0.97      0.97      0.97       676\n",
      "weighted avg       0.99      0.99      0.99       676\n",
      "\n"
     ]
    }
   ],
   "source": [
    "evaluate_model(history[best_index][\"model\"], valid_sequences, valid_y)"
   ]
  },
  {
   "cell_type": "code",
   "execution_count": 26,
   "metadata": {},
   "outputs": [
    {
     "name": "stdout",
     "output_type": "stream",
     "text": [
      "              precision    recall  f1-score   support\n",
      "\n",
      "           0       0.99      0.99      0.99      1422\n",
      "           1       0.97      0.93      0.95       268\n",
      "\n",
      "   micro avg       0.98      0.98      0.98      1690\n",
      "   macro avg       0.98      0.96      0.97      1690\n",
      "weighted avg       0.98      0.98      0.98      1690\n",
      "\n"
     ]
    }
   ],
   "source": [
    "evaluate_model(history[best_index][\"model\"], test_sequences, test_y)"
   ]
  },
  {
   "cell_type": "code",
   "execution_count": 27,
   "metadata": {},
   "outputs": [],
   "source": [
    "for entry in history:\n",
    "    clean_model(entry[\"model\"])"
   ]
  },
  {
   "cell_type": "markdown",
   "metadata": {},
   "source": [
    "<h2>BiLSTM on Pretrained (Glove) Embeddings + Attention (MLP)</h2>"
   ]
  },
  {
   "cell_type": "code",
   "execution_count": 28,
   "metadata": {},
   "outputs": [
    {
     "name": "stdout",
     "output_type": "stream",
     "text": [
      "__________________________________________________________________________________________________\n",
      "Layer (type)                    Output Shape         Param #     Connected to                     \n",
      "==================================================================================================\n",
      "In (InputLayer)                 (None, 150)          0                                            \n",
      "__________________________________________________________________________________________________\n",
      "Embeddings (Embedding)          (None, 150, 100)     5141700     In[0][0]                         \n",
      "__________________________________________________________________________________________________\n",
      "BiLSTM_Stack (Sequential)       (None, 150, 200)     403200      Embeddings[0][0]                 \n",
      "__________________________________________________________________________________________________\n",
      "Attention (Sequential)          (None, 150, 1)       201         BiLSTM_Stack[1][0]               \n",
      "__________________________________________________________________________________________________\n",
      "Multiply (Multiply)             (None, 150, 200)     0           BiLSTM_Stack[1][0]               \n",
      "                                                                 Attention[1][0]                  \n",
      "__________________________________________________________________________________________________\n",
      "Out (Sequential)                (None, 1)            201         Multiply[0][0]                   \n",
      "==================================================================================================\n",
      "Total params: 5,545,302\n",
      "Trainable params: 403,602\n",
      "Non-trainable params: 5,141,700\n",
      "__________________________________________________________________________________________________\n",
      "Train on 6087 samples, validate on 676 samples\n",
      "Epoch 1/30\n",
      "6087/6087 [==============================] - 14s 2ms/step - loss: 0.1710 - acc: 0.9428 - val_loss: 0.1034 - val_acc: 0.9645\n",
      "Epoch 2/30\n",
      "6087/6087 [==============================] - 12s 2ms/step - loss: 0.0871 - acc: 0.9732 - val_loss: 0.0737 - val_acc: 0.9763\n",
      "Epoch 3/30\n",
      "6087/6087 [==============================] - 12s 2ms/step - loss: 0.0678 - acc: 0.9791 - val_loss: 0.0798 - val_acc: 0.9793\n",
      "Epoch 4/30\n",
      "6087/6087 [==============================] - 12s 2ms/step - loss: 0.0546 - acc: 0.9821 - val_loss: 0.0725 - val_acc: 0.9778\n",
      "Epoch 5/30\n",
      "6087/6087 [==============================] - 12s 2ms/step - loss: 0.0563 - acc: 0.9828 - val_loss: 0.0728 - val_acc: 0.9704\n",
      "Epoch 6/30\n",
      "6087/6087 [==============================] - 13s 2ms/step - loss: 0.0441 - acc: 0.9865 - val_loss: 0.0673 - val_acc: 0.9749\n",
      "Epoch 7/30\n",
      "6087/6087 [==============================] - 12s 2ms/step - loss: 0.0306 - acc: 0.9918 - val_loss: 0.0453 - val_acc: 0.9837\n",
      "Epoch 8/30\n",
      "6087/6087 [==============================] - 12s 2ms/step - loss: 0.0266 - acc: 0.9923 - val_loss: 0.0652 - val_acc: 0.9822\n",
      "Epoch 9/30\n",
      "6087/6087 [==============================] - 12s 2ms/step - loss: 0.0216 - acc: 0.9944 - val_loss: 0.0786 - val_acc: 0.9837\n",
      "Epoch 10/30\n",
      "6087/6087 [==============================] - 12s 2ms/step - loss: 0.0178 - acc: 0.9954 - val_loss: 0.0804 - val_acc: 0.9808\n",
      "Epoch 11/30\n",
      "6087/6087 [==============================] - 12s 2ms/step - loss: 0.0154 - acc: 0.9961 - val_loss: 0.0613 - val_acc: 0.9852\n",
      "Epoch 12/30\n",
      "6087/6087 [==============================] - 12s 2ms/step - loss: 0.0111 - acc: 0.9980 - val_loss: 0.1154 - val_acc: 0.9763\n",
      "Epoch 13/30\n",
      "6087/6087 [==============================] - 12s 2ms/step - loss: 0.0198 - acc: 0.9943 - val_loss: 0.0730 - val_acc: 0.9778\n",
      "Restoring model weights from the end of the best epoch\n",
      "Epoch 00013: early stopping\n",
      "WARNING:tensorflow:From C:\\Users\\josep\\Anaconda3\\envs\\NLP\\lib\\site-packages\\keras\\backend\\tensorflow_backend.py:3445: calling dropout (from tensorflow.python.ops.nn_ops) with keep_prob is deprecated and will be removed in a future version.\n",
      "Instructions for updating:\n",
      "Please use `rate` instead of `keep_prob`. Rate should be set to `rate = 1 - keep_prob`.\n"
     ]
    },
    {
     "name": "stderr",
     "output_type": "stream",
     "text": [
      "W0512 23:09:11.215437 26228 deprecation.py:506] From C:\\Users\\josep\\Anaconda3\\envs\\NLP\\lib\\site-packages\\keras\\backend\\tensorflow_backend.py:3445: calling dropout (from tensorflow.python.ops.nn_ops) with keep_prob is deprecated and will be removed in a future version.\n",
      "Instructions for updating:\n",
      "Please use `rate` instead of `keep_prob`. Rate should be set to `rate = 1 - keep_prob`.\n"
     ]
    },
    {
     "name": "stdout",
     "output_type": "stream",
     "text": [
      "__________________________________________________________________________________________________\n",
      "Layer (type)                    Output Shape         Param #     Connected to                     \n",
      "==================================================================================================\n",
      "In (InputLayer)                 (None, 150)          0                                            \n",
      "__________________________________________________________________________________________________\n",
      "Embeddings (Embedding)          (None, 150, 100)     5141700     In[0][0]                         \n",
      "__________________________________________________________________________________________________\n",
      "BiLSTM_Stack (Sequential)       (None, 150, 200)     403200      Embeddings[0][0]                 \n",
      "__________________________________________________________________________________________________\n",
      "Attention (Sequential)          (None, 150, 1)       168705      BiLSTM_Stack[1][0]               \n",
      "__________________________________________________________________________________________________\n",
      "Multiply (Multiply)             (None, 150, 200)     0           BiLSTM_Stack[1][0]               \n",
      "                                                                 Attention[1][0]                  \n",
      "__________________________________________________________________________________________________\n",
      "Out (Sequential)                (None, 1)            201         Multiply[0][0]                   \n",
      "==================================================================================================\n",
      "Total params: 5,713,806\n",
      "Trainable params: 572,106\n",
      "Non-trainable params: 5,141,700\n",
      "__________________________________________________________________________________________________\n",
      "Train on 6087 samples, validate on 676 samples\n",
      "Epoch 1/30\n",
      "6087/6087 [==============================] - 16s 3ms/step - loss: 0.1911 - acc: 0.9392 - val_loss: 0.1323 - val_acc: 0.9571\n",
      "Epoch 2/30\n",
      "6087/6087 [==============================] - 14s 2ms/step - loss: 0.0972 - acc: 0.9673 - val_loss: 0.0909 - val_acc: 0.9763\n",
      "Epoch 3/30\n",
      "6087/6087 [==============================] - 14s 2ms/step - loss: 0.0960 - acc: 0.9714 - val_loss: 0.0726 - val_acc: 0.9749\n",
      "Epoch 4/30\n",
      "6087/6087 [==============================] - 14s 2ms/step - loss: 0.0979 - acc: 0.9693 - val_loss: 0.0769 - val_acc: 0.9778\n",
      "Epoch 5/30\n",
      "6087/6087 [==============================] - 14s 2ms/step - loss: 0.0704 - acc: 0.9783 - val_loss: 0.0647 - val_acc: 0.9793\n",
      "Epoch 6/30\n",
      "6087/6087 [==============================] - 14s 2ms/step - loss: 0.0430 - acc: 0.9883 - val_loss: 0.0630 - val_acc: 0.9822\n",
      "Epoch 7/30\n",
      "6087/6087 [==============================] - 14s 2ms/step - loss: 0.0360 - acc: 0.9895 - val_loss: 0.0682 - val_acc: 0.9822\n",
      "Epoch 8/30\n",
      "6087/6087 [==============================] - 14s 2ms/step - loss: 0.0363 - acc: 0.9913 - val_loss: 0.0721 - val_acc: 0.9793\n",
      "Epoch 9/30\n",
      "6087/6087 [==============================] - 14s 2ms/step - loss: 0.0313 - acc: 0.9923 - val_loss: 0.0536 - val_acc: 0.9778\n",
      "Epoch 10/30\n",
      "6087/6087 [==============================] - 14s 2ms/step - loss: 0.0343 - acc: 0.9910 - val_loss: 0.0481 - val_acc: 0.9837\n",
      "Epoch 11/30\n",
      "6087/6087 [==============================] - 14s 2ms/step - loss: 0.0259 - acc: 0.9938 - val_loss: 0.0462 - val_acc: 0.9882\n",
      "Epoch 12/30\n",
      "6087/6087 [==============================] - 14s 2ms/step - loss: 0.0160 - acc: 0.9966 - val_loss: 0.0379 - val_acc: 0.9882\n",
      "Epoch 13/30\n",
      "6087/6087 [==============================] - 14s 2ms/step - loss: 0.0179 - acc: 0.9947 - val_loss: 0.0394 - val_acc: 0.9852\n",
      "Epoch 14/30\n",
      "6087/6087 [==============================] - 14s 2ms/step - loss: 0.0163 - acc: 0.9961 - val_loss: 0.0461 - val_acc: 0.9867\n",
      "Epoch 15/30\n",
      "6087/6087 [==============================] - 14s 2ms/step - loss: 0.0094 - acc: 0.9985 - val_loss: 0.0664 - val_acc: 0.9896\n",
      "Epoch 16/30\n",
      "6087/6087 [==============================] - 14s 2ms/step - loss: 0.0265 - acc: 0.9936 - val_loss: 0.0356 - val_acc: 0.9882\n",
      "Epoch 17/30\n",
      "6087/6087 [==============================] - 14s 2ms/step - loss: 0.0096 - acc: 0.9979 - val_loss: 0.0430 - val_acc: 0.9911\n",
      "Epoch 18/30\n",
      "6087/6087 [==============================] - 14s 2ms/step - loss: 0.1141 - acc: 0.9704 - val_loss: 0.0610 - val_acc: 0.9749\n",
      "Epoch 19/30\n",
      "6087/6087 [==============================] - 14s 2ms/step - loss: 0.0282 - acc: 0.9897 - val_loss: 0.0349 - val_acc: 0.9822\n",
      "Epoch 20/30\n",
      "6087/6087 [==============================] - 14s 2ms/step - loss: 0.0118 - acc: 0.9966 - val_loss: 0.0377 - val_acc: 0.9852\n",
      "Epoch 21/30\n",
      "6087/6087 [==============================] - 14s 2ms/step - loss: 0.0061 - acc: 0.9990 - val_loss: 0.0496 - val_acc: 0.9882\n",
      "Epoch 22/30\n",
      "6087/6087 [==============================] - 14s 2ms/step - loss: 0.0070 - acc: 0.9984 - val_loss: 0.0441 - val_acc: 0.9882\n",
      "Epoch 23/30\n",
      "6087/6087 [==============================] - 14s 2ms/step - loss: 0.0038 - acc: 0.9992 - val_loss: 0.0491 - val_acc: 0.9882\n",
      "Epoch 24/30\n",
      "6087/6087 [==============================] - 14s 2ms/step - loss: 0.0034 - acc: 0.9995 - val_loss: 0.0449 - val_acc: 0.9882\n",
      "Epoch 25/30\n",
      "6087/6087 [==============================] - 14s 2ms/step - loss: 0.0030 - acc: 0.9995 - val_loss: 0.0547 - val_acc: 0.9882\n",
      "Restoring model weights from the end of the best epoch\n",
      "Epoch 00025: early stopping\n"
     ]
    }
   ],
   "source": [
    "param_grid = {\n",
    "    \"use_atention\": [True],\n",
    "    \"rnn_stack_size\": [2],\n",
    "    \"mlp_model\": [\n",
    "        Sequential([\n",
    "            TimeDistributed(Dense(1))\n",
    "        ]),\n",
    "        Sequential([\n",
    "            TimeDistributed(Dense(512, activation=\"relu\")),\n",
    "            Dropout(0.5),\n",
    "            TimeDistributed(Dense(128, activation=\"relu\")),\n",
    "            Dropout(0.5),\n",
    "            TimeDistributed(Dense(1))\n",
    "        ])\n",
    "    ]\n",
    "}\n",
    "\n",
    "history, best_index = tune_model(create_rnn_model, param_grid=param_grid, epochs=30, patience=6, verbose=True)"
   ]
  },
  {
   "cell_type": "code",
   "execution_count": 29,
   "metadata": {},
   "outputs": [
    {
     "name": "stdout",
     "output_type": "stream",
     "text": [
      "Tune Results: #2, {'use_atention': True, 'rnn_stack_size': 2, 'mlp_model': <keras.engine.sequential.Sequential object at 0x0000025C1965E198>}\n"
     ]
    }
   ],
   "source": [
    "print(\"Tune Results: #{}, {}\".format(best_index + 1, dict(zip(param_grid.keys(), history[best_index][\"params\"]))))"
   ]
  },
  {
   "cell_type": "code",
   "execution_count": 30,
   "metadata": {},
   "outputs": [
    {
     "data": {
      "image/png": "[encoded data removed]",
      "text/plain": [
       "<Figure size 432x288 with 1 Axes>"
      ]
     },
     "metadata": {
      "needs_background": "light"
     },
     "output_type": "display_data"
    }
   ],
   "source": [
    "plot_history(history[best_index][\"fit_history\"])"
   ]
  },
  {
   "cell_type": "code",
   "execution_count": 31,
   "metadata": {},
   "outputs": [
    {
     "name": "stdout",
     "output_type": "stream",
     "text": [
      "              precision    recall  f1-score   support\n",
      "\n",
      "           0       1.00      1.00      1.00      5212\n",
      "           1       0.99      0.99      0.99       875\n",
      "\n",
      "   micro avg       1.00      1.00      1.00      6087\n",
      "   macro avg       1.00      0.99      0.99      6087\n",
      "weighted avg       1.00      1.00      1.00      6087\n",
      "\n"
     ]
    }
   ],
   "source": [
    "evaluate_model(history[best_index][\"model\"], train_sequences, train_y)"
   ]
  },
  {
   "cell_type": "code",
   "execution_count": 32,
   "metadata": {},
   "outputs": [
    {
     "name": "stdout",
     "output_type": "stream",
     "text": [
      "              precision    recall  f1-score   support\n",
      "\n",
      "           0       0.99      0.99      0.99       592\n",
      "           1       0.91      0.95      0.93        84\n",
      "\n",
      "   micro avg       0.98      0.98      0.98       676\n",
      "   macro avg       0.95      0.97      0.96       676\n",
      "weighted avg       0.98      0.98      0.98       676\n",
      "\n"
     ]
    }
   ],
   "source": [
    "evaluate_model(history[best_index][\"model\"], valid_sequences, valid_y)"
   ]
  },
  {
   "cell_type": "code",
   "execution_count": 33,
   "metadata": {},
   "outputs": [
    {
     "name": "stdout",
     "output_type": "stream",
     "text": [
      "              precision    recall  f1-score   support\n",
      "\n",
      "           0       0.99      1.00      0.99      1422\n",
      "           1       0.97      0.97      0.97       268\n",
      "\n",
      "   micro avg       0.99      0.99      0.99      1690\n",
      "   macro avg       0.98      0.98      0.98      1690\n",
      "weighted avg       0.99      0.99      0.99      1690\n",
      "\n"
     ]
    }
   ],
   "source": [
    "evaluate_model(history[best_index][\"model\"], test_sequences, test_y)"
   ]
  },
  {
   "cell_type": "code",
   "execution_count": 34,
   "metadata": {},
   "outputs": [],
   "source": [
    "for entry in history:\n",
    "    clean_model(entry[\"model\"])"
   ]
  },
  {
   "cell_type": "markdown",
   "metadata": {},
   "source": [
    "<h2>BiLSTM on Pretrained (Glove + ELMo) Embeddings (Not Working)</h2>"
   ]
  },
  {
   "cell_type": "code",
   "execution_count": null,
   "metadata": {},
   "outputs": [],
   "source": [
    "class ELMo(Layer):\n",
    "    \n",
    "    def __init__(self, index_word, output_mode=\"default\", **kwargs):\n",
    "        \n",
    "        assert output_mode in [\"default\", \"word_emb\", \"lstm_outputs1\", \"lstm_outputs2\", \"elmo\"]\n",
    "        \n",
    "        self.index_word = index_word\n",
    "        self.output_mode = output_mode\n",
    "        \n",
    "        super().__init__(**kwargs)\n",
    "    \n",
    "    \n",
    "    def build(self, input_shape):\n",
    "        \n",
    "        self.max_length = input_shape[1]\n",
    "        \n",
    "        self.word_mapping = [x[1] for x in sorted(self.index_word.items(), key=operator.itemgetter(0))]\n",
    "        self.lookup_table = tf.contrib.lookup.index_to_string_table_from_tensor(self.word_mapping, default_value=\"<UNK>\")\n",
    "        tf.tables_initializer().run(session=K.get_session())\n",
    "        \n",
    "        self.elmo_model = hub.Module(\"https://tfhub.dev/google/elmo/2\", trainable=self.trainable)\n",
    "        \n",
    "        super().build(input_shape)\n",
    "        \n",
    "        \n",
    "    def call(self, x):\n",
    "        x = tf.cast(x, dtype=tf.int64)\n",
    "        \n",
    "        sequence_lengths = tf.cast(tf.count_nonzero(x, axis=1), dtype=tf.int32)\n",
    "        strings = self.lookup_table.lookup(x)\n",
    "        \n",
    "        inputs = {\n",
    "            \"tokens\": strings,\n",
    "            \"sequence_len\": sequence_lengths\n",
    "        }\n",
    "\n",
    "        y = self.elmo_model(\n",
    "            inputs,\n",
    "            signature=\"tokens\",\n",
    "            as_dict=True\n",
    "        )[self.output_mode]\n",
    "        \n",
    "        with tf.Session() as sess:\n",
    "            sess.run(tf.global_variables_initializer())\n",
    "            sess.run(tf.tables_initializer())\n",
    "            # return average of ELMo features\n",
    "            return sess.run(tf.reduce_mean(y, 1))\n",
    "    \n",
    "    \n",
    "    def compute_output_shape(self, input_shape):\n",
    "        \n",
    "        if self.output_mode == \"default\":\n",
    "            return (input_shape[0], 1024)\n",
    "        if self.output_mode == \"word_emb\":\n",
    "            return (input_shape[0], self.max_length, 512)\n",
    "        if self.output_mode == \"lstm_outputs1\":\n",
    "            return (input_shape[0], self.max_length, 1024)\n",
    "        if self.output_mode == \"lstm_outputs2\":\n",
    "            return (input_shape[0], self.max_length, 1024)\n",
    "        if self.output_mode == \"elmo\":\n",
    "            return (input_shape[0], self.max_length, 1024)\n",
    "        \n",
    "        \n",
    "    def get_config(self):\n",
    "        config = {\n",
    "            \"word_index\": self.word_index,\n",
    "            \"output_mode\": self.output_mode \n",
    "        }\n",
    "        \n",
    "        return list(config.items())"
   ]
  },
  {
   "cell_type": "code",
   "execution_count": null,
   "metadata": {},
   "outputs": [],
   "source": [
    "model = Sequential(name=\"BiLSTM\")\n",
    "\n",
    "model.add(InputLayer((1,), dtype=tf.string))\n",
    "model.add(Lambda(elmo_vectors))\n",
    "#model.add(ELMo(tokenizer.index_word, trainable=False))\n",
    "#model.add(Bidirectional(CuDNNLSTM(100)))\n",
    "model.add(Dense(1, activation=\"sigmoid\"))\n",
    "\n",
    "model.summary()"
   ]
  },
  {
   "cell_type": "code",
   "execution_count": null,
   "metadata": {},
   "outputs": [],
   "source": [
    "model.compile(optimizer=\"adam\", loss=\"binary_crossentropy\", metrics=[\"accuracy\"])"
   ]
  },
  {
   "cell_type": "code",
   "execution_count": null,
   "metadata": {},
   "outputs": [],
   "source": [
    "tf.tables_initializer().run(session=K.get_session())\n",
    "history = model.fit(\n",
    "    train_sequences, train_y,\n",
    "    validation_data=(valid_sequences, valid_y),\n",
    "    batch_size=1,\n",
    "    epochs=1,\n",
    "    #callbacks=[EarlyStopping(patience=6, restore_best_weights=True, verbose=1)],\n",
    "    verbose=1\n",
    ")"
   ]
  },
  {
   "cell_type": "code",
   "execution_count": null,
   "metadata": {},
   "outputs": [],
   "source": [
    "plot_history(history)"
   ]
  },
  {
   "cell_type": "code",
   "execution_count": null,
   "metadata": {},
   "outputs": [],
   "source": [
    "evaluate_model(model, train_sequences, train_y)"
   ]
  },
  {
   "cell_type": "code",
   "execution_count": null,
   "metadata": {},
   "outputs": [],
   "source": [
    "evaluate_model(model, valid_sequences, valid_y)"
   ]
  },
  {
   "cell_type": "code",
   "execution_count": null,
   "metadata": {},
   "outputs": [],
   "source": [
    "evaluate_model(model, test_sequences, test_y)"
   ]
  },
  {
   "cell_type": "code",
   "execution_count": null,
   "metadata": {},
   "outputs": [],
   "source": [
    "clean_model(model)"
   ]
  },
  {
   "cell_type": "code",
   "execution_count": null,
   "metadata": {},
   "outputs": [],
   "source": []
  }
 ],
 "metadata": {
  "kernelspec": {
   "display_name": "Python 3",
   "language": "python",
   "name": "python3"
  },
  "language_info": {
   "codemirror_mode": {
    "name": "ipython",
    "version": 3
   },
   "file_extension": ".py",
   "mimetype": "text/x-python",
   "name": "python",
   "nbconvert_exporter": "python",
   "pygments_lexer": "ipython3",
   "version": "3.5.2"
  }
 },
 "nbformat": 4,
 "nbformat_minor": 2
}
